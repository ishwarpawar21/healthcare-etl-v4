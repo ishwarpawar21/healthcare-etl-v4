{
 "cells": [
  {
   "cell_type": "code",
   "execution_count": 1,
   "id": "12100e33-3310-4bfc-965b-3018ab05c284",
   "metadata": {},
   "outputs": [],
   "source": [
    "# Import necessary libraries\n",
    "import pandas as pd\n",
    "import pyspark.sql.functions as F\n",
    "from pyspark.sql import SparkSession\n",
    "from kedro.io import DataCatalog\n",
    "from datetime import datetime"
   ]
  },
  {
   "cell_type": "code",
   "execution_count": 2,
   "id": "2ea8efdc-4ae4-4b47-b7bd-94bfff7be55c",
   "metadata": {},
   "outputs": [
    {
     "name": "stdout",
     "output_type": "stream",
     "text": [
      "The kedro.ipython extension is already loaded. To reload it, use:\n",
      "  %reload_ext kedro.ipython\n"
     ]
    }
   ],
   "source": [
    "%load_ext kedro.ipython"
   ]
  },
  {
   "cell_type": "code",
   "execution_count": 3,
   "id": "55728009-d671-4231-b94d-47aec2b540f8",
   "metadata": {},
   "outputs": [
    {
     "data": {
      "text/html": [
       "<pre style=\"white-space:pre;overflow-x:auto;line-height:normal;font-family:Menlo,'DejaVu Sans Mono',consolas,'Courier New',monospace\"><span style=\"color: #7fbfbf; text-decoration-color: #7fbfbf\">                    </span><span style=\"color: #000080; text-decoration-color: #000080\">INFO    </span> Registered line magic <span style=\"color: #008000; text-decoration-color: #008000\">'%reload_kedro'</span>                                   <a href=\"file:///opt/anaconda3/envs/kedro-environment/lib/python3.8/site-packages/kedro/ipython/__init__.py\" target=\"_blank\"><span style=\"color: #7f7f7f; text-decoration-color: #7f7f7f\">__init__.py</span></a><span style=\"color: #7f7f7f; text-decoration-color: #7f7f7f\">:</span><a href=\"file:///opt/anaconda3/envs/kedro-environment/lib/python3.8/site-packages/kedro/ipython/__init__.py#58\" target=\"_blank\"><span style=\"color: #7f7f7f; text-decoration-color: #7f7f7f\">58</span></a>\n",
       "</pre>\n"
      ],
      "text/plain": [
       "\u001b[2;36m                   \u001b[0m\u001b[2;36m \u001b[0m\u001b[34mINFO    \u001b[0m Registered line magic \u001b[32m'%reload_kedro'\u001b[0m                                   \u001b]8;id=37324;file:///opt/anaconda3/envs/kedro-environment/lib/python3.8/site-packages/kedro/ipython/__init__.py\u001b\\\u001b[2m__init__.py\u001b[0m\u001b]8;;\u001b\\\u001b[2m:\u001b[0m\u001b]8;id=974465;file:///opt/anaconda3/envs/kedro-environment/lib/python3.8/site-packages/kedro/ipython/__init__.py#58\u001b\\\u001b[2m58\u001b[0m\u001b]8;;\u001b\\\n"
      ]
     },
     "metadata": {},
     "output_type": "display_data"
    },
    {
     "data": {
      "text/html": [
       "<pre style=\"white-space:pre;overflow-x:auto;line-height:normal;font-family:Menlo,'DejaVu Sans Mono',consolas,'Courier New',monospace\"><span style=\"color: #7fbfbf; text-decoration-color: #7fbfbf\">                    </span><span style=\"color: #000080; text-decoration-color: #000080\">INFO    </span> Registered line magic <span style=\"color: #008000; text-decoration-color: #008000\">'%load_node'</span>                                      <a href=\"file:///opt/anaconda3/envs/kedro-environment/lib/python3.8/site-packages/kedro/ipython/__init__.py\" target=\"_blank\"><span style=\"color: #7f7f7f; text-decoration-color: #7f7f7f\">__init__.py</span></a><span style=\"color: #7f7f7f; text-decoration-color: #7f7f7f\">:</span><a href=\"file:///opt/anaconda3/envs/kedro-environment/lib/python3.8/site-packages/kedro/ipython/__init__.py#60\" target=\"_blank\"><span style=\"color: #7f7f7f; text-decoration-color: #7f7f7f\">60</span></a>\n",
       "</pre>\n"
      ],
      "text/plain": [
       "\u001b[2;36m                   \u001b[0m\u001b[2;36m \u001b[0m\u001b[34mINFO    \u001b[0m Registered line magic \u001b[32m'%load_node'\u001b[0m                                      \u001b]8;id=559760;file:///opt/anaconda3/envs/kedro-environment/lib/python3.8/site-packages/kedro/ipython/__init__.py\u001b\\\u001b[2m__init__.py\u001b[0m\u001b]8;;\u001b\\\u001b[2m:\u001b[0m\u001b]8;id=346738;file:///opt/anaconda3/envs/kedro-environment/lib/python3.8/site-packages/kedro/ipython/__init__.py#60\u001b\\\u001b[2m60\u001b[0m\u001b]8;;\u001b\\\n"
      ]
     },
     "metadata": {},
     "output_type": "display_data"
    },
    {
     "data": {
      "text/html": [
       "<pre style=\"white-space:pre;overflow-x:auto;line-height:normal;font-family:Menlo,'DejaVu Sans Mono',consolas,'Courier New',monospace\"><span style=\"color: #7fbfbf; text-decoration-color: #7fbfbf\">                    </span><span style=\"color: #000080; text-decoration-color: #000080\">INFO    </span> Resolved project path as:                                              <a href=\"file:///opt/anaconda3/envs/kedro-environment/lib/python3.8/site-packages/kedro/ipython/__init__.py\" target=\"_blank\"><span style=\"color: #7f7f7f; text-decoration-color: #7f7f7f\">__init__.py</span></a><span style=\"color: #7f7f7f; text-decoration-color: #7f7f7f\">:</span><a href=\"file:///opt/anaconda3/envs/kedro-environment/lib/python3.8/site-packages/kedro/ipython/__init__.py#171\" target=\"_blank\"><span style=\"color: #7f7f7f; text-decoration-color: #7f7f7f\">171</span></a>\n",
       "<span style=\"color: #7fbfbf; text-decoration-color: #7fbfbf\">                    </span>         <span style=\"color: #800080; text-decoration-color: #800080\">/Users/ishwarpawar/Desktop/Assesment/ETL/</span><span style=\"color: #ff00ff; text-decoration-color: #ff00ff\">healthcare-etl-v4.</span>            <span style=\"color: #7f7f7f; text-decoration-color: #7f7f7f\">               </span>\n",
       "<span style=\"color: #7fbfbf; text-decoration-color: #7fbfbf\">                    </span>         To set a different path, run <span style=\"color: #008000; text-decoration-color: #008000\">'%reload_kedro &lt;project_root&gt;'</span>            <span style=\"color: #7f7f7f; text-decoration-color: #7f7f7f\">               </span>\n",
       "</pre>\n"
      ],
      "text/plain": [
       "\u001b[2;36m                   \u001b[0m\u001b[2;36m \u001b[0m\u001b[34mINFO    \u001b[0m Resolved project path as:                                              \u001b]8;id=971113;file:///opt/anaconda3/envs/kedro-environment/lib/python3.8/site-packages/kedro/ipython/__init__.py\u001b\\\u001b[2m__init__.py\u001b[0m\u001b]8;;\u001b\\\u001b[2m:\u001b[0m\u001b]8;id=213639;file:///opt/anaconda3/envs/kedro-environment/lib/python3.8/site-packages/kedro/ipython/__init__.py#171\u001b\\\u001b[2m171\u001b[0m\u001b]8;;\u001b\\\n",
       "\u001b[2;36m                    \u001b[0m         \u001b[35m/Users/ishwarpawar/Desktop/Assesment/ETL/\u001b[0m\u001b[95mhealthcare-etl-v4.\u001b[0m            \u001b[2m               \u001b[0m\n",
       "\u001b[2;36m                    \u001b[0m         To set a different path, run \u001b[32m'%reload_kedro \u001b[0m\u001b[32m<\u001b[0m\u001b[32mproject_root\u001b[0m\u001b[32m>\u001b[0m\u001b[32m'\u001b[0m            \u001b[2m               \u001b[0m\n"
      ]
     },
     "metadata": {},
     "output_type": "display_data"
    },
    {
     "data": {
      "text/html": [
       "<pre style=\"white-space:pre;overflow-x:auto;line-height:normal;font-family:Menlo,'DejaVu Sans Mono',consolas,'Courier New',monospace\"><span style=\"color: #7fbfbf; text-decoration-color: #7fbfbf\">[07/22/24 01:49:04] </span><span style=\"color: #000080; text-decoration-color: #000080\">INFO    </span> Kedro project healthcare-etl-v4                                        <a href=\"file:///opt/anaconda3/envs/kedro-environment/lib/python3.8/site-packages/kedro/ipython/__init__.py\" target=\"_blank\"><span style=\"color: #7f7f7f; text-decoration-color: #7f7f7f\">__init__.py</span></a><span style=\"color: #7f7f7f; text-decoration-color: #7f7f7f\">:</span><a href=\"file:///opt/anaconda3/envs/kedro-environment/lib/python3.8/site-packages/kedro/ipython/__init__.py#141\" target=\"_blank\"><span style=\"color: #7f7f7f; text-decoration-color: #7f7f7f\">141</span></a>\n",
       "</pre>\n"
      ],
      "text/plain": [
       "\u001b[2;36m[07/22/24 01:49:04]\u001b[0m\u001b[2;36m \u001b[0m\u001b[34mINFO    \u001b[0m Kedro project healthcare-etl-v4                                        \u001b]8;id=637198;file:///opt/anaconda3/envs/kedro-environment/lib/python3.8/site-packages/kedro/ipython/__init__.py\u001b\\\u001b[2m__init__.py\u001b[0m\u001b]8;;\u001b\\\u001b[2m:\u001b[0m\u001b]8;id=640343;file:///opt/anaconda3/envs/kedro-environment/lib/python3.8/site-packages/kedro/ipython/__init__.py#141\u001b\\\u001b[2m141\u001b[0m\u001b]8;;\u001b\\\n"
      ]
     },
     "metadata": {},
     "output_type": "display_data"
    },
    {
     "data": {
      "text/html": [
       "<pre style=\"white-space:pre;overflow-x:auto;line-height:normal;font-family:Menlo,'DejaVu Sans Mono',consolas,'Courier New',monospace\"><span style=\"color: #7fbfbf; text-decoration-color: #7fbfbf\">                    </span><span style=\"color: #000080; text-decoration-color: #000080\">INFO    </span> Defined global variable <span style=\"color: #008000; text-decoration-color: #008000\">'context'</span>, <span style=\"color: #008000; text-decoration-color: #008000\">'session'</span>, <span style=\"color: #008000; text-decoration-color: #008000\">'catalog'</span> and            <a href=\"file:///opt/anaconda3/envs/kedro-environment/lib/python3.8/site-packages/kedro/ipython/__init__.py\" target=\"_blank\"><span style=\"color: #7f7f7f; text-decoration-color: #7f7f7f\">__init__.py</span></a><span style=\"color: #7f7f7f; text-decoration-color: #7f7f7f\">:</span><a href=\"file:///opt/anaconda3/envs/kedro-environment/lib/python3.8/site-packages/kedro/ipython/__init__.py#142\" target=\"_blank\"><span style=\"color: #7f7f7f; text-decoration-color: #7f7f7f\">142</span></a>\n",
       "<span style=\"color: #7fbfbf; text-decoration-color: #7fbfbf\">                    </span>         <span style=\"color: #008000; text-decoration-color: #008000\">'pipelines'</span>                                                            <span style=\"color: #7f7f7f; text-decoration-color: #7f7f7f\">               </span>\n",
       "</pre>\n"
      ],
      "text/plain": [
       "\u001b[2;36m                   \u001b[0m\u001b[2;36m \u001b[0m\u001b[34mINFO    \u001b[0m Defined global variable \u001b[32m'context'\u001b[0m, \u001b[32m'session'\u001b[0m, \u001b[32m'catalog'\u001b[0m and            \u001b]8;id=122519;file:///opt/anaconda3/envs/kedro-environment/lib/python3.8/site-packages/kedro/ipython/__init__.py\u001b\\\u001b[2m__init__.py\u001b[0m\u001b]8;;\u001b\\\u001b[2m:\u001b[0m\u001b]8;id=807542;file:///opt/anaconda3/envs/kedro-environment/lib/python3.8/site-packages/kedro/ipython/__init__.py#142\u001b\\\u001b[2m142\u001b[0m\u001b]8;;\u001b\\\n",
       "\u001b[2;36m                    \u001b[0m         \u001b[32m'pipelines'\u001b[0m                                                            \u001b[2m               \u001b[0m\n"
      ]
     },
     "metadata": {},
     "output_type": "display_data"
    },
    {
     "data": {
      "text/html": [
       "<pre style=\"white-space:pre;overflow-x:auto;line-height:normal;font-family:Menlo,'DejaVu Sans Mono',consolas,'Courier New',monospace\"><span style=\"color: #7fbfbf; text-decoration-color: #7fbfbf\">                    </span><span style=\"color: #000080; text-decoration-color: #000080\">INFO    </span> Registered line magic <span style=\"color: #008000; text-decoration-color: #008000\">'run_viz'</span>                                        <a href=\"file:///opt/anaconda3/envs/kedro-environment/lib/python3.8/site-packages/kedro/ipython/__init__.py\" target=\"_blank\"><span style=\"color: #7f7f7f; text-decoration-color: #7f7f7f\">__init__.py</span></a><span style=\"color: #7f7f7f; text-decoration-color: #7f7f7f\">:</span><a href=\"file:///opt/anaconda3/envs/kedro-environment/lib/python3.8/site-packages/kedro/ipython/__init__.py#148\" target=\"_blank\"><span style=\"color: #7f7f7f; text-decoration-color: #7f7f7f\">148</span></a>\n",
       "</pre>\n"
      ],
      "text/plain": [
       "\u001b[2;36m                   \u001b[0m\u001b[2;36m \u001b[0m\u001b[34mINFO    \u001b[0m Registered line magic \u001b[32m'run_viz'\u001b[0m                                        \u001b]8;id=774807;file:///opt/anaconda3/envs/kedro-environment/lib/python3.8/site-packages/kedro/ipython/__init__.py\u001b\\\u001b[2m__init__.py\u001b[0m\u001b]8;;\u001b\\\u001b[2m:\u001b[0m\u001b]8;id=565774;file:///opt/anaconda3/envs/kedro-environment/lib/python3.8/site-packages/kedro/ipython/__init__.py#148\u001b\\\u001b[2m148\u001b[0m\u001b]8;;\u001b\\\n"
      ]
     },
     "metadata": {},
     "output_type": "display_data"
    }
   ],
   "source": [
    "%reload_ext kedro.ipython"
   ]
  },
  {
   "cell_type": "code",
   "execution_count": 4,
   "id": "81a6a193-5245-4f96-8b24-3651f211f9a2",
   "metadata": {},
   "outputs": [
    {
     "data": {
      "text/html": [
       "<pre style=\"white-space:pre;overflow-x:auto;line-height:normal;font-family:Menlo,'DejaVu Sans Mono',consolas,'Courier New',monospace\"></pre>\n"
      ],
      "text/plain": []
     },
     "metadata": {},
     "output_type": "display_data"
    },
    {
     "data": {
      "text/plain": [
       "\n",
       "\u001b[1m{\u001b[0m\u001b[32m'__default__'\u001b[0m: \u001b[1;35mPipeline\u001b[0m\u001b[1m(\u001b[0m\u001b[1m[\u001b[0m\n",
       "\u001b[1;35mNode\u001b[0m\u001b[1m(\u001b[0mclean_conditions_data, \u001b[32m'conditions'\u001b[0m, \u001b[32m'cleaned_conditions@csv'\u001b[0m, \u001b[32m'clean_conditions_data_node'\u001b[0m\u001b[1m)\u001b[0m,\n",
       "\u001b[1;35mNode\u001b[0m\u001b[1m(\u001b[0mclean_encounters_data, \u001b[32m'encounters'\u001b[0m, \u001b[32m'cleaned_encounters'\u001b[0m, \u001b[32m'clean_encounters_data_node'\u001b[0m\u001b[1m)\u001b[0m,\n",
       "\u001b[1;35mNode\u001b[0m\u001b[1m(\u001b[0mclean_medications_data, \u001b[32m'medications'\u001b[0m, \u001b[32m'cleaned_medications@csv'\u001b[0m, \u001b[32m'clean_medications_data_node'\u001b[0m\u001b[1m)\u001b[0m,\n",
       "\u001b[1;35mNode\u001b[0m\u001b[1m(\u001b[0mclean_symptoms_data, \u001b[32m'symptoms'\u001b[0m, \u001b[32m'cleaned_symptoms'\u001b[0m, \u001b[32m'clean_symptoms_data_node'\u001b[0m\u001b[1m)\u001b[0m,\n",
       "\u001b[1;35mNode\u001b[0m\u001b[1m(\u001b[0mclean_patients_gender_data, \u001b[32m'patient_gender'\u001b[0m, \u001b[32m'cleaned_patients_gender'\u001b[0m, \u001b[32m'cleaned_patients_gender_data_node'\u001b[0m\u001b[1m)\u001b[0m,\n",
       "\u001b[1;35mNode\u001b[0m\u001b[1m(\u001b[0mclean_patients_data, \u001b[32m'patients'\u001b[0m, \u001b[32m'cleaned_patients'\u001b[0m, \u001b[32m'cleaned_patients_node'\u001b[0m\u001b[1m)\u001b[0m,\n",
       "\u001b[1;35mNode\u001b[0m\u001b[1m(\u001b[0mextract_and_transform_symptoms, \u001b[32m'cleaned_symptoms'\u001b[0m, \u001b[32m'transformed_symptoms@csv'\u001b[0m, \u001b[32m'extract_and_transform_symptoms_node'\u001b[0m\u001b[1m)\u001b[0m,\n",
       "\u001b[1;35mNode\u001b[0m\u001b[1m(\u001b[0mmerge_data, \u001b[1m{\u001b[0m\u001b[32m'pd_database_1'\u001b[0m: \u001b[32m'cleaned_patients'\u001b[0m, \u001b[32m'pd_database_2'\u001b[0m: \u001b[32m'cleaned_patients_gender'\u001b[0m, \u001b[32m'primary_key'\u001b[0m: \u001b[32m'params:primary_key'\u001b[0m\u001b[1m}\u001b[0m, \u001b[32m'joined_patients@csv'\u001b[0m, \u001b[32m'join_patients_and_gender_node'\u001b[0m\u001b[1m)\u001b[0m,\n",
       "\u001b[1;35mNode\u001b[0m\u001b[1m(\u001b[0mjoin_datasets_spark, \u001b[1m{\u001b[0m\u001b[32m'transformed_symptoms'\u001b[0m: \u001b[32m'transformed_symptoms@spark'\u001b[0m, \u001b[32m'joined_patients'\u001b[0m: \u001b[32m'joined_patients@spark'\u001b[0m, \u001b[32m'cleaned_conditions'\u001b[0m: \u001b[32m'cleaned_conditions@spark'\u001b[0m, \u001b[32m'cleaned_medications'\u001b[0m: \u001b[32m'cleaned_medications@spark'\u001b[0m, \u001b[32m'cleaned_encounters'\u001b[0m: \u001b[32m'cleaned_encounters'\u001b[0m\u001b[1m}\u001b[0m, \u001b[32m'healthcare_master'\u001b[0m, \u001b[32m'join_datasets_spark_node'\u001b[0m\u001b[1m)\u001b[0m\n",
       "\u001b[1m]\u001b[0m\u001b[1m)\u001b[0m, \u001b[32m'data_processing'\u001b[0m: \u001b[1;35mPipeline\u001b[0m\u001b[1m(\u001b[0m\u001b[1m[\u001b[0m\n",
       "\u001b[1;35mNode\u001b[0m\u001b[1m(\u001b[0mclean_conditions_data, \u001b[32m'conditions'\u001b[0m, \u001b[32m'cleaned_conditions@csv'\u001b[0m, \u001b[32m'clean_conditions_data_node'\u001b[0m\u001b[1m)\u001b[0m,\n",
       "\u001b[1;35mNode\u001b[0m\u001b[1m(\u001b[0mclean_encounters_data, \u001b[32m'encounters'\u001b[0m, \u001b[32m'cleaned_encounters'\u001b[0m, \u001b[32m'clean_encounters_data_node'\u001b[0m\u001b[1m)\u001b[0m,\n",
       "\u001b[1;35mNode\u001b[0m\u001b[1m(\u001b[0mclean_medications_data, \u001b[32m'medications'\u001b[0m, \u001b[32m'cleaned_medications@csv'\u001b[0m, \u001b[32m'clean_medications_data_node'\u001b[0m\u001b[1m)\u001b[0m,\n",
       "\u001b[1;35mNode\u001b[0m\u001b[1m(\u001b[0mclean_symptoms_data, \u001b[32m'symptoms'\u001b[0m, \u001b[32m'cleaned_symptoms'\u001b[0m, \u001b[32m'clean_symptoms_data_node'\u001b[0m\u001b[1m)\u001b[0m,\n",
       "\u001b[1;35mNode\u001b[0m\u001b[1m(\u001b[0mclean_patients_gender_data, \u001b[32m'patient_gender'\u001b[0m, \u001b[32m'cleaned_patients_gender'\u001b[0m, \u001b[32m'cleaned_patients_gender_data_node'\u001b[0m\u001b[1m)\u001b[0m,\n",
       "\u001b[1;35mNode\u001b[0m\u001b[1m(\u001b[0mclean_patients_data, \u001b[32m'patients'\u001b[0m, \u001b[32m'cleaned_patients'\u001b[0m, \u001b[32m'cleaned_patients_node'\u001b[0m\u001b[1m)\u001b[0m,\n",
       "\u001b[1;35mNode\u001b[0m\u001b[1m(\u001b[0mextract_and_transform_symptoms, \u001b[32m'cleaned_symptoms'\u001b[0m, \u001b[32m'transformed_symptoms@csv'\u001b[0m, \u001b[32m'extract_and_transform_symptoms_node'\u001b[0m\u001b[1m)\u001b[0m,\n",
       "\u001b[1;35mNode\u001b[0m\u001b[1m(\u001b[0mmerge_data, \u001b[1m{\u001b[0m\u001b[32m'pd_database_1'\u001b[0m: \u001b[32m'cleaned_patients'\u001b[0m, \u001b[32m'pd_database_2'\u001b[0m: \u001b[32m'cleaned_patients_gender'\u001b[0m, \u001b[32m'primary_key'\u001b[0m: \u001b[32m'params:primary_key'\u001b[0m\u001b[1m}\u001b[0m, \u001b[32m'joined_patients@csv'\u001b[0m, \u001b[32m'join_patients_and_gender_node'\u001b[0m\u001b[1m)\u001b[0m,\n",
       "\u001b[1;35mNode\u001b[0m\u001b[1m(\u001b[0mjoin_datasets_spark, \u001b[1m{\u001b[0m\u001b[32m'transformed_symptoms'\u001b[0m: \u001b[32m'transformed_symptoms@spark'\u001b[0m, \u001b[32m'joined_patients'\u001b[0m: \u001b[32m'joined_patients@spark'\u001b[0m, \u001b[32m'cleaned_conditions'\u001b[0m: \u001b[32m'cleaned_conditions@spark'\u001b[0m, \u001b[32m'cleaned_medications'\u001b[0m: \u001b[32m'cleaned_medications@spark'\u001b[0m, \u001b[32m'cleaned_encounters'\u001b[0m: \u001b[32m'cleaned_encounters'\u001b[0m\u001b[1m}\u001b[0m, \u001b[32m'healthcare_master'\u001b[0m, \u001b[32m'join_datasets_spark_node'\u001b[0m\u001b[1m)\u001b[0m\n",
       "\u001b[1m]\u001b[0m\u001b[1m)\u001b[0m\u001b[1m}\u001b[0m"
      ]
     },
     "execution_count": 4,
     "metadata": {},
     "output_type": "execute_result"
    }
   ],
   "source": [
    "pipelines"
   ]
  },
  {
   "cell_type": "code",
   "execution_count": 3,
   "id": "dc29aa70-43db-44ab-9280-434a63651d01",
   "metadata": {},
   "outputs": [
    {
     "data": {
      "text/html": [
       "<pre style=\"white-space:pre;overflow-x:auto;line-height:normal;font-family:Menlo,'DejaVu Sans Mono',consolas,'Courier New',monospace\"></pre>\n"
      ],
      "text/plain": []
     },
     "metadata": {},
     "output_type": "display_data"
    },
    {
     "data": {
      "text/plain": [
       "\n",
       "\u001b[1m[\u001b[0m\n",
       "    \u001b[32m'healthcare_master'\u001b[0m,\n",
       "    \u001b[32m'transformed_symptoms@csv'\u001b[0m,\n",
       "    \u001b[32m'transformed_symptoms@spark'\u001b[0m,\n",
       "    \u001b[32m'joined_patients@csv'\u001b[0m,\n",
       "    \u001b[32m'joined_patients@spark'\u001b[0m,\n",
       "    \u001b[32m'medications'\u001b[0m,\n",
       "    \u001b[32m'cleaned_medications@csv'\u001b[0m,\n",
       "    \u001b[32m'cleaned_medications@spark'\u001b[0m,\n",
       "    \u001b[32m'symptoms'\u001b[0m,\n",
       "    \u001b[32m'cleaned_symptoms'\u001b[0m,\n",
       "    \u001b[32m'patients'\u001b[0m,\n",
       "    \u001b[32m'cleaned_patients'\u001b[0m,\n",
       "    \u001b[32m'patient_gender'\u001b[0m,\n",
       "    \u001b[32m'cleaned_patients_gender'\u001b[0m,\n",
       "    \u001b[32m'conditions'\u001b[0m,\n",
       "    \u001b[32m'cleaned_conditions@csv'\u001b[0m,\n",
       "    \u001b[32m'cleaned_conditions@spark'\u001b[0m,\n",
       "    \u001b[32m'encounters'\u001b[0m,\n",
       "    \u001b[32m'cleaned_encounters'\u001b[0m,\n",
       "    \u001b[32m'cleaned_patients_parquet'\u001b[0m,\n",
       "    \u001b[32m'parameters'\u001b[0m,\n",
       "    \u001b[32m'params:primary_key'\u001b[0m,\n",
       "    \u001b[32m'params:great_expectations_context_path'\u001b[0m\n",
       "\u001b[1m]\u001b[0m"
      ]
     },
     "execution_count": 3,
     "metadata": {},
     "output_type": "execute_result"
    }
   ],
   "source": [
    "catalog.list()"
   ]
  },
  {
   "cell_type": "code",
   "execution_count": 4,
   "id": "4d37c5ce-3c77-40f1-877e-915e53993f20",
   "metadata": {},
   "outputs": [
    {
     "data": {
      "text/html": [
       "<pre style=\"white-space:pre;overflow-x:auto;line-height:normal;font-family:Menlo,'DejaVu Sans Mono',consolas,'Courier New',monospace\"><span style=\"color: #7fbfbf; text-decoration-color: #7fbfbf\">                    </span><span style=\"color: #000080; text-decoration-color: #000080\">INFO    </span> Loading data from <span style=\"color: #ff8700; text-decoration-color: #ff8700\">healthcare_master</span> <span style=\"font-weight: bold\">(</span>SparkDataset<span style=\"font-weight: bold\">)</span><span style=\"color: #808000; text-decoration-color: #808000\">...</span>              <a href=\"file:///opt/anaconda3/envs/kedro-environment/lib/python3.10/site-packages/kedro/io/data_catalog.py\" target=\"_blank\"><span style=\"color: #7f7f7f; text-decoration-color: #7f7f7f\">data_catalog.py</span></a><span style=\"color: #7f7f7f; text-decoration-color: #7f7f7f\">:</span><a href=\"file:///opt/anaconda3/envs/kedro-environment/lib/python3.10/site-packages/kedro/io/data_catalog.py#508\" target=\"_blank\"><span style=\"color: #7f7f7f; text-decoration-color: #7f7f7f\">508</span></a>\n",
       "</pre>\n"
      ],
      "text/plain": [
       "\u001b[2;36m                   \u001b[0m\u001b[2;36m \u001b[0m\u001b[34mINFO    \u001b[0m Loading data from \u001b[38;5;208mhealthcare_master\u001b[0m \u001b[1m(\u001b[0mSparkDataset\u001b[1m)\u001b[0m\u001b[33m...\u001b[0m              \u001b]8;id=98223;file:///opt/anaconda3/envs/kedro-environment/lib/python3.10/site-packages/kedro/io/data_catalog.py\u001b\\\u001b[2mdata_catalog.py\u001b[0m\u001b]8;;\u001b\\\u001b[2m:\u001b[0m\u001b]8;id=882225;file:///opt/anaconda3/envs/kedro-environment/lib/python3.10/site-packages/kedro/io/data_catalog.py#508\u001b\\\u001b[2m508\u001b[0m\u001b]8;;\u001b\\\n"
      ]
     },
     "metadata": {},
     "output_type": "display_data"
    },
    {
     "name": "stderr",
     "output_type": "stream",
     "text": [
      "                                                                                \r"
     ]
    }
   ],
   "source": [
    "joined_patients@csv = catalog.load(\"joined_patients@csv\") "
   ]
  },
  {
   "cell_type": "code",
   "execution_count": 15,
   "id": "614008f9-739c-4cdb-be28-8707888b3efa",
   "metadata": {},
   "outputs": [
    {
     "data": {
      "text/html": [
       "<pre style=\"white-space:pre;overflow-x:auto;line-height:normal;font-family:Menlo,'DejaVu Sans Mono',consolas,'Courier New',monospace\"><span style=\"color: #7fbfbf; text-decoration-color: #7fbfbf\">[07/22/24 15:51:37] </span><span style=\"color: #000080; text-decoration-color: #000080\">INFO    </span> Loading data from <span style=\"color: #ff8700; text-decoration-color: #ff8700\">patients</span> <span style=\"font-weight: bold\">(</span>CSVDataset<span style=\"font-weight: bold\">)</span><span style=\"color: #808000; text-decoration-color: #808000\">...</span>                         <a href=\"file:///opt/anaconda3/envs/kedro-environment/lib/python3.8/site-packages/kedro/io/data_catalog.py\" target=\"_blank\"><span style=\"color: #7f7f7f; text-decoration-color: #7f7f7f\">data_catalog.py</span></a><span style=\"color: #7f7f7f; text-decoration-color: #7f7f7f\">:</span><a href=\"file:///opt/anaconda3/envs/kedro-environment/lib/python3.8/site-packages/kedro/io/data_catalog.py#508\" target=\"_blank\"><span style=\"color: #7f7f7f; text-decoration-color: #7f7f7f\">508</span></a>\n",
       "</pre>\n"
      ],
      "text/plain": [
       "\u001b[2;36m[07/22/24 15:51:37]\u001b[0m\u001b[2;36m \u001b[0m\u001b[34mINFO    \u001b[0m Loading data from \u001b[38;5;208mpatients\u001b[0m \u001b[1m(\u001b[0mCSVDataset\u001b[1m)\u001b[0m\u001b[33m...\u001b[0m                         \u001b]8;id=493377;file:///opt/anaconda3/envs/kedro-environment/lib/python3.8/site-packages/kedro/io/data_catalog.py\u001b\\\u001b[2mdata_catalog.py\u001b[0m\u001b]8;;\u001b\\\u001b[2m:\u001b[0m\u001b]8;id=512584;file:///opt/anaconda3/envs/kedro-environment/lib/python3.8/site-packages/kedro/io/data_catalog.py#508\u001b\\\u001b[2m508\u001b[0m\u001b]8;;\u001b\\\n"
      ]
     },
     "metadata": {},
     "output_type": "display_data"
    }
   ],
   "source": [
    "clean_conditions_data = catalog.load(\"patients\") "
   ]
  },
  {
   "cell_type": "code",
   "execution_count": 20,
   "id": "b033add1-87cb-4f48-89f7-baab44185638",
   "metadata": {},
   "outputs": [
    {
     "data": {
      "text/html": [
       "<pre style=\"white-space:pre;overflow-x:auto;line-height:normal;font-family:Menlo,'DejaVu Sans Mono',consolas,'Courier New',monospace\"><span style=\"color: #7fbfbf; text-decoration-color: #7fbfbf\">[07/22/24 15:57:54] </span><span style=\"color: #000080; text-decoration-color: #000080\">INFO    </span> Loading data from <span style=\"color: #ff8700; text-decoration-color: #ff8700\">joined_patients@spark</span> <span style=\"font-weight: bold\">(</span>SparkDataset<span style=\"font-weight: bold\">)</span><span style=\"color: #808000; text-decoration-color: #808000\">...</span>          <a href=\"file:///opt/anaconda3/envs/kedro-environment/lib/python3.8/site-packages/kedro/io/data_catalog.py\" target=\"_blank\"><span style=\"color: #7f7f7f; text-decoration-color: #7f7f7f\">data_catalog.py</span></a><span style=\"color: #7f7f7f; text-decoration-color: #7f7f7f\">:</span><a href=\"file:///opt/anaconda3/envs/kedro-environment/lib/python3.8/site-packages/kedro/io/data_catalog.py#508\" target=\"_blank\"><span style=\"color: #7f7f7f; text-decoration-color: #7f7f7f\">508</span></a>\n",
       "</pre>\n"
      ],
      "text/plain": [
       "\u001b[2;36m[07/22/24 15:57:54]\u001b[0m\u001b[2;36m \u001b[0m\u001b[34mINFO    \u001b[0m Loading data from \u001b[38;5;208mjoined_patients@spark\u001b[0m \u001b[1m(\u001b[0mSparkDataset\u001b[1m)\u001b[0m\u001b[33m...\u001b[0m          \u001b]8;id=826790;file:///opt/anaconda3/envs/kedro-environment/lib/python3.8/site-packages/kedro/io/data_catalog.py\u001b\\\u001b[2mdata_catalog.py\u001b[0m\u001b]8;;\u001b\\\u001b[2m:\u001b[0m\u001b]8;id=958515;file:///opt/anaconda3/envs/kedro-environment/lib/python3.8/site-packages/kedro/io/data_catalog.py#508\u001b\\\u001b[2m508\u001b[0m\u001b]8;;\u001b\\\n"
      ]
     },
     "metadata": {},
     "output_type": "display_data"
    },
    {
     "name": "stdout",
     "output_type": "stream",
     "text": [
      "9710\n",
      "conditions data loaded..\n"
     ]
    },
    {
     "data": {
      "text/html": [
       "<pre style=\"white-space:pre;overflow-x:auto;line-height:normal;font-family:Menlo,'DejaVu Sans Mono',consolas,'Courier New',monospace\"><span style=\"color: #7fbfbf; text-decoration-color: #7fbfbf\">                    </span><span style=\"color: #000080; text-decoration-color: #000080\">INFO    </span> Loading data from <span style=\"color: #ff8700; text-decoration-color: #ff8700\">cleaned_encounters</span> <span style=\"font-weight: bold\">(</span>SparkDataset<span style=\"font-weight: bold\">)</span><span style=\"color: #808000; text-decoration-color: #808000\">...</span>             <a href=\"file:///opt/anaconda3/envs/kedro-environment/lib/python3.8/site-packages/kedro/io/data_catalog.py\" target=\"_blank\"><span style=\"color: #7f7f7f; text-decoration-color: #7f7f7f\">data_catalog.py</span></a><span style=\"color: #7f7f7f; text-decoration-color: #7f7f7f\">:</span><a href=\"file:///opt/anaconda3/envs/kedro-environment/lib/python3.8/site-packages/kedro/io/data_catalog.py#508\" target=\"_blank\"><span style=\"color: #7f7f7f; text-decoration-color: #7f7f7f\">508</span></a>\n",
       "</pre>\n"
      ],
      "text/plain": [
       "\u001b[2;36m                   \u001b[0m\u001b[2;36m \u001b[0m\u001b[34mINFO    \u001b[0m Loading data from \u001b[38;5;208mcleaned_encounters\u001b[0m \u001b[1m(\u001b[0mSparkDataset\u001b[1m)\u001b[0m\u001b[33m...\u001b[0m             \u001b]8;id=186359;file:///opt/anaconda3/envs/kedro-environment/lib/python3.8/site-packages/kedro/io/data_catalog.py\u001b\\\u001b[2mdata_catalog.py\u001b[0m\u001b]8;;\u001b\\\u001b[2m:\u001b[0m\u001b]8;id=785124;file:///opt/anaconda3/envs/kedro-environment/lib/python3.8/site-packages/kedro/io/data_catalog.py#508\u001b\\\u001b[2m508\u001b[0m\u001b]8;;\u001b\\\n"
      ]
     },
     "metadata": {},
     "output_type": "display_data"
    },
    {
     "name": "stdout",
     "output_type": "stream",
     "text": [
      "Inner- 4149\n"
     ]
    }
   ],
   "source": [
    "joined_patients = catalog.load(\"joined_patients@spark\")\n",
    "print(joined_patients.count())\n",
    "print(\"conditions data loaded..\")\n",
    "cleaned_encounters = catalog.load(\"cleaned_encounters\")\n",
    "master_spark_df_p = joined_patients.join(cleaned_encounters, on='patient_id', how='inner')\n",
    "print(\"Inner-\",master_spark_df.count()) "
   ]
  },
  {
   "cell_type": "code",
   "execution_count": 27,
   "id": "e93b72be-9dbe-45ba-912e-023c697b68d2",
   "metadata": {},
   "outputs": [
    {
     "data": {
      "text/html": [
       "<pre style=\"white-space:pre;overflow-x:auto;line-height:normal;font-family:Menlo,'DejaVu Sans Mono',consolas,'Courier New',monospace\"><span style=\"color: #7fbfbf; text-decoration-color: #7fbfbf\">[07/22/24 16:01:13] </span><span style=\"color: #000080; text-decoration-color: #000080\">INFO    </span> Loading data from <span style=\"color: #ff8700; text-decoration-color: #ff8700\">cleaned_conditions@spark</span> <span style=\"font-weight: bold\">(</span>SparkDataset<span style=\"font-weight: bold\">)</span><span style=\"color: #808000; text-decoration-color: #808000\">...</span>       <a href=\"file:///opt/anaconda3/envs/kedro-environment/lib/python3.8/site-packages/kedro/io/data_catalog.py\" target=\"_blank\"><span style=\"color: #7f7f7f; text-decoration-color: #7f7f7f\">data_catalog.py</span></a><span style=\"color: #7f7f7f; text-decoration-color: #7f7f7f\">:</span><a href=\"file:///opt/anaconda3/envs/kedro-environment/lib/python3.8/site-packages/kedro/io/data_catalog.py#508\" target=\"_blank\"><span style=\"color: #7f7f7f; text-decoration-color: #7f7f7f\">508</span></a>\n",
       "</pre>\n"
      ],
      "text/plain": [
       "\u001b[2;36m[07/22/24 16:01:13]\u001b[0m\u001b[2;36m \u001b[0m\u001b[34mINFO    \u001b[0m Loading data from \u001b[38;5;208mcleaned_conditions@spark\u001b[0m \u001b[1m(\u001b[0mSparkDataset\u001b[1m)\u001b[0m\u001b[33m...\u001b[0m       \u001b]8;id=972284;file:///opt/anaconda3/envs/kedro-environment/lib/python3.8/site-packages/kedro/io/data_catalog.py\u001b\\\u001b[2mdata_catalog.py\u001b[0m\u001b]8;;\u001b\\\u001b[2m:\u001b[0m\u001b]8;id=927231;file:///opt/anaconda3/envs/kedro-environment/lib/python3.8/site-packages/kedro/io/data_catalog.py#508\u001b\\\u001b[2m508\u001b[0m\u001b]8;;\u001b\\\n"
      ]
     },
     "metadata": {},
     "output_type": "display_data"
    },
    {
     "name": "stdout",
     "output_type": "stream",
     "text": [
      "conditions data loaded..\n"
     ]
    },
    {
     "data": {
      "text/html": [
       "<pre style=\"white-space:pre;overflow-x:auto;line-height:normal;font-family:Menlo,'DejaVu Sans Mono',consolas,'Courier New',monospace\"><span style=\"color: #7fbfbf; text-decoration-color: #7fbfbf\">                    </span><span style=\"color: #000080; text-decoration-color: #000080\">INFO    </span> Loading data from <span style=\"color: #ff8700; text-decoration-color: #ff8700\">cleaned_medications@spark</span> <span style=\"font-weight: bold\">(</span>SparkDataset<span style=\"font-weight: bold\">)</span><span style=\"color: #808000; text-decoration-color: #808000\">...</span>      <a href=\"file:///opt/anaconda3/envs/kedro-environment/lib/python3.8/site-packages/kedro/io/data_catalog.py\" target=\"_blank\"><span style=\"color: #7f7f7f; text-decoration-color: #7f7f7f\">data_catalog.py</span></a><span style=\"color: #7f7f7f; text-decoration-color: #7f7f7f\">:</span><a href=\"file:///opt/anaconda3/envs/kedro-environment/lib/python3.8/site-packages/kedro/io/data_catalog.py#508\" target=\"_blank\"><span style=\"color: #7f7f7f; text-decoration-color: #7f7f7f\">508</span></a>\n",
       "</pre>\n"
      ],
      "text/plain": [
       "\u001b[2;36m                   \u001b[0m\u001b[2;36m \u001b[0m\u001b[34mINFO    \u001b[0m Loading data from \u001b[38;5;208mcleaned_medications@spark\u001b[0m \u001b[1m(\u001b[0mSparkDataset\u001b[1m)\u001b[0m\u001b[33m...\u001b[0m      \u001b]8;id=18790;file:///opt/anaconda3/envs/kedro-environment/lib/python3.8/site-packages/kedro/io/data_catalog.py\u001b\\\u001b[2mdata_catalog.py\u001b[0m\u001b]8;;\u001b\\\u001b[2m:\u001b[0m\u001b]8;id=309251;file:///opt/anaconda3/envs/kedro-environment/lib/python3.8/site-packages/kedro/io/data_catalog.py#508\u001b\\\u001b[2m508\u001b[0m\u001b]8;;\u001b\\\n"
      ]
     },
     "metadata": {},
     "output_type": "display_data"
    },
    {
     "name": "stdout",
     "output_type": "stream",
     "text": [
      "DataFrame[prescribing_date: timestamp, dispensing_date: timestamp, patient_id: string, payer_id: string, encounter_id_fkm: string, medication_code: int, medication_description: string, base_cost: double, payer_coverage: double, dispenses: int, total_cost: double, reason_code: double, reason_description: string]\n"
     ]
    },
    {
     "data": {
      "text/html": [
       "<pre style=\"white-space:pre;overflow-x:auto;line-height:normal;font-family:Menlo,'DejaVu Sans Mono',consolas,'Courier New',monospace\"><span style=\"color: #800000; text-decoration-color: #800000\">╭─────────────────────────────── </span><span style=\"color: #800000; text-decoration-color: #800000; font-weight: bold\">Traceback </span><span style=\"color: #bf7f7f; text-decoration-color: #bf7f7f; font-weight: bold\">(most recent call last)</span><span style=\"color: #800000; text-decoration-color: #800000\"> ────────────────────────────────╮</span>\n",
       "<span style=\"color: #800000; text-decoration-color: #800000\">│</span> in <span style=\"color: #00ff00; text-decoration-color: #00ff00\">&lt;module&gt;</span>:<span style=\"color: #0000ff; text-decoration-color: #0000ff\">12</span>                                                                                   <span style=\"color: #800000; text-decoration-color: #800000\">│</span>\n",
       "<span style=\"color: #800000; text-decoration-color: #800000\">│</span>                                                                                                  <span style=\"color: #800000; text-decoration-color: #800000\">│</span>\n",
       "<span style=\"color: #800000; text-decoration-color: #800000\">│</span>   <span style=\"color: #7f7f7f; text-decoration-color: #7f7f7f\"> 9 # Rename columns to a consistent format (if needed)</span>                                         <span style=\"color: #800000; text-decoration-color: #800000\">│</span>\n",
       "<span style=\"color: #800000; text-decoration-color: #800000\">│</span>   <span style=\"color: #7f7f7f; text-decoration-color: #7f7f7f\">10 </span><span style=\"color: #00ffff; text-decoration-color: #00ffff\">print</span>(cleaned_encounters)                                                                   <span style=\"color: #800000; text-decoration-color: #800000\">│</span>\n",
       "<span style=\"color: #800000; text-decoration-color: #800000\">│</span>   <span style=\"color: #7f7f7f; text-decoration-color: #7f7f7f\">11 </span>cleaned_conditions_df= cleaned_conditions_df.withColumnRenamed(<span style=\"color: #808000; text-decoration-color: #808000\">\"encounter_id_fkm\"</span>,<span style=\"color: #808000; text-decoration-color: #808000\">\"encou</span>    <span style=\"color: #800000; text-decoration-color: #800000\">│</span>\n",
       "<span style=\"color: #800000; text-decoration-color: #800000\">│</span> <span style=\"color: #800000; text-decoration-color: #800000\">❱ </span>12 master_spark_df = cleaned_conditions_df.join(cleaned_encounters, on=<span style=\"color: #808000; text-decoration-color: #808000\">'encounter_id'</span>, how=    <span style=\"color: #800000; text-decoration-color: #800000\">│</span>\n",
       "<span style=\"color: #800000; text-decoration-color: #800000\">│</span>   <span style=\"color: #7f7f7f; text-decoration-color: #7f7f7f\">13 </span><span style=\"color: #00ffff; text-decoration-color: #00ffff\">print</span>(<span style=\"color: #808000; text-decoration-color: #808000\">\"Inner-\"</span>,master_spark_df.count())                                                     <span style=\"color: #800000; text-decoration-color: #800000\">│</span>\n",
       "<span style=\"color: #800000; text-decoration-color: #800000\">│</span>   <span style=\"color: #7f7f7f; text-decoration-color: #7f7f7f\">14 </span>                                                                                            <span style=\"color: #800000; text-decoration-color: #800000\">│</span>\n",
       "<span style=\"color: #800000; text-decoration-color: #800000\">│</span>   <span style=\"color: #7f7f7f; text-decoration-color: #7f7f7f\">15 </span>                                                                                            <span style=\"color: #800000; text-decoration-color: #800000\">│</span>\n",
       "<span style=\"color: #800000; text-decoration-color: #800000\">│</span>                                                                                                  <span style=\"color: #800000; text-decoration-color: #800000\">│</span>\n",
       "<span style=\"color: #800000; text-decoration-color: #800000\">│</span> <span style=\"color: #bfbf7f; text-decoration-color: #bfbf7f\">/opt/anaconda3/envs/kedro-environment/lib/python3.8/site-packages/pyspark/sql/</span><span style=\"color: #808000; text-decoration-color: #808000; font-weight: bold\">dataframe.py</span>:<span style=\"color: #0000ff; text-decoration-color: #0000ff\">2491</span>  <span style=\"color: #800000; text-decoration-color: #800000\">│</span>\n",
       "<span style=\"color: #800000; text-decoration-color: #800000\">│</span> in <span style=\"color: #00ff00; text-decoration-color: #00ff00\">join</span>                                                                                          <span style=\"color: #800000; text-decoration-color: #800000\">│</span>\n",
       "<span style=\"color: #800000; text-decoration-color: #800000\">│</span>                                                                                                  <span style=\"color: #800000; text-decoration-color: #800000\">│</span>\n",
       "<span style=\"color: #800000; text-decoration-color: #800000\">│</span>   <span style=\"color: #7f7f7f; text-decoration-color: #7f7f7f\">2488 </span><span style=\"color: #7f7f7f; text-decoration-color: #7f7f7f\">│   │   │   </span><span style=\"color: #0000ff; text-decoration-color: #0000ff\">if</span> on <span style=\"color: #ff00ff; text-decoration-color: #ff00ff\">is</span> <span style=\"color: #0000ff; text-decoration-color: #0000ff\">None</span>:                                                                <span style=\"color: #800000; text-decoration-color: #800000\">│</span>\n",
       "<span style=\"color: #800000; text-decoration-color: #800000\">│</span>   <span style=\"color: #7f7f7f; text-decoration-color: #7f7f7f\">2489 </span><span style=\"color: #7f7f7f; text-decoration-color: #7f7f7f\">│   │   │   │   </span>on = <span style=\"color: #00ffff; text-decoration-color: #00ffff\">self</span>._jseq([])                                                       <span style=\"color: #800000; text-decoration-color: #800000\">│</span>\n",
       "<span style=\"color: #800000; text-decoration-color: #800000\">│</span>   <span style=\"color: #7f7f7f; text-decoration-color: #7f7f7f\">2490 </span><span style=\"color: #7f7f7f; text-decoration-color: #7f7f7f\">│   │   │   </span><span style=\"color: #0000ff; text-decoration-color: #0000ff\">assert</span> <span style=\"color: #00ffff; text-decoration-color: #00ffff\">isinstance</span>(how, <span style=\"color: #00ffff; text-decoration-color: #00ffff\">str</span>), <span style=\"color: #808000; text-decoration-color: #808000\">\"how should be a string\"</span>                         <span style=\"color: #800000; text-decoration-color: #800000\">│</span>\n",
       "<span style=\"color: #800000; text-decoration-color: #800000\">│</span> <span style=\"color: #800000; text-decoration-color: #800000\">❱ </span>2491 <span style=\"color: #7f7f7f; text-decoration-color: #7f7f7f\">│   │   │   </span>jdf = <span style=\"color: #00ffff; text-decoration-color: #00ffff\">self</span>._jdf.join(other._jdf, on, how)                                     <span style=\"color: #800000; text-decoration-color: #800000\">│</span>\n",
       "<span style=\"color: #800000; text-decoration-color: #800000\">│</span>   <span style=\"color: #7f7f7f; text-decoration-color: #7f7f7f\">2492 </span><span style=\"color: #7f7f7f; text-decoration-color: #7f7f7f\">│   │   </span><span style=\"color: #0000ff; text-decoration-color: #0000ff\">return</span> DataFrame(jdf, <span style=\"color: #00ffff; text-decoration-color: #00ffff\">self</span>.sparkSession)                                          <span style=\"color: #800000; text-decoration-color: #800000\">│</span>\n",
       "<span style=\"color: #800000; text-decoration-color: #800000\">│</span>   <span style=\"color: #7f7f7f; text-decoration-color: #7f7f7f\">2493 </span><span style=\"color: #7f7f7f; text-decoration-color: #7f7f7f\">│   </span>                                                                                      <span style=\"color: #800000; text-decoration-color: #800000\">│</span>\n",
       "<span style=\"color: #800000; text-decoration-color: #800000\">│</span>   <span style=\"color: #7f7f7f; text-decoration-color: #7f7f7f\">2494 </span><span style=\"color: #7f7f7f; text-decoration-color: #7f7f7f\">│   </span><span style=\"color: #7f7f7f; text-decoration-color: #7f7f7f\"># TODO(SPARK-22947): Fix the DataFrame API.</span>                                           <span style=\"color: #800000; text-decoration-color: #800000\">│</span>\n",
       "<span style=\"color: #800000; text-decoration-color: #800000\">│</span>                                                                                                  <span style=\"color: #800000; text-decoration-color: #800000\">│</span>\n",
       "<span style=\"color: #800000; text-decoration-color: #800000\">│</span> <span style=\"color: #bfbf7f; text-decoration-color: #bfbf7f\">/opt/anaconda3/envs/kedro-environment/lib/python3.8/site-packages/py4j/</span><span style=\"color: #808000; text-decoration-color: #808000; font-weight: bold\">java_gateway.py</span>:<span style=\"color: #0000ff; text-decoration-color: #0000ff\">1322</span> in   <span style=\"color: #800000; text-decoration-color: #800000\">│</span>\n",
       "<span style=\"color: #800000; text-decoration-color: #800000\">│</span> <span style=\"color: #00ff00; text-decoration-color: #00ff00\">__call__</span>                                                                                         <span style=\"color: #800000; text-decoration-color: #800000\">│</span>\n",
       "<span style=\"color: #800000; text-decoration-color: #800000\">│</span>                                                                                                  <span style=\"color: #800000; text-decoration-color: #800000\">│</span>\n",
       "<span style=\"color: #800000; text-decoration-color: #800000\">│</span>   <span style=\"color: #7f7f7f; text-decoration-color: #7f7f7f\">1319 </span><span style=\"color: #7f7f7f; text-decoration-color: #7f7f7f\">│   │   │   </span>proto.END_COMMAND_PART                                                        <span style=\"color: #800000; text-decoration-color: #800000\">│</span>\n",
       "<span style=\"color: #800000; text-decoration-color: #800000\">│</span>   <span style=\"color: #7f7f7f; text-decoration-color: #7f7f7f\">1320 </span><span style=\"color: #7f7f7f; text-decoration-color: #7f7f7f\">│   │   </span>                                                                                  <span style=\"color: #800000; text-decoration-color: #800000\">│</span>\n",
       "<span style=\"color: #800000; text-decoration-color: #800000\">│</span>   <span style=\"color: #7f7f7f; text-decoration-color: #7f7f7f\">1321 </span><span style=\"color: #7f7f7f; text-decoration-color: #7f7f7f\">│   │   </span>answer = <span style=\"color: #00ffff; text-decoration-color: #00ffff\">self</span>.gateway_client.send_command(command)                                <span style=\"color: #800000; text-decoration-color: #800000\">│</span>\n",
       "<span style=\"color: #800000; text-decoration-color: #800000\">│</span> <span style=\"color: #800000; text-decoration-color: #800000\">❱ </span>1322 <span style=\"color: #7f7f7f; text-decoration-color: #7f7f7f\">│   │   </span>return_value = get_return_value(                                                  <span style=\"color: #800000; text-decoration-color: #800000\">│</span>\n",
       "<span style=\"color: #800000; text-decoration-color: #800000\">│</span>   <span style=\"color: #7f7f7f; text-decoration-color: #7f7f7f\">1323 </span><span style=\"color: #7f7f7f; text-decoration-color: #7f7f7f\">│   │   │   </span>answer, <span style=\"color: #00ffff; text-decoration-color: #00ffff\">self</span>.gateway_client, <span style=\"color: #00ffff; text-decoration-color: #00ffff\">self</span>.target_id, <span style=\"color: #00ffff; text-decoration-color: #00ffff\">self</span>.name)                       <span style=\"color: #800000; text-decoration-color: #800000\">│</span>\n",
       "<span style=\"color: #800000; text-decoration-color: #800000\">│</span>   <span style=\"color: #7f7f7f; text-decoration-color: #7f7f7f\">1324 </span><span style=\"color: #7f7f7f; text-decoration-color: #7f7f7f\">│   │   </span>                                                                                  <span style=\"color: #800000; text-decoration-color: #800000\">│</span>\n",
       "<span style=\"color: #800000; text-decoration-color: #800000\">│</span>   <span style=\"color: #7f7f7f; text-decoration-color: #7f7f7f\">1325 </span><span style=\"color: #7f7f7f; text-decoration-color: #7f7f7f\">│   │   </span><span style=\"color: #0000ff; text-decoration-color: #0000ff\">for</span> temp_arg <span style=\"color: #ff00ff; text-decoration-color: #ff00ff\">in</span> temp_args:                                                        <span style=\"color: #800000; text-decoration-color: #800000\">│</span>\n",
       "<span style=\"color: #800000; text-decoration-color: #800000\">│</span>                                                                                                  <span style=\"color: #800000; text-decoration-color: #800000\">│</span>\n",
       "<span style=\"color: #800000; text-decoration-color: #800000\">│</span> <span style=\"color: #bfbf7f; text-decoration-color: #bfbf7f\">/opt/anaconda3/envs/kedro-environment/lib/python3.8/site-packages/pyspark/errors/exceptions/</span><span style=\"color: #808000; text-decoration-color: #808000; font-weight: bold\">capt</span> <span style=\"color: #800000; text-decoration-color: #800000\">│</span>\n",
       "<span style=\"color: #800000; text-decoration-color: #800000\">│</span> <span style=\"color: #808000; text-decoration-color: #808000; font-weight: bold\">ured.py</span>:<span style=\"color: #0000ff; text-decoration-color: #0000ff\">185</span> in <span style=\"color: #00ff00; text-decoration-color: #00ff00\">deco</span>                                                                              <span style=\"color: #800000; text-decoration-color: #800000\">│</span>\n",
       "<span style=\"color: #800000; text-decoration-color: #800000\">│</span>                                                                                                  <span style=\"color: #800000; text-decoration-color: #800000\">│</span>\n",
       "<span style=\"color: #800000; text-decoration-color: #800000\">│</span>   <span style=\"color: #7f7f7f; text-decoration-color: #7f7f7f\">182 </span><span style=\"color: #7f7f7f; text-decoration-color: #7f7f7f\">│   │   │   </span><span style=\"color: #0000ff; text-decoration-color: #0000ff\">if</span> <span style=\"color: #ff00ff; text-decoration-color: #ff00ff\">not</span> <span style=\"color: #00ffff; text-decoration-color: #00ffff\">isinstance</span>(converted, UnknownException):                                <span style=\"color: #800000; text-decoration-color: #800000\">│</span>\n",
       "<span style=\"color: #800000; text-decoration-color: #800000\">│</span>   <span style=\"color: #7f7f7f; text-decoration-color: #7f7f7f\">183 </span><span style=\"color: #7f7f7f; text-decoration-color: #7f7f7f\">│   │   │   │   </span><span style=\"color: #7f7f7f; text-decoration-color: #7f7f7f\"># Hide where the exception came from that shows a non-Pythonic</span>             <span style=\"color: #800000; text-decoration-color: #800000\">│</span>\n",
       "<span style=\"color: #800000; text-decoration-color: #800000\">│</span>   <span style=\"color: #7f7f7f; text-decoration-color: #7f7f7f\">184 </span><span style=\"color: #7f7f7f; text-decoration-color: #7f7f7f\">│   │   │   │   </span><span style=\"color: #7f7f7f; text-decoration-color: #7f7f7f\"># JVM exception message.</span>                                                   <span style=\"color: #800000; text-decoration-color: #800000\">│</span>\n",
       "<span style=\"color: #800000; text-decoration-color: #800000\">│</span> <span style=\"color: #800000; text-decoration-color: #800000\">❱ </span>185 <span style=\"color: #7f7f7f; text-decoration-color: #7f7f7f\">│   │   │   │   </span><span style=\"color: #0000ff; text-decoration-color: #0000ff\">raise</span> converted <span style=\"color: #0000ff; text-decoration-color: #0000ff\">from</span> <span style=\"color: #0000ff; text-decoration-color: #0000ff\">None</span>                                                  <span style=\"color: #800000; text-decoration-color: #800000\">│</span>\n",
       "<span style=\"color: #800000; text-decoration-color: #800000\">│</span>   <span style=\"color: #7f7f7f; text-decoration-color: #7f7f7f\">186 </span><span style=\"color: #7f7f7f; text-decoration-color: #7f7f7f\">│   │   │   </span><span style=\"color: #0000ff; text-decoration-color: #0000ff\">else</span>:                                                                          <span style=\"color: #800000; text-decoration-color: #800000\">│</span>\n",
       "<span style=\"color: #800000; text-decoration-color: #800000\">│</span>   <span style=\"color: #7f7f7f; text-decoration-color: #7f7f7f\">187 </span><span style=\"color: #7f7f7f; text-decoration-color: #7f7f7f\">│   │   │   │   </span><span style=\"color: #0000ff; text-decoration-color: #0000ff\">raise</span>                                                                      <span style=\"color: #800000; text-decoration-color: #800000\">│</span>\n",
       "<span style=\"color: #800000; text-decoration-color: #800000\">│</span>   <span style=\"color: #7f7f7f; text-decoration-color: #7f7f7f\">188 </span>                                                                                           <span style=\"color: #800000; text-decoration-color: #800000\">│</span>\n",
       "<span style=\"color: #800000; text-decoration-color: #800000\">╰──────────────────────────────────────────────────────────────────────────────────────────────────╯</span>\n",
       "<span style=\"color: #ff0000; text-decoration-color: #ff0000; font-weight: bold\">AnalysisException: </span><span style=\"font-weight: bold\">[</span>UNRESOLVED_USING_COLUMN_FOR_JOIN<span style=\"font-weight: bold\">]</span> USING column `encounter_id` cannot be resolved on the left \n",
       "side of the join. The left-side columns: <span style=\"font-weight: bold\">[</span>`encounter_id_fk`, `patient_id`, `recorded_date`, `resolved_date`, \n",
       "`source_code`, `source_description`<span style=\"font-weight: bold\">]</span>.\n",
       "</pre>\n"
      ],
      "text/plain": [
       "\u001b[31m╭─\u001b[0m\u001b[31m──────────────────────────────\u001b[0m\u001b[31m \u001b[0m\u001b[1;31mTraceback \u001b[0m\u001b[1;2;31m(most recent call last)\u001b[0m\u001b[31m \u001b[0m\u001b[31m───────────────────────────────\u001b[0m\u001b[31m─╮\u001b[0m\n",
       "\u001b[31m│\u001b[0m in \u001b[92m<module>\u001b[0m:\u001b[94m12\u001b[0m                                                                                   \u001b[31m│\u001b[0m\n",
       "\u001b[31m│\u001b[0m                                                                                                  \u001b[31m│\u001b[0m\n",
       "\u001b[31m│\u001b[0m   \u001b[2m 9 \u001b[0m\u001b[2m# Rename columns to a consistent format (if needed)\u001b[0m                                         \u001b[31m│\u001b[0m\n",
       "\u001b[31m│\u001b[0m   \u001b[2m10 \u001b[0m\u001b[96mprint\u001b[0m(cleaned_encounters)                                                                   \u001b[31m│\u001b[0m\n",
       "\u001b[31m│\u001b[0m   \u001b[2m11 \u001b[0mcleaned_conditions_df= cleaned_conditions_df.withColumnRenamed(\u001b[33m\"\u001b[0m\u001b[33mencounter_id_fkm\u001b[0m\u001b[33m\"\u001b[0m,\u001b[33m\"\u001b[0m\u001b[33mencou\u001b[0m    \u001b[31m│\u001b[0m\n",
       "\u001b[31m│\u001b[0m \u001b[31m❱ \u001b[0m12 master_spark_df = cleaned_conditions_df.join(cleaned_encounters, on=\u001b[33m'\u001b[0m\u001b[33mencounter_id\u001b[0m\u001b[33m'\u001b[0m, how=    \u001b[31m│\u001b[0m\n",
       "\u001b[31m│\u001b[0m   \u001b[2m13 \u001b[0m\u001b[96mprint\u001b[0m(\u001b[33m\"\u001b[0m\u001b[33mInner-\u001b[0m\u001b[33m\"\u001b[0m,master_spark_df.count())                                                     \u001b[31m│\u001b[0m\n",
       "\u001b[31m│\u001b[0m   \u001b[2m14 \u001b[0m                                                                                            \u001b[31m│\u001b[0m\n",
       "\u001b[31m│\u001b[0m   \u001b[2m15 \u001b[0m                                                                                            \u001b[31m│\u001b[0m\n",
       "\u001b[31m│\u001b[0m                                                                                                  \u001b[31m│\u001b[0m\n",
       "\u001b[31m│\u001b[0m \u001b[2;33m/opt/anaconda3/envs/kedro-environment/lib/python3.8/site-packages/pyspark/sql/\u001b[0m\u001b[1;33mdataframe.py\u001b[0m:\u001b[94m2491\u001b[0m  \u001b[31m│\u001b[0m\n",
       "\u001b[31m│\u001b[0m in \u001b[92mjoin\u001b[0m                                                                                          \u001b[31m│\u001b[0m\n",
       "\u001b[31m│\u001b[0m                                                                                                  \u001b[31m│\u001b[0m\n",
       "\u001b[31m│\u001b[0m   \u001b[2m2488 \u001b[0m\u001b[2m│   │   │   \u001b[0m\u001b[94mif\u001b[0m on \u001b[95mis\u001b[0m \u001b[94mNone\u001b[0m:                                                                \u001b[31m│\u001b[0m\n",
       "\u001b[31m│\u001b[0m   \u001b[2m2489 \u001b[0m\u001b[2m│   │   │   │   \u001b[0mon = \u001b[96mself\u001b[0m._jseq([])                                                       \u001b[31m│\u001b[0m\n",
       "\u001b[31m│\u001b[0m   \u001b[2m2490 \u001b[0m\u001b[2m│   │   │   \u001b[0m\u001b[94massert\u001b[0m \u001b[96misinstance\u001b[0m(how, \u001b[96mstr\u001b[0m), \u001b[33m\"\u001b[0m\u001b[33mhow should be a string\u001b[0m\u001b[33m\"\u001b[0m                         \u001b[31m│\u001b[0m\n",
       "\u001b[31m│\u001b[0m \u001b[31m❱ \u001b[0m2491 \u001b[2m│   │   │   \u001b[0mjdf = \u001b[96mself\u001b[0m._jdf.join(other._jdf, on, how)                                     \u001b[31m│\u001b[0m\n",
       "\u001b[31m│\u001b[0m   \u001b[2m2492 \u001b[0m\u001b[2m│   │   \u001b[0m\u001b[94mreturn\u001b[0m DataFrame(jdf, \u001b[96mself\u001b[0m.sparkSession)                                          \u001b[31m│\u001b[0m\n",
       "\u001b[31m│\u001b[0m   \u001b[2m2493 \u001b[0m\u001b[2m│   \u001b[0m                                                                                      \u001b[31m│\u001b[0m\n",
       "\u001b[31m│\u001b[0m   \u001b[2m2494 \u001b[0m\u001b[2m│   \u001b[0m\u001b[2m# TODO(SPARK-22947): Fix the DataFrame API.\u001b[0m                                           \u001b[31m│\u001b[0m\n",
       "\u001b[31m│\u001b[0m                                                                                                  \u001b[31m│\u001b[0m\n",
       "\u001b[31m│\u001b[0m \u001b[2;33m/opt/anaconda3/envs/kedro-environment/lib/python3.8/site-packages/py4j/\u001b[0m\u001b[1;33mjava_gateway.py\u001b[0m:\u001b[94m1322\u001b[0m in   \u001b[31m│\u001b[0m\n",
       "\u001b[31m│\u001b[0m \u001b[92m__call__\u001b[0m                                                                                         \u001b[31m│\u001b[0m\n",
       "\u001b[31m│\u001b[0m                                                                                                  \u001b[31m│\u001b[0m\n",
       "\u001b[31m│\u001b[0m   \u001b[2m1319 \u001b[0m\u001b[2m│   │   │   \u001b[0mproto.END_COMMAND_PART                                                        \u001b[31m│\u001b[0m\n",
       "\u001b[31m│\u001b[0m   \u001b[2m1320 \u001b[0m\u001b[2m│   │   \u001b[0m                                                                                  \u001b[31m│\u001b[0m\n",
       "\u001b[31m│\u001b[0m   \u001b[2m1321 \u001b[0m\u001b[2m│   │   \u001b[0manswer = \u001b[96mself\u001b[0m.gateway_client.send_command(command)                                \u001b[31m│\u001b[0m\n",
       "\u001b[31m│\u001b[0m \u001b[31m❱ \u001b[0m1322 \u001b[2m│   │   \u001b[0mreturn_value = get_return_value(                                                  \u001b[31m│\u001b[0m\n",
       "\u001b[31m│\u001b[0m   \u001b[2m1323 \u001b[0m\u001b[2m│   │   │   \u001b[0manswer, \u001b[96mself\u001b[0m.gateway_client, \u001b[96mself\u001b[0m.target_id, \u001b[96mself\u001b[0m.name)                       \u001b[31m│\u001b[0m\n",
       "\u001b[31m│\u001b[0m   \u001b[2m1324 \u001b[0m\u001b[2m│   │   \u001b[0m                                                                                  \u001b[31m│\u001b[0m\n",
       "\u001b[31m│\u001b[0m   \u001b[2m1325 \u001b[0m\u001b[2m│   │   \u001b[0m\u001b[94mfor\u001b[0m temp_arg \u001b[95min\u001b[0m temp_args:                                                        \u001b[31m│\u001b[0m\n",
       "\u001b[31m│\u001b[0m                                                                                                  \u001b[31m│\u001b[0m\n",
       "\u001b[31m│\u001b[0m \u001b[2;33m/opt/anaconda3/envs/kedro-environment/lib/python3.8/site-packages/pyspark/errors/exceptions/\u001b[0m\u001b[1;33mcapt\u001b[0m \u001b[31m│\u001b[0m\n",
       "\u001b[31m│\u001b[0m \u001b[1;33mured.py\u001b[0m:\u001b[94m185\u001b[0m in \u001b[92mdeco\u001b[0m                                                                              \u001b[31m│\u001b[0m\n",
       "\u001b[31m│\u001b[0m                                                                                                  \u001b[31m│\u001b[0m\n",
       "\u001b[31m│\u001b[0m   \u001b[2m182 \u001b[0m\u001b[2m│   │   │   \u001b[0m\u001b[94mif\u001b[0m \u001b[95mnot\u001b[0m \u001b[96misinstance\u001b[0m(converted, UnknownException):                                \u001b[31m│\u001b[0m\n",
       "\u001b[31m│\u001b[0m   \u001b[2m183 \u001b[0m\u001b[2m│   │   │   │   \u001b[0m\u001b[2m# Hide where the exception came from that shows a non-Pythonic\u001b[0m             \u001b[31m│\u001b[0m\n",
       "\u001b[31m│\u001b[0m   \u001b[2m184 \u001b[0m\u001b[2m│   │   │   │   \u001b[0m\u001b[2m# JVM exception message.\u001b[0m                                                   \u001b[31m│\u001b[0m\n",
       "\u001b[31m│\u001b[0m \u001b[31m❱ \u001b[0m185 \u001b[2m│   │   │   │   \u001b[0m\u001b[94mraise\u001b[0m converted \u001b[94mfrom\u001b[0m \u001b[94mNone\u001b[0m                                                  \u001b[31m│\u001b[0m\n",
       "\u001b[31m│\u001b[0m   \u001b[2m186 \u001b[0m\u001b[2m│   │   │   \u001b[0m\u001b[94melse\u001b[0m:                                                                          \u001b[31m│\u001b[0m\n",
       "\u001b[31m│\u001b[0m   \u001b[2m187 \u001b[0m\u001b[2m│   │   │   │   \u001b[0m\u001b[94mraise\u001b[0m                                                                      \u001b[31m│\u001b[0m\n",
       "\u001b[31m│\u001b[0m   \u001b[2m188 \u001b[0m                                                                                           \u001b[31m│\u001b[0m\n",
       "\u001b[31m╰──────────────────────────────────────────────────────────────────────────────────────────────────╯\u001b[0m\n",
       "\u001b[1;91mAnalysisException: \u001b[0m\u001b[1m[\u001b[0mUNRESOLVED_USING_COLUMN_FOR_JOIN\u001b[1m]\u001b[0m USING column `encounter_id` cannot be resolved on the left \n",
       "side of the join. The left-side columns: \u001b[1m[\u001b[0m`encounter_id_fk`, `patient_id`, `recorded_date`, `resolved_date`, \n",
       "`source_code`, `source_description`\u001b[1m]\u001b[0m.\n"
      ]
     },
     "metadata": {},
     "output_type": "display_data"
    }
   ],
   "source": [
    "# Load datasets\n",
    "# joined_patients_df = catalog.load(\"joined_patients@csv\") \n",
    "# cleaned_medications_df = catalog.load(\"cleaned_medications@csv\")\n",
    "# cleaned_encounters_df = catalog.load(\"cleaned_encounters\")\n",
    "# cleaned_conditions_df = catalog.load(\"cleaned_conditions@csv\")\n",
    "cleaned_conditions_df = catalog.load(\"cleaned_conditions@spark\")\n",
    "print(\"conditions data loaded..\")\n",
    "cleaned_encounters = catalog.load(\"cleaned_medications@spark\")\n",
    "# Rename columns to a consistent format (if needed)\n",
    "print(cleaned_encounters)\n",
    "cleaned_conditions_df= cleaned_conditions_df.withColumnRenamed(\"encounter_id_fkm\",\"encounter_id\")\n",
    "master_spark_df = cleaned_conditions_df.join(cleaned_encounters, on='encounter_id', how='inner')\n",
    "print(\"Inner-\",master_spark_df.count()) \n",
    "\n",
    "\n",
    "master_spark_df_mm = master_spark_df_p.join(master_spark_df, on='patient_id', how='inner')\n",
    "print(\"Inner-\",master_spark_df_mm.count()) "
   ]
  },
  {
   "cell_type": "code",
   "execution_count": 13,
   "id": "e63bebc1-2952-4528-8ccc-14ee2f4a2dd8",
   "metadata": {},
   "outputs": [
    {
     "data": {
      "text/html": [
       "<pre style=\"white-space:pre;overflow-x:auto;line-height:normal;font-family:Menlo,'DejaVu Sans Mono',consolas,'Courier New',monospace\"><span style=\"color: #7fbfbf; text-decoration-color: #7fbfbf\">[07/20/24 14:21:52] </span><span style=\"color: #000080; text-decoration-color: #000080\">INFO    </span> Loading data from <span style=\"color: #ff8700; text-decoration-color: #ff8700\">patients</span> <span style=\"font-weight: bold\">(</span>CSVDataset<span style=\"font-weight: bold\">)</span><span style=\"color: #808000; text-decoration-color: #808000\">...</span>                         <a href=\"file:///opt/anaconda3/envs/kedro-environment/lib/python3.10/site-packages/kedro/io/data_catalog.py\" target=\"_blank\"><span style=\"color: #7f7f7f; text-decoration-color: #7f7f7f\">data_catalog.py</span></a><span style=\"color: #7f7f7f; text-decoration-color: #7f7f7f\">:</span><a href=\"file:///opt/anaconda3/envs/kedro-environment/lib/python3.10/site-packages/kedro/io/data_catalog.py#508\" target=\"_blank\"><span style=\"color: #7f7f7f; text-decoration-color: #7f7f7f\">508</span></a>\n",
       "</pre>\n"
      ],
      "text/plain": [
       "\u001b[2;36m[07/20/24 14:21:52]\u001b[0m\u001b[2;36m \u001b[0m\u001b[34mINFO    \u001b[0m Loading data from \u001b[38;5;208mpatients\u001b[0m \u001b[1m(\u001b[0mCSVDataset\u001b[1m)\u001b[0m\u001b[33m...\u001b[0m                         \u001b]8;id=684099;file:///opt/anaconda3/envs/kedro-environment/lib/python3.10/site-packages/kedro/io/data_catalog.py\u001b\\\u001b[2mdata_catalog.py\u001b[0m\u001b]8;;\u001b\\\u001b[2m:\u001b[0m\u001b]8;id=708506;file:///opt/anaconda3/envs/kedro-environment/lib/python3.10/site-packages/kedro/io/data_catalog.py#508\u001b\\\u001b[2m508\u001b[0m\u001b]8;;\u001b\\\n"
      ]
     },
     "metadata": {},
     "output_type": "display_data"
    },
    {
     "data": {
      "text/html": [
       "<pre style=\"white-space:pre;overflow-x:auto;line-height:normal;font-family:Menlo,'DejaVu Sans Mono',consolas,'Courier New',monospace\"><span style=\"color: #7fbfbf; text-decoration-color: #7fbfbf\">                    </span><span style=\"color: #000080; text-decoration-color: #000080\">INFO    </span> Loading data from <span style=\"color: #ff8700; text-decoration-color: #ff8700\">medications</span> <span style=\"font-weight: bold\">(</span>CSVDataset<span style=\"font-weight: bold\">)</span><span style=\"color: #808000; text-decoration-color: #808000\">...</span>                      <a href=\"file:///opt/anaconda3/envs/kedro-environment/lib/python3.10/site-packages/kedro/io/data_catalog.py\" target=\"_blank\"><span style=\"color: #7f7f7f; text-decoration-color: #7f7f7f\">data_catalog.py</span></a><span style=\"color: #7f7f7f; text-decoration-color: #7f7f7f\">:</span><a href=\"file:///opt/anaconda3/envs/kedro-environment/lib/python3.10/site-packages/kedro/io/data_catalog.py#508\" target=\"_blank\"><span style=\"color: #7f7f7f; text-decoration-color: #7f7f7f\">508</span></a>\n",
       "</pre>\n"
      ],
      "text/plain": [
       "\u001b[2;36m                   \u001b[0m\u001b[2;36m \u001b[0m\u001b[34mINFO    \u001b[0m Loading data from \u001b[38;5;208mmedications\u001b[0m \u001b[1m(\u001b[0mCSVDataset\u001b[1m)\u001b[0m\u001b[33m...\u001b[0m                      \u001b]8;id=123785;file:///opt/anaconda3/envs/kedro-environment/lib/python3.10/site-packages/kedro/io/data_catalog.py\u001b\\\u001b[2mdata_catalog.py\u001b[0m\u001b]8;;\u001b\\\u001b[2m:\u001b[0m\u001b]8;id=60153;file:///opt/anaconda3/envs/kedro-environment/lib/python3.10/site-packages/kedro/io/data_catalog.py#508\u001b\\\u001b[2m508\u001b[0m\u001b]8;;\u001b\\\n"
      ]
     },
     "metadata": {},
     "output_type": "display_data"
    },
    {
     "data": {
      "text/html": [
       "<pre style=\"white-space:pre;overflow-x:auto;line-height:normal;font-family:Menlo,'DejaVu Sans Mono',consolas,'Courier New',monospace\"><span style=\"color: #7fbfbf; text-decoration-color: #7fbfbf\">                    </span><span style=\"color: #000080; text-decoration-color: #000080\">INFO    </span> Loading data from <span style=\"color: #ff8700; text-decoration-color: #ff8700\">symptoms</span> <span style=\"font-weight: bold\">(</span>CSVDataset<span style=\"font-weight: bold\">)</span><span style=\"color: #808000; text-decoration-color: #808000\">...</span>                         <a href=\"file:///opt/anaconda3/envs/kedro-environment/lib/python3.10/site-packages/kedro/io/data_catalog.py\" target=\"_blank\"><span style=\"color: #7f7f7f; text-decoration-color: #7f7f7f\">data_catalog.py</span></a><span style=\"color: #7f7f7f; text-decoration-color: #7f7f7f\">:</span><a href=\"file:///opt/anaconda3/envs/kedro-environment/lib/python3.10/site-packages/kedro/io/data_catalog.py#508\" target=\"_blank\"><span style=\"color: #7f7f7f; text-decoration-color: #7f7f7f\">508</span></a>\n",
       "</pre>\n"
      ],
      "text/plain": [
       "\u001b[2;36m                   \u001b[0m\u001b[2;36m \u001b[0m\u001b[34mINFO    \u001b[0m Loading data from \u001b[38;5;208msymptoms\u001b[0m \u001b[1m(\u001b[0mCSVDataset\u001b[1m)\u001b[0m\u001b[33m...\u001b[0m                         \u001b]8;id=396902;file:///opt/anaconda3/envs/kedro-environment/lib/python3.10/site-packages/kedro/io/data_catalog.py\u001b\\\u001b[2mdata_catalog.py\u001b[0m\u001b]8;;\u001b\\\u001b[2m:\u001b[0m\u001b]8;id=576863;file:///opt/anaconda3/envs/kedro-environment/lib/python3.10/site-packages/kedro/io/data_catalog.py#508\u001b\\\u001b[2m508\u001b[0m\u001b]8;;\u001b\\\n"
      ]
     },
     "metadata": {},
     "output_type": "display_data"
    },
    {
     "data": {
      "text/html": [
       "<pre style=\"white-space:pre;overflow-x:auto;line-height:normal;font-family:Menlo,'DejaVu Sans Mono',consolas,'Courier New',monospace\"><span style=\"color: #7fbfbf; text-decoration-color: #7fbfbf\">                    </span><span style=\"color: #000080; text-decoration-color: #000080\">INFO    </span> Loading data from <span style=\"color: #ff8700; text-decoration-color: #ff8700\">conditions</span> <span style=\"font-weight: bold\">(</span>ExcelDataset<span style=\"font-weight: bold\">)</span><span style=\"color: #808000; text-decoration-color: #808000\">...</span>                     <a href=\"file:///opt/anaconda3/envs/kedro-environment/lib/python3.10/site-packages/kedro/io/data_catalog.py\" target=\"_blank\"><span style=\"color: #7f7f7f; text-decoration-color: #7f7f7f\">data_catalog.py</span></a><span style=\"color: #7f7f7f; text-decoration-color: #7f7f7f\">:</span><a href=\"file:///opt/anaconda3/envs/kedro-environment/lib/python3.10/site-packages/kedro/io/data_catalog.py#508\" target=\"_blank\"><span style=\"color: #7f7f7f; text-decoration-color: #7f7f7f\">508</span></a>\n",
       "</pre>\n"
      ],
      "text/plain": [
       "\u001b[2;36m                   \u001b[0m\u001b[2;36m \u001b[0m\u001b[34mINFO    \u001b[0m Loading data from \u001b[38;5;208mconditions\u001b[0m \u001b[1m(\u001b[0mExcelDataset\u001b[1m)\u001b[0m\u001b[33m...\u001b[0m                     \u001b]8;id=629441;file:///opt/anaconda3/envs/kedro-environment/lib/python3.10/site-packages/kedro/io/data_catalog.py\u001b\\\u001b[2mdata_catalog.py\u001b[0m\u001b]8;;\u001b\\\u001b[2m:\u001b[0m\u001b]8;id=952023;file:///opt/anaconda3/envs/kedro-environment/lib/python3.10/site-packages/kedro/io/data_catalog.py#508\u001b\\\u001b[2m508\u001b[0m\u001b]8;;\u001b\\\n"
      ]
     },
     "metadata": {},
     "output_type": "display_data"
    },
    {
     "data": {
      "text/html": [
       "<pre style=\"white-space:pre;overflow-x:auto;line-height:normal;font-family:Menlo,'DejaVu Sans Mono',consolas,'Courier New',monospace\"><span style=\"color: #7fbfbf; text-decoration-color: #7fbfbf\">[07/20/24 14:21:53] </span><span style=\"color: #000080; text-decoration-color: #000080\">INFO    </span> Loading data from <span style=\"color: #ff8700; text-decoration-color: #ff8700\">encounters</span> <span style=\"font-weight: bold\">(</span>SparkDataset<span style=\"font-weight: bold\">)</span><span style=\"color: #808000; text-decoration-color: #808000\">...</span>                     <a href=\"file:///opt/anaconda3/envs/kedro-environment/lib/python3.10/site-packages/kedro/io/data_catalog.py\" target=\"_blank\"><span style=\"color: #7f7f7f; text-decoration-color: #7f7f7f\">data_catalog.py</span></a><span style=\"color: #7f7f7f; text-decoration-color: #7f7f7f\">:</span><a href=\"file:///opt/anaconda3/envs/kedro-environment/lib/python3.10/site-packages/kedro/io/data_catalog.py#508\" target=\"_blank\"><span style=\"color: #7f7f7f; text-decoration-color: #7f7f7f\">508</span></a>\n",
       "</pre>\n"
      ],
      "text/plain": [
       "\u001b[2;36m[07/20/24 14:21:53]\u001b[0m\u001b[2;36m \u001b[0m\u001b[34mINFO    \u001b[0m Loading data from \u001b[38;5;208mencounters\u001b[0m \u001b[1m(\u001b[0mSparkDataset\u001b[1m)\u001b[0m\u001b[33m...\u001b[0m                     \u001b]8;id=92973;file:///opt/anaconda3/envs/kedro-environment/lib/python3.10/site-packages/kedro/io/data_catalog.py\u001b\\\u001b[2mdata_catalog.py\u001b[0m\u001b]8;;\u001b\\\u001b[2m:\u001b[0m\u001b]8;id=636015;file:///opt/anaconda3/envs/kedro-environment/lib/python3.10/site-packages/kedro/io/data_catalog.py#508\u001b\\\u001b[2m508\u001b[0m\u001b]8;;\u001b\\\n"
      ]
     },
     "metadata": {},
     "output_type": "display_data"
    },
    {
     "data": {
      "text/html": [
       "<pre style=\"white-space:pre;overflow-x:auto;line-height:normal;font-family:Menlo,'DejaVu Sans Mono',consolas,'Courier New',monospace\"><span style=\"color: #7fbfbf; text-decoration-color: #7fbfbf\">                    </span><span style=\"color: #000080; text-decoration-color: #000080\">INFO    </span> Loading data from <span style=\"color: #ff8700; text-decoration-color: #ff8700\">patient_gender</span> <span style=\"font-weight: bold\">(</span>CSVDataset<span style=\"font-weight: bold\">)</span><span style=\"color: #808000; text-decoration-color: #808000\">...</span>                   <a href=\"file:///opt/anaconda3/envs/kedro-environment/lib/python3.10/site-packages/kedro/io/data_catalog.py\" target=\"_blank\"><span style=\"color: #7f7f7f; text-decoration-color: #7f7f7f\">data_catalog.py</span></a><span style=\"color: #7f7f7f; text-decoration-color: #7f7f7f\">:</span><a href=\"file:///opt/anaconda3/envs/kedro-environment/lib/python3.10/site-packages/kedro/io/data_catalog.py#508\" target=\"_blank\"><span style=\"color: #7f7f7f; text-decoration-color: #7f7f7f\">508</span></a>\n",
       "</pre>\n"
      ],
      "text/plain": [
       "\u001b[2;36m                   \u001b[0m\u001b[2;36m \u001b[0m\u001b[34mINFO    \u001b[0m Loading data from \u001b[38;5;208mpatient_gender\u001b[0m \u001b[1m(\u001b[0mCSVDataset\u001b[1m)\u001b[0m\u001b[33m...\u001b[0m                   \u001b]8;id=449865;file:///opt/anaconda3/envs/kedro-environment/lib/python3.10/site-packages/kedro/io/data_catalog.py\u001b\\\u001b[2mdata_catalog.py\u001b[0m\u001b]8;;\u001b\\\u001b[2m:\u001b[0m\u001b]8;id=646614;file:///opt/anaconda3/envs/kedro-environment/lib/python3.10/site-packages/kedro/io/data_catalog.py#508\u001b\\\u001b[2m508\u001b[0m\u001b]8;;\u001b\\\n"
      ]
     },
     "metadata": {},
     "output_type": "display_data"
    },
    {
     "data": {
      "text/html": [
       "<pre style=\"white-space:pre;overflow-x:auto;line-height:normal;font-family:Menlo,'DejaVu Sans Mono',consolas,'Courier New',monospace\"><span style=\"color: #7fbfbf; text-decoration-color: #7fbfbf\">                    </span><span style=\"color: #000080; text-decoration-color: #000080\">INFO    </span> Loading data from <span style=\"color: #ff8700; text-decoration-color: #ff8700\">cleaned_symptoms</span> <span style=\"font-weight: bold\">(</span>CSVDataset<span style=\"font-weight: bold\">)</span><span style=\"color: #808000; text-decoration-color: #808000\">...</span>                 <a href=\"file:///opt/anaconda3/envs/kedro-environment/lib/python3.10/site-packages/kedro/io/data_catalog.py\" target=\"_blank\"><span style=\"color: #7f7f7f; text-decoration-color: #7f7f7f\">data_catalog.py</span></a><span style=\"color: #7f7f7f; text-decoration-color: #7f7f7f\">:</span><a href=\"file:///opt/anaconda3/envs/kedro-environment/lib/python3.10/site-packages/kedro/io/data_catalog.py#508\" target=\"_blank\"><span style=\"color: #7f7f7f; text-decoration-color: #7f7f7f\">508</span></a>\n",
       "</pre>\n"
      ],
      "text/plain": [
       "\u001b[2;36m                   \u001b[0m\u001b[2;36m \u001b[0m\u001b[34mINFO    \u001b[0m Loading data from \u001b[38;5;208mcleaned_symptoms\u001b[0m \u001b[1m(\u001b[0mCSVDataset\u001b[1m)\u001b[0m\u001b[33m...\u001b[0m                 \u001b]8;id=857277;file:///opt/anaconda3/envs/kedro-environment/lib/python3.10/site-packages/kedro/io/data_catalog.py\u001b\\\u001b[2mdata_catalog.py\u001b[0m\u001b]8;;\u001b\\\u001b[2m:\u001b[0m\u001b]8;id=7748;file:///opt/anaconda3/envs/kedro-environment/lib/python3.10/site-packages/kedro/io/data_catalog.py#508\u001b\\\u001b[2m508\u001b[0m\u001b]8;;\u001b\\\n"
      ]
     },
     "metadata": {},
     "output_type": "display_data"
    },
    {
     "data": {
      "text/html": [
       "<pre style=\"white-space:pre;overflow-x:auto;line-height:normal;font-family:Menlo,'DejaVu Sans Mono',consolas,'Courier New',monospace\"><span style=\"color: #7fbfbf; text-decoration-color: #7fbfbf\">                    </span><span style=\"color: #000080; text-decoration-color: #000080\">INFO    </span> Loading data from <span style=\"color: #ff8700; text-decoration-color: #ff8700\">healthcare_master</span> <span style=\"font-weight: bold\">(</span>SparkDataset<span style=\"font-weight: bold\">)</span><span style=\"color: #808000; text-decoration-color: #808000\">...</span>              <a href=\"file:///opt/anaconda3/envs/kedro-environment/lib/python3.10/site-packages/kedro/io/data_catalog.py\" target=\"_blank\"><span style=\"color: #7f7f7f; text-decoration-color: #7f7f7f\">data_catalog.py</span></a><span style=\"color: #7f7f7f; text-decoration-color: #7f7f7f\">:</span><a href=\"file:///opt/anaconda3/envs/kedro-environment/lib/python3.10/site-packages/kedro/io/data_catalog.py#508\" target=\"_blank\"><span style=\"color: #7f7f7f; text-decoration-color: #7f7f7f\">508</span></a>\n",
       "</pre>\n"
      ],
      "text/plain": [
       "\u001b[2;36m                   \u001b[0m\u001b[2;36m \u001b[0m\u001b[34mINFO    \u001b[0m Loading data from \u001b[38;5;208mhealthcare_master\u001b[0m \u001b[1m(\u001b[0mSparkDataset\u001b[1m)\u001b[0m\u001b[33m...\u001b[0m              \u001b]8;id=114148;file:///opt/anaconda3/envs/kedro-environment/lib/python3.10/site-packages/kedro/io/data_catalog.py\u001b\\\u001b[2mdata_catalog.py\u001b[0m\u001b]8;;\u001b\\\u001b[2m:\u001b[0m\u001b]8;id=904356;file:///opt/anaconda3/envs/kedro-environment/lib/python3.10/site-packages/kedro/io/data_catalog.py#508\u001b\\\u001b[2m508\u001b[0m\u001b]8;;\u001b\\\n"
      ]
     },
     "metadata": {},
     "output_type": "display_data"
    }
   ],
   "source": [
    "# Load datasets\n",
    "patients_df = catalog.load(\"patients\")\n",
    "medications_df = catalog.load(\"medications\")\n",
    "symptoms_df = catalog.load(\"symptoms\")\n",
    "conditions_df = catalog.load(\"conditions\")\n",
    "encounters_df = catalog.load(\"encounters\")\n",
    "patient_gender_df = catalog.load(\"patient_gender\")\n",
    "cleaned_symptoms_df = catalog.load(\"cleaned_symptoms\")\n",
    "healthcare_master_df = catalog.load(\"healthcare_master\")"
   ]
  },
  {
   "cell_type": "code",
   "execution_count": 14,
   "id": "7f713a19-902b-4e54-811f-1039f172e6dd",
   "metadata": {},
   "outputs": [
    {
     "name": "stdout",
     "output_type": "stream",
     "text": [
      "+----------+----------+----------------------+--------------+--------+------+----------+---------+------+-----------+--------------+----+---------+----------+-------+----+-----+------+----+--------+--------+---------+-------------------+-------------------+------+---+------+---------+------------+-------------+-------------------+----------------+--------------+-------------+-------------+------------+-----------+------------------+----------------+---------------+--------+---------------+---------------+----------------------+---------+--------------+---------+----------+-----------+------------------+\n",
      "|patient_id|birth_date|social_security_number|driversLicense|passport|prefix|first_name|last_name|suffix|maiden_name|marital_status|race|ethnicity|birthPlace|address|city|state|county|Fips|zip_code|latitude|longitude|healthcare_expenses|healthcare_coverage|income|age|GENDER|pathology|num_symptoms|Rash_symptoms|joint_pain_symptoms|fatigue_symptoms|fever_symptoms|recorded_date|resolved_date|encounter_id|source_code|source_description|prescribing_date|dispensing_date|payer_id|encounter_id_fk|medication_code|medication_description|base_cost|payer_coverage|dispenses|total_cost|reason_code|reason_description|\n",
      "+----------+----------+----------------------+--------------+--------+------+----------+---------+------+-----------+--------------+----+---------+----------+-------+----+-----+------+----+--------+--------+---------+-------------------+-------------------+------+---+------+---------+------------+-------------+-------------------+----------------+--------------+-------------+-------------+------------+-----------+------------------+----------------+---------------+--------+---------------+---------------+----------------------+---------+--------------+---------+----------+-----------+------------------+\n",
      "+----------+----------+----------------------+--------------+--------+------+----------+---------+------+-----------+--------------+----+---------+----------+-------+----+-----+------+----+--------+--------+---------+-------------------+-------------------+------+---+------+---------+------------+-------------+-------------------+----------------+--------------+-------------+-------------+------------+-----------+------------------+----------------+---------------+--------+---------------+---------------+----------------------+---------+--------------+---------+----------+-----------+------------------+\n",
      "\n",
      "root\n",
      " |-- patient_id: string (nullable = true)\n",
      " |-- birth_date: date (nullable = true)\n",
      " |-- social_security_number: string (nullable = true)\n",
      " |-- driversLicense: string (nullable = true)\n",
      " |-- passport: string (nullable = true)\n",
      " |-- prefix: string (nullable = true)\n",
      " |-- first_name: string (nullable = true)\n",
      " |-- last_name: string (nullable = true)\n",
      " |-- suffix: string (nullable = true)\n",
      " |-- maiden_name: string (nullable = true)\n",
      " |-- marital_status: string (nullable = true)\n",
      " |-- race: string (nullable = true)\n",
      " |-- ethnicity: string (nullable = true)\n",
      " |-- birthPlace: string (nullable = true)\n",
      " |-- address: string (nullable = true)\n",
      " |-- city: string (nullable = true)\n",
      " |-- state: string (nullable = true)\n",
      " |-- county: string (nullable = true)\n",
      " |-- Fips: integer (nullable = true)\n",
      " |-- zip_code: integer (nullable = true)\n",
      " |-- latitude: double (nullable = true)\n",
      " |-- longitude: double (nullable = true)\n",
      " |-- healthcare_expenses: double (nullable = true)\n",
      " |-- healthcare_coverage: double (nullable = true)\n",
      " |-- income: integer (nullable = true)\n",
      " |-- age: double (nullable = true)\n",
      " |-- GENDER: string (nullable = true)\n",
      " |-- pathology: string (nullable = true)\n",
      " |-- num_symptoms: integer (nullable = true)\n",
      " |-- Rash_symptoms: integer (nullable = true)\n",
      " |-- joint_pain_symptoms: integer (nullable = true)\n",
      " |-- fatigue_symptoms: integer (nullable = true)\n",
      " |-- fever_symptoms: integer (nullable = true)\n",
      " |-- recorded_date: date (nullable = true)\n",
      " |-- resolved_date: string (nullable = true)\n",
      " |-- encounter_id: string (nullable = true)\n",
      " |-- source_code: integer (nullable = true)\n",
      " |-- source_description: string (nullable = true)\n",
      " |-- prescribing_date: timestamp (nullable = true)\n",
      " |-- dispensing_date: timestamp (nullable = true)\n",
      " |-- payer_id: string (nullable = true)\n",
      " |-- encounter_id_fk: string (nullable = true)\n",
      " |-- medication_code: integer (nullable = true)\n",
      " |-- medication_description: string (nullable = true)\n",
      " |-- base_cost: double (nullable = true)\n",
      " |-- payer_coverage: double (nullable = true)\n",
      " |-- dispenses: integer (nullable = true)\n",
      " |-- total_cost: double (nullable = true)\n",
      " |-- reason_code: double (nullable = true)\n",
      " |-- reason_description: string (nullable = true)\n",
      "\n"
     ]
    }
   ],
   "source": [
    "healthcare_master_df.show(40)\n",
    "healthcare_master_df.printSchema()"
   ]
  },
  {
   "cell_type": "code",
   "execution_count": 55,
   "id": "fefba79e-efb3-479c-a38d-117e6bcbcf89",
   "metadata": {},
   "outputs": [
    {
     "name": "stdout",
     "output_type": "stream",
     "text": [
      "<class 'pandas.core.frame.DataFrame'>\n",
      "RangeIndex: 10000 entries, 0 to 9999\n",
      "Data columns (total 27 columns):\n",
      " #   Column               Non-Null Count  Dtype  \n",
      "---  ------               --------------  -----  \n",
      " 0   PATIENT_ID           10000 non-null  object \n",
      " 1   BIRTHDATE            10000 non-null  object \n",
      " 2   DEATHDATE            0 non-null      float64\n",
      " 3   SSN                  10000 non-null  object \n",
      " 4   DRIVERS              7680 non-null   object \n",
      " 5   PASSPORT             7039 non-null   object \n",
      " 6   PREFIX               7337 non-null   object \n",
      " 7   FIRST                10000 non-null  object \n",
      " 8   LAST                 10000 non-null  object \n",
      " 9   SUFFIX               59 non-null     object \n",
      " 10  MAIDEN               2352 non-null   object \n",
      " 11  MARITAL              5854 non-null   object \n",
      " 12  RACE                 10000 non-null  object \n",
      " 13  ETHNICITY            10000 non-null  object \n",
      " 14  GENDER               0 non-null      float64\n",
      " 15  BIRTHPLACE           10000 non-null  object \n",
      " 16  ADDRESS              10000 non-null  object \n",
      " 17  CITY                 10000 non-null  object \n",
      " 18  STATE                10000 non-null  object \n",
      " 19  COUNTY               10000 non-null  object \n",
      " 20  FIPS                 9710 non-null   float64\n",
      " 21  ZIP                  10000 non-null  int64  \n",
      " 22  LAT                  10000 non-null  float64\n",
      " 23  LON                  10000 non-null  float64\n",
      " 24  HEALTHCARE_EXPENSES  10000 non-null  float64\n",
      " 25  HEALTHCARE_COVERAGE  10000 non-null  float64\n",
      " 26  INCOME               10000 non-null  int64  \n",
      "dtypes: float64(7), int64(2), object(18)\n",
      "memory usage: 2.1+ MB\n"
     ]
    }
   ],
   "source": [
    "patients_df.info()"
   ]
  },
  {
   "cell_type": "code",
   "execution_count": 7,
   "id": "e06b142f-1ab0-4501-9c4a-8d1c28092bfe",
   "metadata": {},
   "outputs": [],
   "source": [
    "# Display basic information and first few rows of each dataset\n",
    "datasets = {\n",
    "    \"Patients\": patients_df,\n",
    "    \"Medications\": medications_df,\n",
    "    \"Symptoms\": symptoms_df,\n",
    "    \"Conditions\": conditions_df,\n",
    "    \"Encounters\": encounters_df,\n",
    "    \"patient_gender\": patient_gender_df\n",
    "}"
   ]
  },
  {
   "cell_type": "code",
   "execution_count": 8,
   "id": "a38eb6f8-88d3-423e-9d26-6254ab3f0506",
   "metadata": {},
   "outputs": [
    {
     "name": "stdout",
     "output_type": "stream",
     "text": [
      "Dataset: Patients\n",
      "<class 'pandas.core.frame.DataFrame'>\n",
      "RangeIndex: 10000 entries, 0 to 9999\n",
      "Data columns (total 27 columns):\n",
      " #   Column               Non-Null Count  Dtype  \n",
      "---  ------               --------------  -----  \n",
      " 0   PATIENT_ID           10000 non-null  object \n",
      " 1   BIRTHDATE            10000 non-null  object \n",
      " 2   DEATHDATE            0 non-null      float64\n",
      " 3   SSN                  10000 non-null  object \n",
      " 4   DRIVERS              7680 non-null   object \n",
      " 5   PASSPORT             7039 non-null   object \n",
      " 6   PREFIX               7337 non-null   object \n",
      " 7   FIRST                10000 non-null  object \n",
      " 8   LAST                 10000 non-null  object \n",
      " 9   SUFFIX               59 non-null     object \n",
      " 10  MAIDEN               2352 non-null   object \n",
      " 11  MARITAL              5854 non-null   object \n",
      " 12  RACE                 10000 non-null  object \n",
      " 13  ETHNICITY            10000 non-null  object \n",
      " 14  GENDER               0 non-null      float64\n",
      " 15  BIRTHPLACE           10000 non-null  object \n",
      " 16  ADDRESS              10000 non-null  object \n",
      " 17  CITY                 10000 non-null  object \n",
      " 18  STATE                10000 non-null  object \n",
      " 19  COUNTY               10000 non-null  object \n",
      " 20  FIPS                 9710 non-null   float64\n",
      " 21  ZIP                  10000 non-null  int64  \n",
      " 22  LAT                  10000 non-null  float64\n",
      " 23  LON                  10000 non-null  float64\n",
      " 24  HEALTHCARE_EXPENSES  10000 non-null  float64\n",
      " 25  HEALTHCARE_COVERAGE  10000 non-null  float64\n",
      " 26  INCOME               10000 non-null  int64  \n",
      "dtypes: float64(7), int64(2), object(18)\n",
      "memory usage: 2.1+ MB\n",
      "None\n",
      "                             PATIENT_ID   BIRTHDATE  DEATHDATE          SSN  \\\n",
      "0  54f1059e-6250-3949-6dd0-1dda9b85d22a  2002-01-21        NaN  999-28-3364   \n",
      "1  92675303-ca5b-136a-169b-e764c5753f06  1997-04-16        NaN  999-62-9859   \n",
      "2  a0b63e97-b6fd-5fe1-8f2d-2bec915efa97  1993-02-04        NaN  999-53-6488   \n",
      "3  abc59f62-dc5a-5095-1141-80b4ee8be73b  1995-05-23        NaN  999-37-1058   \n",
      "4  28d7b56c-6056-d0a2-2991-39d6e917216c  1993-11-13        NaN  999-31-6091   \n",
      "\n",
      "     DRIVERS    PASSPORT PREFIX         FIRST         LAST SUFFIX  ...  \\\n",
      "0  S99987398  X44428214X    Ms.  Fredricka415     Crist667    NaN  ...   \n",
      "1  S99999770  X75016560X    Mr.    Lorenzo669   Urrutia540    NaN  ...   \n",
      "2  S99979170  X60079936X    Mr.     Luther918  MacGyver246    NaN  ...   \n",
      "3  S99981031  X14759314X   Mrs.     Jacque955     Jones311    NaN  ...   \n",
      "4  S99958903  X63033472X   Mrs.     Angela104   Stanton715    NaN  ...   \n",
      "\n",
      "         CITY  STATE           COUNTY     FIPS    ZIP       LAT         LON  \\\n",
      "0  Fort Worth  Texas   Tarrant County  48439.0  76104  0.329154  -97.399553   \n",
      "1   Arlington  Texas   Tarrant County  48439.0  76006  0.328145  -97.068885   \n",
      "2     Houston  Texas    Harris County  48339.0  77357  0.300834  -95.649706   \n",
      "3        Waco  Texas  McLennan County  48309.0  76655  0.315173  -97.292558   \n",
      "4   Levelland  Texas   Hockley County  48219.0  79336  0.337037 -102.361829   \n",
      "\n",
      "  HEALTHCARE_EXPENSES HEALTHCARE_COVERAGE INCOME  \n",
      "0             9990.08                 0.0  35460  \n",
      "1            10936.80                 0.0  88407  \n",
      "2            10662.16                 0.0  41800  \n",
      "3            11455.93                 0.0  41915  \n",
      "4            12449.11                 0.0  67198  \n",
      "\n",
      "[5 rows x 27 columns]\n",
      "Dataset: Medications\n",
      "<class 'pandas.core.frame.DataFrame'>\n",
      "RangeIndex: 22237 entries, 0 to 22236\n",
      "Data columns (total 13 columns):\n",
      " #   Column             Non-Null Count  Dtype  \n",
      "---  ------             --------------  -----  \n",
      " 0   START              22237 non-null  object \n",
      " 1   STOP               19018 non-null  object \n",
      " 2   PATIENT            22237 non-null  object \n",
      " 3   PAYER              22237 non-null  object \n",
      " 4   ENCOUNTER          22237 non-null  object \n",
      " 5   CODE               22237 non-null  int64  \n",
      " 6   DESCRIPTION        22237 non-null  object \n",
      " 7   BASE_COST          22237 non-null  float64\n",
      " 8   PAYER_COVERAGE     22237 non-null  float64\n",
      " 9   DISPENSES          22237 non-null  int64  \n",
      " 10  TOTALCOST          22237 non-null  float64\n",
      " 11  REASONCODE         21924 non-null  float64\n",
      " 12  REASONDESCRIPTION  21924 non-null  object \n",
      "dtypes: float64(4), int64(2), object(7)\n",
      "memory usage: 2.2+ MB\n",
      "None\n",
      "                  START                  STOP  \\\n",
      "0  2020-04-22T02:47:09Z                   NaN   \n",
      "1  2020-04-22T02:47:09Z  2020-05-17T02:47:09Z   \n",
      "2  2021-08-01T02:47:09Z  2021-08-15T02:47:09Z   \n",
      "3  2021-08-01T02:47:09Z  2021-08-15T02:47:09Z   \n",
      "4  2023-05-18T02:47:09Z  2023-06-14T02:47:09Z   \n",
      "\n",
      "                                PATIENT                                 PAYER  \\\n",
      "0  28d7b56c-6056-d0a2-2991-39d6e917216c  0133f751-9229-3cfd-815f-b6d4979bdd6a   \n",
      "1  28d7b56c-6056-d0a2-2991-39d6e917216c  0133f751-9229-3cfd-815f-b6d4979bdd6a   \n",
      "2  28d7b56c-6056-d0a2-2991-39d6e917216c  0133f751-9229-3cfd-815f-b6d4979bdd6a   \n",
      "3  28d7b56c-6056-d0a2-2991-39d6e917216c  0133f751-9229-3cfd-815f-b6d4979bdd6a   \n",
      "4  28d7b56c-6056-d0a2-2991-39d6e917216c  0133f751-9229-3cfd-815f-b6d4979bdd6a   \n",
      "\n",
      "                              ENCOUNTER    CODE  \\\n",
      "0  402DFAEB-1888-F562-4651-F75203EB1E28  849574   \n",
      "1  402DFAEB-1888-F562-4651-F75203EB1E28  312615   \n",
      "2  FBC2F3B3-AB93-707E-AD9E-337990345F32  241834   \n",
      "3  FBC2F3B3-AB93-707E-AD9E-337990345F32  312615   \n",
      "4  E3989F64-4D5B-32E0-9EDC-7874A02F45E8  241834   \n",
      "\n",
      "                                  DESCRIPTION  BASE_COST  PAYER_COVERAGE  \\\n",
      "0          Naproxen sodium 220 MG Oral Tablet     274.28             0.0   \n",
      "1                predniSONE 20 MG Oral Tablet      16.04             0.0   \n",
      "2  cycloSPORINE  modified 100 MG Oral Capsule     473.61             0.0   \n",
      "3                predniSONE 20 MG Oral Tablet       8.21             0.0   \n",
      "4  cycloSPORINE  modified 100 MG Oral Capsule     408.04             0.0   \n",
      "\n",
      "   DISPENSES  TOTALCOST   REASONCODE    REASONDESCRIPTION  \n",
      "0         45   12342.60  200936003.0  Lupus erythematosus  \n",
      "1          1      16.04  200936003.0  Lupus erythematosus  \n",
      "2          1     473.61  200936003.0  Lupus erythematosus  \n",
      "3          1       8.21  200936003.0  Lupus erythematosus  \n",
      "4          1     408.04  200936003.0  Lupus erythematosus  \n",
      "Dataset: Symptoms\n",
      "<class 'pandas.core.frame.DataFrame'>\n",
      "RangeIndex: 1423 entries, 0 to 1422\n",
      "Data columns (total 9 columns):\n",
      " #   Column        Non-Null Count  Dtype  \n",
      "---  ------        --------------  -----  \n",
      " 0   PATIENT       1423 non-null   object \n",
      " 1   GENDER        0 non-null      float64\n",
      " 2   RACE          1423 non-null   object \n",
      " 3   ETHNICITY     1423 non-null   object \n",
      " 4   AGE_BEGIN     1423 non-null   int64  \n",
      " 5   AGE_END       0 non-null      float64\n",
      " 6   PATHOLOGY     1423 non-null   object \n",
      " 7   NUM_SYMPTOMS  1423 non-null   int64  \n",
      " 8   SYMPTOMS      1423 non-null   object \n",
      "dtypes: float64(2), int64(2), object(5)\n",
      "memory usage: 100.2+ KB\n",
      "None\n",
      "                                PATIENT  GENDER   RACE    ETHNICITY  \\\n",
      "0  28d7b56c-6056-d0a2-2991-39d6e917216c     NaN  white     hispanic   \n",
      "1  6c434506-fb4b-3e3f-c19d-553dec3b6c17     NaN  black     hispanic   \n",
      "2  44a8ca45-6c6e-38bb-fac0-ddbf7a7ee3a4     NaN  white  nonhispanic   \n",
      "3  780ec78c-22a0-fcdb-17c6-ae9b2fcace9c     NaN  white     hispanic   \n",
      "4  cf5956bb-34f2-841b-2505-57b99991c377     NaN  white  nonhispanic   \n",
      "\n",
      "   AGE_BEGIN  AGE_END            PATHOLOGY  NUM_SYMPTOMS  \\\n",
      "0         26      NaN  Lupus erythematosus             4   \n",
      "1         58      NaN  Lupus erythematosus             4   \n",
      "2         50      NaN  Lupus erythematosus             4   \n",
      "3         39      NaN  Lupus erythematosus             4   \n",
      "4         29      NaN  Lupus erythematosus             3   \n",
      "\n",
      "                                    SYMPTOMS  \n",
      "0   Rash:34;Joint Pain:39;Fatigue:9;Fever:12  \n",
      "1  Rash:19;Joint Pain:44;Fatigue:48;Fever:15  \n",
      "2    Rash:2;Joint Pain:32;Fatigue:12;Fever:6  \n",
      "3  Rash:30;Joint Pain:30;Fatigue:41;Fever:19  \n",
      "4   Rash:28;Joint Pain:26;Fatigue:33;Fever:5  \n",
      "Dataset: Conditions\n",
      "<class 'pandas.core.frame.DataFrame'>\n",
      "RangeIndex: 4149 entries, 0 to 4148\n",
      "Data columns (total 6 columns):\n",
      " #   Column       Non-Null Count  Dtype  \n",
      "---  ------       --------------  -----  \n",
      " 0   START        4149 non-null   object \n",
      " 1   STOP         0 non-null      float64\n",
      " 2   PATIENT      4149 non-null   object \n",
      " 3   ENCOUNTER    4149 non-null   object \n",
      " 4   CODE         4149 non-null   int64  \n",
      " 5   DESCRIPTION  4149 non-null   object \n",
      "dtypes: float64(1), int64(1), object(4)\n",
      "memory usage: 194.6+ KB\n",
      "None\n",
      "        START  STOP                               PATIENT  \\\n",
      "0  2020-04-21   NaN  28D7B56C-6056-D0A2-2991-39D6E917216C   \n",
      "1  2001-11-07   NaN  239AE86A-96DB-6211-9042-D3F2850AABB8   \n",
      "2  2001-11-07   NaN  239AE86A-96DB-6211-9042-D3F2850AABB8   \n",
      "3  2017-11-05   NaN  6C434506-FB4B-3E3F-C19D-553DEC3B6C17   \n",
      "4  1989-09-15   NaN  6872DEF5-772F-427C-3053-DE6E1C71CE0A   \n",
      "\n",
      "                              ENCOUNTER       CODE          DESCRIPTION  \n",
      "0  402dfaeb-1888-f562-4651-f75203eb1e28  200936003  Lupus erythematosus  \n",
      "1  10d39d6f-7d98-8d03-8866-0a7cd363890b  200936003  Lupus erythematosus  \n",
      "2  10d39d6f-7d98-8d03-8866-0a7cd363890b  271737000    Anemia (disorder)  \n",
      "3  add4fa37-cabe-a5aa-f9da-8117464bad04  200936003  Lupus erythematosus  \n",
      "4  d8a684cb-6ce1-5909-59e7-3422469d18d0  200936003  Lupus erythematosus  \n",
      "Dataset: Encounters\n",
      "root\n",
      " |-- Id: string (nullable = true)\n",
      " |-- START: string (nullable = true)\n",
      " |-- STOP: string (nullable = true)\n",
      " |-- PATIENT: string (nullable = true)\n",
      " |-- ORGANIZATION: string (nullable = true)\n",
      " |-- PROVIDER: string (nullable = true)\n",
      " |-- PAYER: string (nullable = true)\n",
      " |-- ENCOUNTERCLASS: string (nullable = true)\n",
      " |-- CODE: long (nullable = true)\n",
      " |-- DESCRIPTION: string (nullable = true)\n",
      " |-- BASE_ENCOUNTER_COST: double (nullable = true)\n",
      " |-- TOTAL_CLAIM_COST: double (nullable = true)\n",
      " |-- PAYER_COVERAGE: double (nullable = true)\n",
      " |-- REASONCODE: double (nullable = true)\n",
      " |-- REASONDESCRIPTION: string (nullable = true)\n",
      "\n"
     ]
    },
    {
     "name": "stderr",
     "output_type": "stream",
     "text": [
      "                                                                                \r"
     ]
    },
    {
     "name": "stdout",
     "output_type": "stream",
     "text": [
      "+--------------------+--------------------+--------------------+--------------------+--------------------+--------------------+--------------------+--------------+---------+--------------------+-------------------+----------------+--------------+----------+-----------------+\n",
      "|                  Id|               START|                STOP|             PATIENT|        ORGANIZATION|            PROVIDER|               PAYER|ENCOUNTERCLASS|     CODE|         DESCRIPTION|BASE_ENCOUNTER_COST|TOTAL_CLAIM_COST|PAYER_COVERAGE|REASONCODE|REASONDESCRIPTION|\n",
      "+--------------------+--------------------+--------------------+--------------------+--------------------+--------------------+--------------------+--------------+---------+--------------------+-------------------+----------------+--------------+----------+-----------------+\n",
      "|6539c675-dcf2-cac...|2014-02-10T11:00:08Z|2014-02-10T11:15:08Z|54F1059E-6250-394...|ef42ec52-a1c1-3fc...|35088bec-f756-35d...|8fa6c185-e44e-3e3...|      wellness|410620009|Well child visit ...|             133.36|          405.36|           0.0|      NULL|             NULL|\n",
      "|748a443c-9819-4f3...|2014-06-04T05:19:43Z|2014-06-04T05:34:43Z|92675303-CA5B-136...|02078b23-a943-317...|af22b73b-d38f-3d9...|b046940f-1664-304...|      wellness|410620009|Well child visit ...|             133.36|          269.36|           0.0|      NULL|             NULL|\n",
      "|678e03b1-21ac-fbf...|2015-06-10T05:19:43Z|2015-06-10T05:34:43Z|92675303-CA5B-136...|02078b23-a943-317...|af22b73b-d38f-3d9...|b046940f-1664-304...|      wellness|162673000|General examinati...|             133.36|          269.36|           0.0|      NULL|             NULL|\n",
      "|45987160-8815-858...|2015-04-10T03:27:04Z|2015-04-10T03:42:04Z|A0B63E97-B6FD-5FE...|44f0ad91-f33b-3fe...|a79c71d6-e0b4-345...|734afbd6-4794-363...|      wellness|162673000|General examinati...|             133.36|          677.36|           0.0|      NULL|             NULL|\n",
      "|c56e3b19-5a51-0fc...|2016-06-15T05:19:43Z|2016-06-15T05:34:43Z|92675303-CA5B-136...|02078b23-a943-317...|af22b73b-d38f-3d9...|b046940f-1664-304...|      wellness|162673000|General examinati...|             133.36|          269.36|           0.0|      NULL|             NULL|\n",
      "+--------------------+--------------------+--------------------+--------------------+--------------------+--------------------+--------------------+--------------+---------+--------------------+-------------------+----------------+--------------+----------+-----------------+\n",
      "only showing top 5 rows\n",
      "\n",
      "Dataset: patient_gender\n",
      "<class 'pandas.core.frame.DataFrame'>\n",
      "RangeIndex: 10000 entries, 0 to 9999\n",
      "Data columns (total 2 columns):\n",
      " #   Column  Non-Null Count  Dtype \n",
      "---  ------  --------------  ----- \n",
      " 0   Id      10000 non-null  object\n",
      " 1   GENDER  10000 non-null  object\n",
      "dtypes: object(2)\n",
      "memory usage: 156.4+ KB\n",
      "None\n",
      "                                     Id GENDER\n",
      "0  54f1059e-6250-3949-6dd0-1dda9b85d22a      F\n",
      "1  92675303-ca5b-136a-169b-e764c5753f06      M\n",
      "2  a0b63e97-b6fd-5fe1-8f2d-2bec915efa97      M\n",
      "3  abc59f62-dc5a-5095-1141-80b4ee8be73b      F\n",
      "4  28d7b56c-6056-d0a2-2991-39d6e917216c      F\n"
     ]
    }
   ],
   "source": [
    "for name, df in datasets.items():\n",
    "    print(f\"Dataset: {name}\")\n",
    "    if isinstance(df, pd.DataFrame):\n",
    "        print(df.info())\n",
    "        print(df.head())\n",
    "    else:\n",
    "        df.printSchema()\n",
    "        df.show(5)"
   ]
  },
  {
   "cell_type": "code",
   "execution_count": 54,
   "id": "a465369c-5ccc-4b81-8281-8c8fd63bfa2b",
   "metadata": {},
   "outputs": [
    {
     "name": "stdout",
     "output_type": "stream",
     "text": [
      "                             patient_id  gender\n",
      "0  54f1059e-6250-3949-6dd0-1dda9b85d22a  Female\n",
      "1  92675303-ca5b-136a-169b-e764c5753f06    Male\n",
      "2  a0b63e97-b6fd-5fe1-8f2d-2bec915efa97    Male\n",
      "3  abc59f62-dc5a-5095-1141-80b4ee8be73b  Female\n",
      "4  28d7b56c-6056-d0a2-2991-39d6e917216c  Female\n",
      "                                  patient_id  gender\n",
      "count                                  10000   10000\n",
      "unique                                 10000       2\n",
      "top     8d116ace-7fb6-7d5f-b86b-94547cbd796d  Female\n",
      "freq                                       1    5090\n",
      "patient_id    0\n",
      "gender        0\n",
      "dtype: int64\n",
      "patient_id    object\n",
      "gender        object\n",
      "dtype: object\n",
      "                             patient_id  gender\n",
      "0  54f1059e-6250-3949-6dd0-1dda9b85d22a  Female\n",
      "1  92675303-ca5b-136a-169b-e764c5753f06    Male\n",
      "2  a0b63e97-b6fd-5fe1-8f2d-2bec915efa97    Male\n",
      "3  abc59f62-dc5a-5095-1141-80b4ee8be73b  Female\n",
      "4  28d7b56c-6056-d0a2-2991-39d6e917216c  Female\n"
     ]
    },
    {
     "data": {
      "text/html": [
       "<pre style=\"white-space:pre;overflow-x:auto;line-height:normal;font-family:Menlo,'DejaVu Sans Mono',consolas,'Courier New',monospace\"></pre>\n"
      ],
      "text/plain": []
     },
     "metadata": {},
     "output_type": "display_data"
    },
    {
     "data": {
      "image/png": "[encoded data removed]",
      "text/plain": [
       "\u001b[1m<\u001b[0m\u001b[1;95mFigure\u001b[0m\u001b[39m size 100\u001b[0m\u001b[1;36m0x600\u001b[0m\u001b[39m with \u001b[0m\u001b[1;36m1\u001b[0m\u001b[39m Axes\u001b[0m\u001b[1m>\u001b[0m"
      ]
     },
     "metadata": {},
     "output_type": "display_data"
    }
   ],
   "source": [
    "# Patient Gender DF\n",
    "# Display the first few rows of the dataset to understand its structure\n",
    "print(patient_gender_df.head())\n",
    "\n",
    "# Display basic statistics to identify outliers\n",
    "print(patient_gender_df.describe())\n",
    "\n",
    "# Check for any null values\n",
    "print(patient_gender_df.isnull().sum())\n",
    "\n",
    "# Check the data types of each column\n",
    "print(patient_gender_df.dtypes)\n",
    "\n",
    "# Rename columns to a consistent format (if needed)\n",
    "patient_gender_df.rename(columns={\n",
    "    'PatientID': 'patient_id',\n",
    "    'Gender': 'gender'\n",
    "}, inplace=True)\n",
    "\n",
    "# Standardize the gender field: Capitalize each word and handle 'Unknown' gender\n",
    "patient_gender_df['gender'] = patient_gender_df['gender'].str.title()\n",
    "patient_gender_df['gender'] = patient_gender_df['gender'].replace({'M': 'Male', 'F': 'Female', 'U': 'Unknown'})\n",
    "\n",
    "# Handle missing values (if any)\n",
    "patient_gender_df.fillna({'gender': 'Unknown'}, inplace=True)\n",
    "\n",
    "# Display the cleaned data\n",
    "print(patient_gender_df.head())\n",
    "\n",
    "# Visualize the gender distribution to identify outliers\n",
    "plt.figure(figsize=(10, 6))\n",
    "sns.countplot(x='gender', data=patient_gender_df)\n",
    "plt.title('Gender Distribution of Patients')\n",
    "plt.xlabel('Gender')\n",
    "plt.ylabel('Count')\n",
    "plt.show()\n"
   ]
  },
  {
   "cell_type": "code",
   "execution_count": null,
   "id": "8c391579-b897-4826-ae71-c1b7bfc2a45e",
   "metadata": {},
   "outputs": [],
   "source": [
    "## Findings:\n",
    "- **Birth Date:** Some missing values (150), with dates ranging from 1913 to 2024.\n",
    "- **Death Date:** All values missing (10000).\n",
    "- **Gender (GENDER):** All values missing. Process in next stage\n",
    "- **Prefix and Suffix:** Inconsistent and many missing values (2663 and 9941 respectively).\n",
    "- **Age:** Some outliers detected and corrected, ranging from 0 to 111 years.\n",
    "- **Healthcare Expenses:** Some outliers corrected using IQR method.\n",
    "- **Income:** Includes negative values (-986794), which may need further investigation.\n",
    "- **Missing Data:** Significant missing data in death date, gender, prefix, suffix, maiden name, marital status.\n",
    "\n",
    "### Assumptions:\n",
    "- Birth Date is critical for analysis, so records with missing Birth Date are removed.\n",
    "- Income should be a positive value, so negative income values are filtered out.\n",
    "- Prefix and Suffix are standardized to title case and uppercase respectively.\n",
    "- Age outliers are corrected based on reasonable assumptions about human lifespan.\n",
    "- Healthcare Expenses outliers are adjusted using the IQR method to maintain data integrity."
   ]
  },
  {
   "cell_type": "code",
   "execution_count": 24,
   "id": "c3460520-622c-4355-bba3-39e70e34a54d",
   "metadata": {},
   "outputs": [
    {
     "name": "stdout",
     "output_type": "stream",
     "text": [
      "                             patient_id birth_date  death_date  \\\n",
      "0  54f1059e-6250-3949-6dd0-1dda9b85d22a 2002-01-21         NaN   \n",
      "1  92675303-ca5b-136a-169b-e764c5753f06 1997-04-16         NaN   \n",
      "2  a0b63e97-b6fd-5fe1-8f2d-2bec915efa97 1993-02-04         NaN   \n",
      "3  abc59f62-dc5a-5095-1141-80b4ee8be73b 1995-05-23         NaN   \n",
      "4  28d7b56c-6056-d0a2-2991-39d6e917216c 1993-11-13         NaN   \n",
      "\n",
      "  social_security_number driversLicense    passport prefix    first_name  \\\n",
      "0            999-28-3364      S99987398  X44428214X    Ms.  Fredricka415   \n",
      "1            999-62-9859      S99999770  X75016560X    Mr.    Lorenzo669   \n",
      "2            999-53-6488      S99979170  X60079936X    Mr.     Luther918   \n",
      "3            999-37-1058      S99981031  X14759314X   Mrs.     Jacque955   \n",
      "4            999-31-6091      S99958903  X63033472X   Mrs.     Angela104   \n",
      "\n",
      "     last_name suffix  ...  state           county     Fips zip_code  \\\n",
      "0     Crist667    NaN  ...  Texas   Tarrant County  48439.0    76104   \n",
      "1   Urrutia540    NaN  ...  Texas   Tarrant County  48439.0    76006   \n",
      "2  MacGyver246    NaN  ...  Texas    Harris County  48339.0    77357   \n",
      "3     Jones311    NaN  ...  Texas  McLennan County  48309.0    76655   \n",
      "4   Stanton715    NaN  ...  Texas   Hockley County  48219.0    79336   \n",
      "\n",
      "   latitude   longitude healthcare_expenses healthcare_coverage income   age  \n",
      "0  0.329154  -97.399553             9990.08                 0.0  35460  22.0  \n",
      "1  0.328145  -97.068885            10936.80                 0.0  88407  27.0  \n",
      "2  0.300834  -95.649706            10662.16                 0.0  41800  31.0  \n",
      "3  0.315173  -97.292558            11455.93                 0.0  41915  29.0  \n",
      "4  0.337037 -102.361829            12449.11                 0.0  67198  30.0  \n",
      "\n",
      "[5 rows x 28 columns]\n"
     ]
    },
    {
     "data": {
      "text/html": [
       "<pre style=\"white-space:pre;overflow-x:auto;line-height:normal;font-family:Menlo,'DejaVu Sans Mono',consolas,'Courier New',monospace\"><span style=\"color: #800000; text-decoration-color: #800000\">╭─────────────────────────────── </span><span style=\"color: #800000; text-decoration-color: #800000; font-weight: bold\">Traceback </span><span style=\"color: #bf7f7f; text-decoration-color: #bf7f7f; font-weight: bold\">(most recent call last)</span><span style=\"color: #800000; text-decoration-color: #800000\"> ────────────────────────────────╮</span>\n",
       "<span style=\"color: #800000; text-decoration-color: #800000\">│</span> in <span style=\"color: #00ff00; text-decoration-color: #00ff00\">&lt;module&gt;</span>:<span style=\"color: #0000ff; text-decoration-color: #0000ff\">64</span>                                                                                   <span style=\"color: #800000; text-decoration-color: #800000\">│</span>\n",
       "<span style=\"color: #800000; text-decoration-color: #800000\">│</span>                                                                                                  <span style=\"color: #800000; text-decoration-color: #800000\">│</span>\n",
       "<span style=\"color: #800000; text-decoration-color: #800000\">│</span>   <span style=\"color: #7f7f7f; text-decoration-color: #7f7f7f\">61 # Display first few rows to verify</span>                                                          <span style=\"color: #800000; text-decoration-color: #800000\">│</span>\n",
       "<span style=\"color: #800000; text-decoration-color: #800000\">│</span>   <span style=\"color: #7f7f7f; text-decoration-color: #7f7f7f\">62 </span><span style=\"color: #00ffff; text-decoration-color: #00ffff\">print</span>(patients_df.head())                                                                   <span style=\"color: #800000; text-decoration-color: #800000\">│</span>\n",
       "<span style=\"color: #800000; text-decoration-color: #800000\">│</span>   <span style=\"color: #7f7f7f; text-decoration-color: #7f7f7f\">63 </span>                                                                                            <span style=\"color: #800000; text-decoration-color: #800000\">│</span>\n",
       "<span style=\"color: #800000; text-decoration-color: #800000\">│</span> <span style=\"color: #800000; text-decoration-color: #800000\">❱ </span>64 <span style=\"color: #00ffff; text-decoration-color: #00ffff\">print</span>(patients_df.summary())                                                                <span style=\"color: #800000; text-decoration-color: #800000\">│</span>\n",
       "<span style=\"color: #800000; text-decoration-color: #800000\">│</span>   <span style=\"color: #7f7f7f; text-decoration-color: #7f7f7f\">65 # # Calculate age based on 'BIRTHDATE' and current date</span>                                     <span style=\"color: #800000; text-decoration-color: #800000\">│</span>\n",
       "<span style=\"color: #800000; text-decoration-color: #800000\">│</span>   <span style=\"color: #7f7f7f; text-decoration-color: #7f7f7f\">66 # patients_df['age'] = (datetime.now() - patients_df['birth_date']).astype('&lt;m8[Y]').ast</span>    <span style=\"color: #800000; text-decoration-color: #800000\">│</span>\n",
       "<span style=\"color: #800000; text-decoration-color: #800000\">│</span>   <span style=\"color: #7f7f7f; text-decoration-color: #7f7f7f\">67 </span>                                                                                            <span style=\"color: #800000; text-decoration-color: #800000\">│</span>\n",
       "<span style=\"color: #800000; text-decoration-color: #800000\">│</span>                                                                                                  <span style=\"color: #800000; text-decoration-color: #800000\">│</span>\n",
       "<span style=\"color: #800000; text-decoration-color: #800000\">│</span> <span style=\"color: #bfbf7f; text-decoration-color: #bfbf7f\">/opt/anaconda3/envs/kedro-environment/lib/python3.10/site-packages/pandas/core/</span><span style=\"color: #808000; text-decoration-color: #808000; font-weight: bold\">generic.py</span>:<span style=\"color: #0000ff; text-decoration-color: #0000ff\">6299</span>   <span style=\"color: #800000; text-decoration-color: #800000\">│</span>\n",
       "<span style=\"color: #800000; text-decoration-color: #800000\">│</span> in <span style=\"color: #00ff00; text-decoration-color: #00ff00\">__getattr__</span>                                                                                   <span style=\"color: #800000; text-decoration-color: #800000\">│</span>\n",
       "<span style=\"color: #800000; text-decoration-color: #800000\">│</span>                                                                                                  <span style=\"color: #800000; text-decoration-color: #800000\">│</span>\n",
       "<span style=\"color: #800000; text-decoration-color: #800000\">│</span>   <span style=\"color: #7f7f7f; text-decoration-color: #7f7f7f\"> 6296 </span><span style=\"color: #7f7f7f; text-decoration-color: #7f7f7f\">│   │   │   </span><span style=\"color: #ff00ff; text-decoration-color: #ff00ff\">and</span> <span style=\"color: #00ffff; text-decoration-color: #00ffff\">self</span>._info_axis._can_hold_identifiers_and_holds_name(name)               <span style=\"color: #800000; text-decoration-color: #800000\">│</span>\n",
       "<span style=\"color: #800000; text-decoration-color: #800000\">│</span>   <span style=\"color: #7f7f7f; text-decoration-color: #7f7f7f\"> 6297 </span><span style=\"color: #7f7f7f; text-decoration-color: #7f7f7f\">│   │   </span>):                                                                               <span style=\"color: #800000; text-decoration-color: #800000\">│</span>\n",
       "<span style=\"color: #800000; text-decoration-color: #800000\">│</span>   <span style=\"color: #7f7f7f; text-decoration-color: #7f7f7f\"> 6298 </span><span style=\"color: #7f7f7f; text-decoration-color: #7f7f7f\">│   │   │   </span><span style=\"color: #0000ff; text-decoration-color: #0000ff\">return</span> <span style=\"color: #00ffff; text-decoration-color: #00ffff\">self</span>[name]                                                            <span style=\"color: #800000; text-decoration-color: #800000\">│</span>\n",
       "<span style=\"color: #800000; text-decoration-color: #800000\">│</span> <span style=\"color: #800000; text-decoration-color: #800000\">❱ </span> 6299 <span style=\"color: #7f7f7f; text-decoration-color: #7f7f7f\">│   │   </span><span style=\"color: #0000ff; text-decoration-color: #0000ff\">return</span> <span style=\"color: #00ffff; text-decoration-color: #00ffff\">object</span>.<span style=\"color: #00ff00; text-decoration-color: #00ff00\">__getattribute__</span>(<span style=\"color: #00ffff; text-decoration-color: #00ffff\">self</span>, name)                                       <span style=\"color: #800000; text-decoration-color: #800000\">│</span>\n",
       "<span style=\"color: #800000; text-decoration-color: #800000\">│</span>   <span style=\"color: #7f7f7f; text-decoration-color: #7f7f7f\"> 6300 </span><span style=\"color: #7f7f7f; text-decoration-color: #7f7f7f\">│   </span>                                                                                     <span style=\"color: #800000; text-decoration-color: #800000\">│</span>\n",
       "<span style=\"color: #800000; text-decoration-color: #800000\">│</span>   <span style=\"color: #7f7f7f; text-decoration-color: #7f7f7f\"> 6301 </span><span style=\"color: #7f7f7f; text-decoration-color: #7f7f7f\">│   </span><span style=\"color: #ff00ff; text-decoration-color: #ff00ff; font-weight: bold\">@final</span>                                                                               <span style=\"color: #800000; text-decoration-color: #800000\">│</span>\n",
       "<span style=\"color: #800000; text-decoration-color: #800000\">│</span>   <span style=\"color: #7f7f7f; text-decoration-color: #7f7f7f\"> 6302 </span><span style=\"color: #7f7f7f; text-decoration-color: #7f7f7f\">│   </span><span style=\"color: #0000ff; text-decoration-color: #0000ff\">def</span> <span style=\"color: #00ff00; text-decoration-color: #00ff00\">__setattr__</span>(<span style=\"color: #00ffff; text-decoration-color: #00ffff\">self</span>, name: <span style=\"color: #00ffff; text-decoration-color: #00ffff\">str</span>, value) -&gt; <span style=\"color: #0000ff; text-decoration-color: #0000ff\">None</span>:                                     <span style=\"color: #800000; text-decoration-color: #800000\">│</span>\n",
       "<span style=\"color: #800000; text-decoration-color: #800000\">╰──────────────────────────────────────────────────────────────────────────────────────────────────╯</span>\n",
       "<span style=\"color: #ff0000; text-decoration-color: #ff0000; font-weight: bold\">AttributeError: </span><span style=\"color: #008000; text-decoration-color: #008000\">'DataFrame'</span> object has no attribute <span style=\"color: #008000; text-decoration-color: #008000\">'summary'</span>\n",
       "</pre>\n"
      ],
      "text/plain": [
       "\u001b[31m╭─\u001b[0m\u001b[31m──────────────────────────────\u001b[0m\u001b[31m \u001b[0m\u001b[1;31mTraceback \u001b[0m\u001b[1;2;31m(most recent call last)\u001b[0m\u001b[31m \u001b[0m\u001b[31m───────────────────────────────\u001b[0m\u001b[31m─╮\u001b[0m\n",
       "\u001b[31m│\u001b[0m in \u001b[92m<module>\u001b[0m:\u001b[94m64\u001b[0m                                                                                   \u001b[31m│\u001b[0m\n",
       "\u001b[31m│\u001b[0m                                                                                                  \u001b[31m│\u001b[0m\n",
       "\u001b[31m│\u001b[0m   \u001b[2m61 \u001b[0m\u001b[2m# Display first few rows to verify\u001b[0m                                                          \u001b[31m│\u001b[0m\n",
       "\u001b[31m│\u001b[0m   \u001b[2m62 \u001b[0m\u001b[96mprint\u001b[0m(patients_df.head())                                                                   \u001b[31m│\u001b[0m\n",
       "\u001b[31m│\u001b[0m   \u001b[2m63 \u001b[0m                                                                                            \u001b[31m│\u001b[0m\n",
       "\u001b[31m│\u001b[0m \u001b[31m❱ \u001b[0m64 \u001b[96mprint\u001b[0m(patients_df.summary())                                                                \u001b[31m│\u001b[0m\n",
       "\u001b[31m│\u001b[0m   \u001b[2m65 \u001b[0m\u001b[2m# # Calculate age based on 'BIRTHDATE' and current date\u001b[0m                                     \u001b[31m│\u001b[0m\n",
       "\u001b[31m│\u001b[0m   \u001b[2m66 \u001b[0m\u001b[2m# patients_df['age'] = (datetime.now() - patients_df['birth_date']).astype('<m8[Y]').ast\u001b[0m    \u001b[31m│\u001b[0m\n",
       "\u001b[31m│\u001b[0m   \u001b[2m67 \u001b[0m                                                                                            \u001b[31m│\u001b[0m\n",
       "\u001b[31m│\u001b[0m                                                                                                  \u001b[31m│\u001b[0m\n",
       "\u001b[31m│\u001b[0m \u001b[2;33m/opt/anaconda3/envs/kedro-environment/lib/python3.10/site-packages/pandas/core/\u001b[0m\u001b[1;33mgeneric.py\u001b[0m:\u001b[94m6299\u001b[0m   \u001b[31m│\u001b[0m\n",
       "\u001b[31m│\u001b[0m in \u001b[92m__getattr__\u001b[0m                                                                                   \u001b[31m│\u001b[0m\n",
       "\u001b[31m│\u001b[0m                                                                                                  \u001b[31m│\u001b[0m\n",
       "\u001b[31m│\u001b[0m   \u001b[2m 6296 \u001b[0m\u001b[2m│   │   │   \u001b[0m\u001b[95mand\u001b[0m \u001b[96mself\u001b[0m._info_axis._can_hold_identifiers_and_holds_name(name)               \u001b[31m│\u001b[0m\n",
       "\u001b[31m│\u001b[0m   \u001b[2m 6297 \u001b[0m\u001b[2m│   │   \u001b[0m):                                                                               \u001b[31m│\u001b[0m\n",
       "\u001b[31m│\u001b[0m   \u001b[2m 6298 \u001b[0m\u001b[2m│   │   │   \u001b[0m\u001b[94mreturn\u001b[0m \u001b[96mself\u001b[0m[name]                                                            \u001b[31m│\u001b[0m\n",
       "\u001b[31m│\u001b[0m \u001b[31m❱ \u001b[0m 6299 \u001b[2m│   │   \u001b[0m\u001b[94mreturn\u001b[0m \u001b[96mobject\u001b[0m.\u001b[92m__getattribute__\u001b[0m(\u001b[96mself\u001b[0m, name)                                       \u001b[31m│\u001b[0m\n",
       "\u001b[31m│\u001b[0m   \u001b[2m 6300 \u001b[0m\u001b[2m│   \u001b[0m                                                                                     \u001b[31m│\u001b[0m\n",
       "\u001b[31m│\u001b[0m   \u001b[2m 6301 \u001b[0m\u001b[2m│   \u001b[0m\u001b[1;95m@final\u001b[0m                                                                               \u001b[31m│\u001b[0m\n",
       "\u001b[31m│\u001b[0m   \u001b[2m 6302 \u001b[0m\u001b[2m│   \u001b[0m\u001b[94mdef\u001b[0m \u001b[92m__setattr__\u001b[0m(\u001b[96mself\u001b[0m, name: \u001b[96mstr\u001b[0m, value) -> \u001b[94mNone\u001b[0m:                                     \u001b[31m│\u001b[0m\n",
       "\u001b[31m╰──────────────────────────────────────────────────────────────────────────────────────────────────╯\u001b[0m\n",
       "\u001b[1;91mAttributeError: \u001b[0m\u001b[32m'DataFrame'\u001b[0m object has no attribute \u001b[32m'summary'\u001b[0m\n"
      ]
     },
     "metadata": {},
     "output_type": "display_data"
    }
   ],
   "source": [
    "import numpy as np\n",
    "# Rename columns to match Tuva Data Model Input Layer\n",
    "patients_df.rename(columns={\n",
    "    'PATIENT_ID': 'patient_id',\n",
    "    'BIRTHDATE': 'birth_date',\n",
    "    'DEATHDATE': 'death_date',\n",
    "    'SSN': 'social_security_number',\n",
    "    'DRIVERS': 'driversLicense',\n",
    "    'PASSPORT': 'passport',\n",
    "    'PREFIX': 'prefix',\n",
    "    'FIRST': 'first_name',\n",
    "    'LAST': 'last_name',\n",
    "    'SUFFIX': 'suffix',\n",
    "    'MAIDEN': 'maiden_name',\n",
    "    'MARITAL': 'marital_status',\n",
    "    'RACE': 'Race',\n",
    "    'ETHNICITY': 'ethnicity',\n",
    "    'BIRTHPLACE': 'birthPlace',\n",
    "    'ADDRESS': 'address',\n",
    "    'CITY': 'city',\n",
    "    'STATE': 'state',\n",
    "    'COUNTY': 'county',\n",
    "    'FIPS': 'Fips',\n",
    "    'ZIP': 'zip_code',\n",
    "    'LAT': 'latitude',\n",
    "    'LON': 'longitude',\n",
    "    'HEALTHCARE_EXPENSES': 'healthcare_expenses',\n",
    "    'HEALTHCARE_COVERAGE': 'healthcare_coverage',\n",
    "    'INCOME': 'income'\n",
    "}, inplace=True)\n",
    "\n",
    "# Convert 'BIRTHDATE' to datetime format\n",
    "patients_df['birth_date'] = pd.to_datetime(patients_df['birth_date'], errors='coerce')\n",
    "patients_df['age'] = (datetime.now() - patients_df['birth_date']).dt.days // 365\n",
    "\n",
    "# Remove records with missing Birth Date\n",
    "patients_df = patients_df.dropna(subset=['birth_date'])\n",
    "\n",
    "# Remove negative values from Income\n",
    "patients_df = patients_df[patients_df['income'] > 0]\n",
    "\n",
    "# Standardize prefix and suffix\n",
    "patients_df['prefix'] = patients_df['prefix'].str.strip().str.title()\n",
    "patients_df['suffix'] = patients_df['suffix'].str.strip().str.upper()\n",
    "\n",
    "# Handle age outliers\n",
    "mean_age = patients_df['age'].mean()\n",
    "patients_df['age'] = np.where((patients_df['age'] < 0) | (patients_df['age'] > 120), mean_age, patients_df['age'])\n",
    "\n",
    "# Handle healthcare_expenses outliers\n",
    "Q1 = patients_df['healthcare_expenses'].quantile(0.25)\n",
    "Q3 = patients_df['healthcare_expenses'].quantile(0.75)\n",
    "IQR = Q3 - Q1\n",
    "lower_bound = Q1 - 1.5 * IQR\n",
    "upper_bound = Q3 + 1.5 * IQR\n",
    "patients_df['healthcare_expenses'] = np.where((patients_df['healthcare_expenses'] < lower_bound) | (patients_df['healthcare_expenses'] > upper_bound), np.nan, patients_df['healthcare_expenses'])\n",
    "\n",
    "# # Save cleaned dataset\n",
    "# patients_df.to_csv('cleaned_patients.csv', index=False)\n",
    "\n",
    "# Display first few rows to verify\n",
    "print(patients_df.head())\n",
    "\n",
    "# # Calculate age based on 'BIRTHDATE' and current date\n",
    "# patients_df['age'] = (datetime.now() - patients_df['birth_date']).astype('<m8[Y]').astype(int)"
   ]
  },
  {
   "cell_type": "code",
   "execution_count": 22,
   "id": "a2ed48f3-4ed0-4879-b6a6-78f59157583c",
   "metadata": {},
   "outputs": [
    {
     "name": "stdout",
     "output_type": "stream",
     "text": [
      "Summary Statistics:\n",
      "                          birth_date  death_date  GENDER          Fips  \\\n",
      "count                           9850         0.0     0.0   9710.000000   \n",
      "mean   1988-03-25 14:32:19.979695424         NaN     NaN  48188.824717   \n",
      "min              1913-05-15 00:00:00         NaN     NaN  35013.000000   \n",
      "25%              1971-01-12 00:00:00         NaN     NaN  48113.000000   \n",
      "50%              1990-05-10 12:00:00         NaN     NaN  48201.000000   \n",
      "75%              2007-01-31 00:00:00         NaN     NaN  48355.000000   \n",
      "max              2024-01-22 00:00:00         NaN     NaN  48507.000000   \n",
      "std                              NaN         NaN     NaN    690.565166   \n",
      "\n",
      "           zip_code      latitude     longitude  healthcare_expenses  \\\n",
      "count  10000.000000  10000.000000  10000.000000         10000.000000   \n",
      "mean   74947.406200      0.309868    -97.548956         10489.406391   \n",
      "min        0.000000      0.258876   -106.646755           100.000000   \n",
      "25%    75904.000000      0.296555    -98.195686          6889.780000   \n",
      "50%    77099.000000      0.306608    -97.126683         10761.620000   \n",
      "75%    78260.000000      0.327973    -95.921881         13374.712500   \n",
      "max    88063.000000      0.365969    -93.752308         27627.160000   \n",
      "std    13036.344689      0.020044      2.438536          5256.509164   \n",
      "\n",
      "       healthcare_coverage        income          age  \n",
      "count         10000.000000   10000.00000  9850.000000  \n",
      "mean           1817.903496   85358.40780    35.835127  \n",
      "min               0.000000 -986794.00000     0.000000  \n",
      "25%               0.000000   25129.25000    17.000000  \n",
      "50%               0.000000   51009.50000    34.000000  \n",
      "75%            3578.720000   94730.75000    53.000000  \n",
      "max           10808.450000  998831.00000   111.000000  \n",
      "std            2462.371193  141329.22638    22.487614  \n",
      "\n",
      "Missing Values:\n",
      "patient_id                    0\n",
      "birth_date                  150\n",
      "death_date                10000\n",
      "social_security_number        0\n",
      "driversLicense             2320\n",
      "passport                   2961\n",
      "prefix                     2663\n",
      "first_name                    0\n",
      "last_name                     0\n",
      "suffix                     9941\n",
      "maiden_name                7648\n",
      "marital_status             4146\n",
      "Race                          0\n",
      "ethnicity                     0\n",
      "GENDER                    10000\n",
      "birthPlace                    0\n",
      "address                       0\n",
      "city                          0\n",
      "state                         0\n",
      "county                        0\n",
      "Fips                        290\n",
      "zip_code                      0\n",
      "latitude                      0\n",
      "longitude                     0\n",
      "healthcare_expenses           0\n",
      "healthcare_coverage           0\n",
      "income                        0\n",
      "age                         150\n",
      "dtype: int64\n",
      "\n",
      "Unique Values:\n",
      "patient_id                10000\n",
      "birth_date                 8309\n",
      "death_date                    0\n",
      "social_security_number     9949\n",
      "driversLicense             7366\n",
      "passport                   7039\n",
      "prefix                        3\n",
      "first_name                 3693\n",
      "last_name                  1087\n",
      "suffix                        3\n",
      "maiden_name                 810\n",
      "marital_status                4\n",
      "Race                          6\n",
      "ethnicity                     2\n",
      "GENDER                        0\n",
      "birthPlace                  886\n",
      "address                   10000\n",
      "city                        875\n",
      "state                         2\n",
      "county                      223\n",
      "Fips                        225\n",
      "zip_code                   1213\n",
      "latitude                  10000\n",
      "longitude                 10000\n",
      "healthcare_expenses        3516\n",
      "healthcare_coverage        1407\n",
      "income                     9682\n",
      "age                         112\n",
      "dtype: int64\n"
     ]
    }
   ],
   "source": [
    "# Summary statistics\n",
    "summary_stats = patients_df.describe()\n",
    "\n",
    "# Count of missing values by column\n",
    "missing_values = patients_df.isnull().sum()\n",
    "\n",
    "# Unique values count for categorical columns\n",
    "unique_values = patients_df.nunique()\n",
    "\n",
    "# Print summary statistics\n",
    "print(\"Summary Statistics:\")\n",
    "print(summary_stats)\n",
    "\n",
    "print(\"\\nMissing Values:\")\n",
    "print(missing_values)\n",
    "\n",
    "print(\"\\nUnique Values:\")\n",
    "print(unique_values)\n"
   ]
  },
  {
   "cell_type": "code",
   "execution_count": 27,
   "id": "18d2c8d1-b979-4ba8-9351-8b2db6f2c274",
   "metadata": {},
   "outputs": [
    {
     "name": "stdout",
     "output_type": "stream",
     "text": [
      "Cleaned Medications Dataset:\n",
      "                 start_date                 stop_date  \\\n",
      "0 2020-04-22 02:47:09+00:00                       NaT   \n",
      "1 2020-04-22 02:47:09+00:00 2020-05-17 02:47:09+00:00   \n",
      "2 2021-08-01 02:47:09+00:00 2021-08-15 02:47:09+00:00   \n",
      "3 2021-08-01 02:47:09+00:00 2021-08-15 02:47:09+00:00   \n",
      "4 2023-05-18 02:47:09+00:00 2023-06-14 02:47:09+00:00   \n",
      "\n",
      "                             patient_id                              payer_id  \\\n",
      "0  28d7b56c-6056-d0a2-2991-39d6e917216c  0133f751-9229-3cfd-815f-b6d4979bdd6a   \n",
      "1  28d7b56c-6056-d0a2-2991-39d6e917216c  0133f751-9229-3cfd-815f-b6d4979bdd6a   \n",
      "2  28d7b56c-6056-d0a2-2991-39d6e917216c  0133f751-9229-3cfd-815f-b6d4979bdd6a   \n",
      "3  28d7b56c-6056-d0a2-2991-39d6e917216c  0133f751-9229-3cfd-815f-b6d4979bdd6a   \n",
      "4  28d7b56c-6056-d0a2-2991-39d6e917216c  0133f751-9229-3cfd-815f-b6d4979bdd6a   \n",
      "\n",
      "                           encounter_id    code  \\\n",
      "0  402DFAEB-1888-F562-4651-F75203EB1E28  849574   \n",
      "1  402DFAEB-1888-F562-4651-F75203EB1E28  312615   \n",
      "2  FBC2F3B3-AB93-707E-AD9E-337990345F32  241834   \n",
      "3  FBC2F3B3-AB93-707E-AD9E-337990345F32  312615   \n",
      "4  E3989F64-4D5B-32E0-9EDC-7874A02F45E8  241834   \n",
      "\n",
      "                                  description  base_cost  payer_coverage  \\\n",
      "0          Naproxen sodium 220 MG Oral Tablet     274.28             0.0   \n",
      "1                predniSONE 20 MG Oral Tablet      16.04             0.0   \n",
      "2  cycloSPORINE  modified 100 MG Oral Capsule     473.61             0.0   \n",
      "3                predniSONE 20 MG Oral Tablet       8.21             0.0   \n",
      "4  cycloSPORINE  modified 100 MG Oral Capsule     408.04             0.0   \n",
      "\n",
      "   dispenses  total_cost  reason_code   reason_description  \n",
      "0         45    12342.60  200936003.0  Lupus erythematosus  \n",
      "1          1       16.04  200936003.0  Lupus erythematosus  \n",
      "2          1      473.61  200936003.0  Lupus erythematosus  \n",
      "3          1        8.21  200936003.0  Lupus erythematosus  \n",
      "4          1      408.04  200936003.0  Lupus erythematosus  \n"
     ]
    }
   ],
   "source": [
    "import pandas as pd\n",
    "\n",
    "# Assuming 'medications_df' is your DataFrame containing the Medications dataset\n",
    "\n",
    "# Rename columns\n",
    "medications_df.rename(columns={\n",
    "    'START': 'start_date',\n",
    "    'STOP': 'stop_date',\n",
    "    'PATIENT': 'patient_id',\n",
    "    'PAYER': 'payer_id',\n",
    "    'ENCOUNTER': 'encounter_id',\n",
    "    'CODE': 'code',\n",
    "    'DESCRIPTION': 'description',\n",
    "    'BASE_COST': 'base_cost',\n",
    "    'PAYER_COVERAGE': 'payer_coverage',\n",
    "    'DISPENSES': 'dispenses',\n",
    "    'TOTALCOST': 'total_cost',\n",
    "    'REASONCODE': 'reason_code',\n",
    "    'REASONDESCRIPTION': 'reason_description'\n",
    "}, inplace=True)\n",
    "\n",
    "# Convert 'start_date' and 'stop_date' to datetime format\n",
    "medications_df['start_date'] = pd.to_datetime(medications_df['start_date'], errors='coerce')\n",
    "medications_df['stop_date'] = pd.to_datetime(medications_df['stop_date'], errors='coerce')\n",
    "\n",
    "# Display the cleaned dataset\n",
    "print(\"Cleaned Medications Dataset:\")\n",
    "print(medications_df.head())\n"
   ]
  },
  {
   "cell_type": "code",
   "execution_count": 26,
   "id": "8b238664-e63f-41e6-9140-dc8d7446c17b",
   "metadata": {},
   "outputs": [
    {
     "name": "stdout",
     "output_type": "stream",
     "text": [
      "                  START                  STOP  \\\n",
      "0  2020-04-22T02:47:09Z                   NaN   \n",
      "1  2020-04-22T02:47:09Z  2020-05-17T02:47:09Z   \n",
      "2  2021-08-01T02:47:09Z  2021-08-15T02:47:09Z   \n",
      "3  2021-08-01T02:47:09Z  2021-08-15T02:47:09Z   \n",
      "4  2023-05-18T02:47:09Z  2023-06-14T02:47:09Z   \n",
      "\n",
      "                                PATIENT                                 PAYER  \\\n",
      "0  28d7b56c-6056-d0a2-2991-39d6e917216c  0133f751-9229-3cfd-815f-b6d4979bdd6a   \n",
      "1  28d7b56c-6056-d0a2-2991-39d6e917216c  0133f751-9229-3cfd-815f-b6d4979bdd6a   \n",
      "2  28d7b56c-6056-d0a2-2991-39d6e917216c  0133f751-9229-3cfd-815f-b6d4979bdd6a   \n",
      "3  28d7b56c-6056-d0a2-2991-39d6e917216c  0133f751-9229-3cfd-815f-b6d4979bdd6a   \n",
      "4  28d7b56c-6056-d0a2-2991-39d6e917216c  0133f751-9229-3cfd-815f-b6d4979bdd6a   \n",
      "\n",
      "                              ENCOUNTER    CODE  \\\n",
      "0  402DFAEB-1888-F562-4651-F75203EB1E28  849574   \n",
      "1  402DFAEB-1888-F562-4651-F75203EB1E28  312615   \n",
      "2  FBC2F3B3-AB93-707E-AD9E-337990345F32  241834   \n",
      "3  FBC2F3B3-AB93-707E-AD9E-337990345F32  312615   \n",
      "4  E3989F64-4D5B-32E0-9EDC-7874A02F45E8  241834   \n",
      "\n",
      "                                  DESCRIPTION  BASE_COST  PAYER_COVERAGE  \\\n",
      "0          Naproxen sodium 220 MG Oral Tablet     274.28             0.0   \n",
      "1                predniSONE 20 MG Oral Tablet      16.04             0.0   \n",
      "2  cycloSPORINE  modified 100 MG Oral Capsule     473.61             0.0   \n",
      "3                predniSONE 20 MG Oral Tablet       8.21             0.0   \n",
      "4  cycloSPORINE  modified 100 MG Oral Capsule     408.04             0.0   \n",
      "\n",
      "   DISPENSES  TOTALCOST   REASONCODE    REASONDESCRIPTION  \n",
      "0         45   12342.60  200936003.0  Lupus erythematosus  \n",
      "1          1      16.04  200936003.0  Lupus erythematosus  \n",
      "2          1     473.61  200936003.0  Lupus erythematosus  \n",
      "3          1       8.21  200936003.0  Lupus erythematosus  \n",
      "4          1     408.04  200936003.0  Lupus erythematosus  \n",
      "               CODE     BASE_COST  PAYER_COVERAGE     DISPENSES  \\\n",
      "count  2.223700e+04  22237.000000    22237.000000  22237.000000   \n",
      "mean   3.635626e+05    160.660295       23.040369     31.272114   \n",
      "std    2.386926e+05    153.233418       69.314682     97.261063   \n",
      "min    2.418340e+05      0.360000        0.000000      1.000000   \n",
      "25%    2.418340e+05     16.020000        0.000000      1.000000   \n",
      "50%    3.126150e+05    134.570000        0.000000      1.000000   \n",
      "75%    3.126150e+05    289.950000        0.000000      1.000000   \n",
      "max    2.001499e+06    587.300000      460.200000    935.000000   \n",
      "\n",
      "           TOTALCOST   REASONCODE  \n",
      "count   22237.000000      21924.0  \n",
      "mean     8582.331193  200936003.0  \n",
      "std     28250.956109          0.0  \n",
      "min         0.360000  200936003.0  \n",
      "25%        16.170000  200936003.0  \n",
      "50%       139.320000  200936003.0  \n",
      "75%       343.860000  200936003.0  \n",
      "max    337447.280000  200936003.0  \n",
      "START                   0\n",
      "STOP                 3219\n",
      "PATIENT                 0\n",
      "PAYER                   0\n",
      "ENCOUNTER               0\n",
      "CODE                    0\n",
      "DESCRIPTION             0\n",
      "BASE_COST               0\n",
      "PAYER_COVERAGE          0\n",
      "DISPENSES               0\n",
      "TOTALCOST               0\n",
      "REASONCODE            313\n",
      "REASONDESCRIPTION     313\n",
      "dtype: int64\n",
      "START                 object\n",
      "STOP                  object\n",
      "PATIENT               object\n",
      "PAYER                 object\n",
      "ENCOUNTER             object\n",
      "CODE                   int64\n",
      "DESCRIPTION           object\n",
      "BASE_COST            float64\n",
      "PAYER_COVERAGE       float64\n",
      "DISPENSES              int64\n",
      "TOTALCOST            float64\n",
      "REASONCODE           float64\n",
      "REASONDESCRIPTION     object\n",
      "dtype: object\n"
     ]
    }
   ],
   "source": [
    "\n",
    "# Assuming 'medications_df' is your DataFrame containing the Medications dataset\n",
    "\n",
    "# Display the first few rows of the dataset to understand its structure\n",
    "print(medications_df.head())\n",
    "\n",
    "# Display basic statistics to identify outliers\n",
    "print(medications_df.describe())\n",
    "\n",
    "# Check for any null values\n",
    "print(medications_df.isnull().sum())\n",
    "\n",
    "# Check the data types of each column\n",
    "print(medications_df.dtypes)"
   ]
  },
  {
   "cell_type": "code",
   "execution_count": 9,
   "id": "bbefd2a6-a29d-49eb-877a-db4f886db49b",
   "metadata": {},
   "outputs": [
    {
     "name": "stdout",
     "output_type": "stream",
     "text": [
      "                                PATIENT  GENDER   RACE    ETHNICITY  \\\n",
      "0  28d7b56c-6056-d0a2-2991-39d6e917216c     NaN  white     hispanic   \n",
      "1  6c434506-fb4b-3e3f-c19d-553dec3b6c17     NaN  black     hispanic   \n",
      "2  44a8ca45-6c6e-38bb-fac0-ddbf7a7ee3a4     NaN  white  nonhispanic   \n",
      "3  780ec78c-22a0-fcdb-17c6-ae9b2fcace9c     NaN  white     hispanic   \n",
      "4  cf5956bb-34f2-841b-2505-57b99991c377     NaN  white  nonhispanic   \n",
      "\n",
      "   AGE_BEGIN  AGE_END            PATHOLOGY  NUM_SYMPTOMS  \\\n",
      "0         26      NaN  Lupus erythematosus             4   \n",
      "1         58      NaN  Lupus erythematosus             4   \n",
      "2         50      NaN  Lupus erythematosus             4   \n",
      "3         39      NaN  Lupus erythematosus             4   \n",
      "4         29      NaN  Lupus erythematosus             3   \n",
      "\n",
      "                                    SYMPTOMS  \n",
      "0   Rash:34;Joint Pain:39;Fatigue:9;Fever:12  \n",
      "1  Rash:19;Joint Pain:44;Fatigue:48;Fever:15  \n",
      "2    Rash:2;Joint Pain:32;Fatigue:12;Fever:6  \n",
      "3  Rash:30;Joint Pain:30;Fatigue:41;Fever:19  \n",
      "4   Rash:28;Joint Pain:26;Fatigue:33;Fever:5  \n",
      "       GENDER    AGE_BEGIN  AGE_END  NUM_SYMPTOMS\n",
      "count     0.0  1423.000000      0.0   1423.000000\n",
      "mean      NaN    45.673226      NaN      3.859452\n",
      "std       NaN    13.345750      NaN      0.347677\n",
      "min       NaN    25.000000      NaN      3.000000\n",
      "25%       NaN    34.000000      NaN      4.000000\n",
      "50%       NaN    44.000000      NaN      4.000000\n",
      "75%       NaN    55.000000      NaN      4.000000\n",
      "max       NaN    79.000000      NaN      4.000000\n",
      "PATIENT            0\n",
      "GENDER          1423\n",
      "RACE               0\n",
      "ETHNICITY          0\n",
      "AGE_BEGIN          0\n",
      "AGE_END         1423\n",
      "PATHOLOGY          0\n",
      "NUM_SYMPTOMS       0\n",
      "SYMPTOMS           0\n",
      "dtype: int64\n",
      "PATIENT          object\n",
      "GENDER          float64\n",
      "RACE             object\n",
      "ETHNICITY        object\n",
      "AGE_BEGIN         int64\n",
      "AGE_END         float64\n",
      "PATHOLOGY        object\n",
      "NUM_SYMPTOMS      int64\n",
      "SYMPTOMS         object\n",
      "dtype: object\n"
     ]
    }
   ],
   "source": [
    "print(symptoms_df.head())\n",
    "\n",
    "# Display basic statistics to identify outliers\n",
    "print(symptoms_df.describe())\n",
    "\n",
    "# Check for any null values\n",
    "print(symptoms_df.isnull().sum())\n",
    "\n",
    "# Check the data types of each column\n",
    "print(symptoms_df.dtypes)"
   ]
  },
  {
   "cell_type": "markdown",
   "id": "cab43712-b02c-4540-a9cd-1b74e6ca8cb0",
   "metadata": {},
   "source": [
    "### Step 2: Handling Data Quality Issues\n",
    "\n",
    "Based on the initial exploration:\n",
    "\n",
    "#### Missing Values:\n",
    "- 'gender' and 'age_end' columns are entirely null. Depending on your analysis, you may decide to drop these columns if they are not relevant or impute values if necessary.\n",
    "\n",
    "#### Column Types:\n",
    "- Ensure numeric columns (`age_begin`, `age_end`, `num_symptoms`) are correctly represented as integers where applicable.\n",
    "\n",
    "#### Assumptions:\n",
    "- The absence of values in 'gender' and 'age_end' columns may imply missing or unavailable data. Dropping these columns could be considered if they do not contribute to your analysis.\n",
    "- Numeric columns should be converted to integers to ensure consistency and facilitate mathematical operations.\n",
    "\n",
    "Pivot symptoms\n"
   ]
  },
  {
   "cell_type": "code",
   "execution_count": 31,
   "id": "fcd8cc6b-2161-4c54-87a4-4aa61f979bf0",
   "metadata": {},
   "outputs": [
    {
     "name": "stdout",
     "output_type": "stream",
     "text": [
      "Cleaned Symptoms Dataset:\n",
      "                             patient_id   race    ethnicity  age_begin  \\\n",
      "0  28d7b56c-6056-d0a2-2991-39d6e917216c  white     hispanic         26   \n",
      "1  6c434506-fb4b-3e3f-c19d-553dec3b6c17  black     hispanic         58   \n",
      "2  44a8ca45-6c6e-38bb-fac0-ddbf7a7ee3a4  white  nonhispanic         50   \n",
      "3  780ec78c-22a0-fcdb-17c6-ae9b2fcace9c  white     hispanic         39   \n",
      "4  cf5956bb-34f2-841b-2505-57b99991c377  white  nonhispanic         29   \n",
      "\n",
      "   age_end            pathology  num_symptoms  \\\n",
      "0      NaN  Lupus erythematosus             4   \n",
      "1      NaN  Lupus erythematosus             4   \n",
      "2      NaN  Lupus erythematosus             4   \n",
      "3      NaN  Lupus erythematosus             4   \n",
      "4      NaN  Lupus erythematosus             3   \n",
      "\n",
      "                                    symptoms  \n",
      "0   Rash:34;Joint Pain:39;Fatigue:9;Fever:12  \n",
      "1  Rash:19;Joint Pain:44;Fatigue:48;Fever:15  \n",
      "2    Rash:2;Joint Pain:32;Fatigue:12;Fever:6  \n",
      "3  Rash:30;Joint Pain:30;Fatigue:41;Fever:19  \n",
      "4   Rash:28;Joint Pain:26;Fatigue:33;Fever:5  \n"
     ]
    }
   ],
   "source": [
    "\n",
    "# 'symptoms_df' Symptoms dataset\n",
    "\n",
    "# Rename columns\n",
    "symptoms_df.rename(columns={\n",
    "    'PATIENT': 'patient_id',\n",
    "    'GENDER': 'gender',\n",
    "    'RACE': 'race',\n",
    "    'ETHNICITY': 'ethnicity',\n",
    "    'AGE_BEGIN': 'age_begin',\n",
    "    'AGE_END': 'age_end',\n",
    "    'PATHOLOGY': 'pathology',\n",
    "    'NUM_SYMPTOMS': 'num_symptoms',\n",
    "    'SYMPTOMS': 'symptoms'\n",
    "}, inplace=True)\n",
    "\n",
    "# Drop the 'gender' column if it exists\n",
    "if 'gender' in symptoms_df.columns:\n",
    "    symptoms_df.drop(columns=['gender'], inplace=True)\n",
    "\n",
    "# Display the cleaned dataset\n",
    "print(\"Cleaned Symptoms Dataset:\")\n",
    "print(symptoms_df.head())\n"
   ]
  },
  {
   "cell_type": "code",
   "execution_count": 32,
   "id": "1c3a001f-a476-4842-88af-513b6386f6e4",
   "metadata": {},
   "outputs": [
    {
     "name": "stdout",
     "output_type": "stream",
     "text": [
      "        START  STOP                               PATIENT  \\\n",
      "0  2020-04-21   NaN  28D7B56C-6056-D0A2-2991-39D6E917216C   \n",
      "1  2001-11-07   NaN  239AE86A-96DB-6211-9042-D3F2850AABB8   \n",
      "2  2001-11-07   NaN  239AE86A-96DB-6211-9042-D3F2850AABB8   \n",
      "3  2017-11-05   NaN  6C434506-FB4B-3E3F-C19D-553DEC3B6C17   \n",
      "4  1989-09-15   NaN  6872DEF5-772F-427C-3053-DE6E1C71CE0A   \n",
      "\n",
      "                              ENCOUNTER       CODE          DESCRIPTION  \n",
      "0  402dfaeb-1888-f562-4651-f75203eb1e28  200936003  Lupus erythematosus  \n",
      "1  10d39d6f-7d98-8d03-8866-0a7cd363890b  200936003  Lupus erythematosus  \n",
      "2  10d39d6f-7d98-8d03-8866-0a7cd363890b  271737000    Anemia (disorder)  \n",
      "3  add4fa37-cabe-a5aa-f9da-8117464bad04  200936003  Lupus erythematosus  \n",
      "4  d8a684cb-6ce1-5909-59e7-3422469d18d0  200936003  Lupus erythematosus  \n",
      "       STOP          CODE\n",
      "count   0.0  4.149000e+03\n",
      "mean    NaN  2.242292e+08\n",
      "std     NaN  3.326973e+07\n",
      "min     NaN  2.009360e+08\n",
      "25%     NaN  2.009360e+08\n",
      "50%     NaN  2.009360e+08\n",
      "75%     NaN  2.717370e+08\n",
      "max     NaN  2.717370e+08\n",
      "START             0\n",
      "STOP           4149\n",
      "PATIENT           0\n",
      "ENCOUNTER         0\n",
      "CODE              0\n",
      "DESCRIPTION       0\n",
      "dtype: int64\n",
      "START           object\n",
      "STOP           float64\n",
      "PATIENT         object\n",
      "ENCOUNTER       object\n",
      "CODE             int64\n",
      "DESCRIPTION     object\n",
      "dtype: object\n"
     ]
    }
   ],
   "source": [
    "print(conditions_df.head())\n",
    "\n",
    "# Display basic statistics to identify outliers\n",
    "print(conditions_df.describe())\n",
    "\n",
    "# Check for any null values\n",
    "print(conditions_df.isnull().sum())\n",
    "\n",
    "# Check the data types of each column\n",
    "print(conditions_df.dtypes)\n"
   ]
  },
  {
   "cell_type": "code",
   "execution_count": null,
   "id": "c5365ee5-0712-485a-9a8f-1a0fea3b2b92",
   "metadata": {},
   "outputs": [],
   "source": [
    "### Step 2: Handling Data Quality Issues\n",
    "\n",
    "Based on the initial exploration:\n",
    "\n",
    "#### Missing Values:\n",
    "- 'stop' column has all null values (`NaN`). \n",
    "\n",
    "#### Assumptions:\n",
    "- The absence of values in the 'stop' column may indicate missing or unavailable data. As all records contain null value considering to keep row.\n",
    "- Rename column "
   ]
  },
  {
   "cell_type": "code",
   "execution_count": 34,
   "id": "2381ef78-7b01-4755-bc0e-c49e2fa91c87",
   "metadata": {},
   "outputs": [
    {
     "name": "stdout",
     "output_type": "stream",
     "text": [
      "<class 'pandas.core.frame.DataFrame'>\n",
      "RangeIndex: 4149 entries, 0 to 4148\n",
      "Data columns (total 6 columns):\n",
      " #   Column                 Non-Null Count  Dtype  \n",
      "---  ------                 --------------  -----  \n",
      " 0   start_date             4149 non-null   object \n",
      " 1   stop_date              0 non-null      float64\n",
      " 2   patient_id             4149 non-null   object \n",
      " 3   encounter_id           4149 non-null   object \n",
      " 4   condition_code         4149 non-null   int64  \n",
      " 5   condition_description  4149 non-null   object \n",
      "dtypes: float64(1), int64(1), object(4)\n",
      "memory usage: 194.6+ KB\n",
      "None\n"
     ]
    }
   ],
   "source": [
    "# conditions_df\n",
    "\n",
    "# Rename columns if needed\n",
    "conditions_df.rename(columns={\n",
    "    'START': 'start_date',\n",
    "    'STOP': 'stop_date',\n",
    "    'PATIENT': 'patient_id',\n",
    "    'ENCOUNTER': 'encounter_id',\n",
    "    'CODE': 'condition_code',\n",
    "    'DESCRIPTION': 'condition_description'\n",
    "}, inplace=True)\n",
    "\n",
    "# Print updated DataFrame information to verify changes\n",
    "print(conditions_df.info())\n",
    "\n",
    "# Optionally, save the cleaned DataFrame to a new file or overwrite the original\n",
    "# conditions_df.to_excel('path_to_save_cleaned_conditions.xlsx', index=False)\n"
   ]
  },
  {
   "cell_type": "code",
   "execution_count": 39,
   "id": "2204ed44-5742-488e-b73f-296216ff020a",
   "metadata": {},
   "outputs": [
    {
     "name": "stdout",
     "output_type": "stream",
     "text": [
      "+--------------------+-------------------+-------------------+--------------------+--------------------+--------------------+--------------------+---------------+---------+--------------------+-------------------+----------------+--------------+\n",
      "|                  id|              start|               stop|          patient_id|        organization|            provider|               payer|encounter_class|     code|         description|base_encounter_cost|total_claim_cost|payer_coverage|\n",
      "+--------------------+-------------------+-------------------+--------------------+--------------------+--------------------+--------------------+---------------+---------+--------------------+-------------------+----------------+--------------+\n",
      "|6539c675-dcf2-cac...|2014-02-10 16:30:08|2014-02-10 16:45:08|54F1059E-6250-394...|ef42ec52-a1c1-3fc...|35088bec-f756-35d...|8fa6c185-e44e-3e3...|       wellness|410620009|Well child visit ...|             133.36|          405.36|           0.0|\n",
      "|748a443c-9819-4f3...|2014-06-04 10:49:43|2014-06-04 11:04:43|92675303-CA5B-136...|02078b23-a943-317...|af22b73b-d38f-3d9...|b046940f-1664-304...|       wellness|410620009|Well child visit ...|             133.36|          269.36|           0.0|\n",
      "|678e03b1-21ac-fbf...|2015-06-10 10:49:43|2015-06-10 11:04:43|92675303-CA5B-136...|02078b23-a943-317...|af22b73b-d38f-3d9...|b046940f-1664-304...|       wellness|162673000|General examinati...|             133.36|          269.36|           0.0|\n",
      "|45987160-8815-858...|2015-04-10 08:57:04|2015-04-10 09:12:04|A0B63E97-B6FD-5FE...|44f0ad91-f33b-3fe...|a79c71d6-e0b4-345...|734afbd6-4794-363...|       wellness|162673000|General examinati...|             133.36|          677.36|           0.0|\n",
      "|c56e3b19-5a51-0fc...|2016-06-15 10:49:43|2016-06-15 11:04:43|92675303-CA5B-136...|02078b23-a943-317...|af22b73b-d38f-3d9...|b046940f-1664-304...|       wellness|162673000|General examinati...|             133.36|          269.36|           0.0|\n",
      "|579dffb0-7d10-27e...|2015-02-16 16:30:08|2015-02-16 16:45:08|54F1059E-6250-394...|ef42ec52-a1c1-3fc...|35088bec-f756-35d...|8fa6c185-e44e-3e3...|       wellness|410620009|Well child visit ...|             133.36|          405.36|           0.0|\n",
      "|c0179a09-df37-228...|2019-06-19 10:49:43|2019-06-19 11:04:43|92675303-CA5B-136...|02078b23-a943-317...|af22b73b-d38f-3d9...|b046940f-1664-304...|       wellness|162673000|General examinati...|             133.36|          677.36|           0.0|\n",
      "|84b3ef84-4b9f-680...|2016-02-22 16:30:08|2016-02-22 16:45:08|54F1059E-6250-394...|ef42ec52-a1c1-3fc...|35088bec-f756-35d...|8fa6c185-e44e-3e3...|       wellness|410620009|Well child visit ...|             133.36|          269.36|           0.0|\n",
      "|8ccb3490-dca3-bbc...|2014-07-22 23:07:34|2014-07-22 23:22:34|ABC59F62-DC5A-509...|38cea581-23b0-313...|f44c8567-b4d5-357...|e03e23c9-4df1-3eb...|       wellness|162673000|General examinati...|             133.36|          269.36|           0.0|\n",
      "|6fd995e6-67a4-441...|2017-07-25 23:07:34|2017-07-25 23:22:34|ABC59F62-DC5A-509...|38cea581-23b0-313...|f44c8567-b4d5-357...|e03e23c9-4df1-3eb...|       wellness|162673000|General examinati...|             133.36|          677.36|           0.0|\n",
      "|dee0d65a-891f-681...|2022-06-22 10:49:43|2022-06-22 11:04:43|92675303-CA5B-136...|02078b23-a943-317...|af22b73b-d38f-3d9...|b046940f-1664-304...|       wellness|162673000|General examinati...|             133.36|          269.36|           0.0|\n",
      "|92b6e6d7-fc2b-0dd...|2017-02-27 16:30:08|2017-02-27 16:45:08|54F1059E-6250-394...|ef42ec52-a1c1-3fc...|35088bec-f756-35d...|0133f751-9229-3cf...|       wellness|410620009|Well child visit ...|             133.36|          269.36|           0.0|\n",
      "|b4a27fa3-1049-e07...|2018-04-13 08:57:04|2018-04-13 09:12:04|A0B63E97-B6FD-5FE...|44f0ad91-f33b-3fe...|a79c71d6-e0b4-345...|734afbd6-4794-363...|       wellness|162673000|General examinati...|             133.36|          269.36|           0.0|\n",
      "|346bd1b7-70d0-e50...|2020-07-28 23:07:34|2020-07-28 23:22:34|ABC59F62-DC5A-509...|38cea581-23b0-313...|f44c8567-b4d5-357...|e03e23c9-4df1-3eb...|       wellness|162673000|General examinati...|             133.36|          269.36|           0.0|\n",
      "|6a747607-7479-3d3...|2018-03-05 16:30:08|2018-03-05 16:45:08|54F1059E-6250-394...|ef42ec52-a1c1-3fc...|35088bec-f756-35d...|0133f751-9229-3cf...|       wellness|410620009|Well child visit ...|             133.36|          405.36|           0.0|\n",
      "|2cad1d1e-3dda-f0a...|2021-07-06 23:07:34|2021-07-06 23:22:34|ABC59F62-DC5A-509...|81274bdf-631b-38b...|2778b2b8-4c0e-328...|e03e23c9-4df1-3eb...|     outpatient| 33879002|Administration of...|             113.77|          249.77|           0.0|\n",
      "|1625847f-b8e7-d39...|2023-08-01 23:07:34|2023-08-01 23:22:34|ABC59F62-DC5A-509...|38cea581-23b0-313...|f44c8567-b4d5-357...|e03e23c9-4df1-3eb...|       wellness|162673000|General examinati...|             133.36|          269.36|           0.0|\n",
      "|374b43d1-29ce-606...|2021-04-16 08:57:04|2021-04-16 09:12:04|A0B63E97-B6FD-5FE...|44f0ad91-f33b-3fe...|a79c71d6-e0b4-345...|734afbd6-4794-363...|       wellness|162673000|General examinati...|             133.36|          269.36|           0.0|\n",
      "|98b99fb6-9caf-466...|2019-03-11 16:30:08|2019-03-11 16:45:08|54F1059E-6250-394...|ef42ec52-a1c1-3fc...|35088bec-f756-35d...|0133f751-9229-3cf...|       wellness|410620009|Well child visit ...|             133.36|          269.36|           0.0|\n",
      "|61d76110-a2b7-ebd...|2020-03-16 16:30:08|2020-03-16 16:45:08|54F1059E-6250-394...|ef42ec52-a1c1-3fc...|35088bec-f756-35d...|0133f751-9229-3cf...|       wellness|162673000|General examinati...|             133.36|          269.36|           0.0|\n",
      "+--------------------+-------------------+-------------------+--------------------+--------------------+--------------------+--------------------+---------------+---------+--------------------+-------------------+----------------+--------------+\n",
      "only showing top 20 rows\n",
      "\n"
     ]
    },
    {
     "name": "stderr",
     "output_type": "stream",
     "text": [
      "                                                                                \r"
     ]
    },
    {
     "name": "stdout",
     "output_type": "stream",
     "text": [
      "+-------+--------------------+--------------------+--------------------+--------------------+--------------------+---------------+--------------------+--------------------+-------------------+------------------+------------------+\n",
      "|summary|                  id|          patient_id|        organization|            provider|               payer|encounter_class|                code|         description|base_encounter_cost|  total_claim_cost|    payer_coverage|\n",
      "+-------+--------------------+--------------------+--------------------+--------------------+--------------------+---------------+--------------------+--------------------+-------------------+------------------+------------------+\n",
      "|  count|              104262|              104262|              104262|              104262|              104262|         104262|              104262|              104262|             104262|            104262|            104262|\n",
      "|   mean|                NULL|                NULL|                NULL|                NULL|                NULL|           NULL|2.4086926635997775E8|                NULL| 123.13488433356983|319.15935194386464|  49.6360777951792|\n",
      "| stddev|                NULL|                NULL|                NULL|                NULL|                NULL|           NULL|1.3659998456186715E8|                NULL| 21.180931243238582|210.40477774875328|142.91860297169615|\n",
      "|    min|00013fe8-1f7e-07f...|0005A479-D128-178...|002ff8b0-2279-37d...|001a41df-5c17-306...|0133f751-9229-3cf...|     ambulatory|            33879002|Administration of...|              68.26|             68.26|               0.0|\n",
      "|    max|ffff7f9e-292f-17d...|FFF9A1F7-F492-726...|ffb23830-f317-338...|fffe3a29-b6f3-3cd...|e03e23c9-4df1-3eb...|       wellness|           410620009|Well child visit ...|             133.36|           4345.41|           3073.44|\n",
      "+-------+--------------------+--------------------+--------------------+--------------------+--------------------+---------------+--------------------+--------------------+-------------------+------------------+------------------+\n",
      "\n",
      "+---+-----+----+----------+------------+--------+-----+---------------+----+-----------+-------------------+----------------+--------------+\n",
      "| id|start|stop|patient_id|organization|provider|payer|encounter_class|code|description|base_encounter_cost|total_claim_cost|payer_coverage|\n",
      "+---+-----+----+----------+------------+--------+-----+---------------+----+-----------+-------------------+----------------+--------------+\n",
      "|  0|    0|   0|         0|           0|       0|    0|              0|   0|          0|                  0|               0|             0|\n",
      "+---+-----+----+----------+------------+--------+-----+---------------+----+-----------+-------------------+----------------+--------------+\n",
      "\n",
      "[('id', 'string'), ('start', 'timestamp'), ('stop', 'timestamp'), ('patient_id', 'string'), ('organization', 'string'), ('provider', 'string'), ('payer', 'string'), ('encounter_class', 'string'), ('code', 'bigint'), ('description', 'string'), ('base_encounter_cost', 'float'), ('total_claim_cost', 'float'), ('payer_coverage', 'float')]\n",
      "root\n",
      " |-- id: string (nullable = true)\n",
      " |-- start: timestamp (nullable = true)\n",
      " |-- stop: timestamp (nullable = true)\n",
      " |-- patient_id: string (nullable = true)\n",
      " |-- organization: string (nullable = true)\n",
      " |-- provider: string (nullable = true)\n",
      " |-- payer: string (nullable = true)\n",
      " |-- encounter_class: string (nullable = true)\n",
      " |-- code: long (nullable = true)\n",
      " |-- description: string (nullable = true)\n",
      " |-- base_encounter_cost: float (nullable = true)\n",
      " |-- total_claim_cost: float (nullable = true)\n",
      " |-- payer_coverage: float (nullable = true)\n",
      "\n"
     ]
    }
   ],
   "source": [
    "from pyspark.sql.functions import col, count, when, isnull, to_timestamp\n",
    "\n",
    "# Display the first few rows\n",
    "encounters_df.show()\n",
    "\n",
    "# Display basic statistics to identify outliers\n",
    "encounters_df.describe().show()\n",
    "\n",
    "# Check for any null values\n",
    "null_counts = encounters_df.select([count(when(isnull(c), c)).alias(c) for c in encounters_df.columns])\n",
    "null_counts.show()\n",
    "\n",
    "# Check the data types of each column\n",
    "print(encounters_df.dtypes)\n",
    "\n",
    "# Rename columns\n",
    "encounters_df = encounters_df.withColumnRenamed(\"Id\", \"id\") \\\n",
    "    .withColumnRenamed(\"START\", \"start\") \\\n",
    "    .withColumnRenamed(\"STOP\", \"stop\") \\\n",
    "    .withColumnRenamed(\"PATIENT\", \"patient_id\") \\\n",
    "    .withColumnRenamed(\"ORGANIZATION\", \"organization\") \\\n",
    "    .withColumnRenamed(\"PROVIDER\", \"provider\") \\\n",
    "    .withColumnRenamed(\"PAYER\", \"payer\") \\\n",
    "    .withColumnRenamed(\"ENCOUNTERCLASS\", \"encounter_class\") \\\n",
    "    .withColumnRenamed(\"CODE\", \"code\") \\\n",
    "    .withColumnRenamed(\"DESCRIPTION\", \"description\") \\\n",
    "    .withColumnRenamed(\"BASE_ENCOUNTER_COST\", \"base_encounter_cost\") \\\n",
    "    .withColumnRenamed(\"TOTAL_CLAIM_COST\", \"total_claim_cost\") \\\n",
    "    .withColumnRenamed(\"PAYER_COVERAGE\", \"payer_coverage\") \\\n",
    "    .withColumnRenamed(\"REASONCODE\", \"reason_code\") \\\n",
    "    .withColumnRenamed(\"REASONDESCRIPTION\", \"reason_description\")\n",
    "\n",
    "# Convert date columns\n",
    "encounters_df = encounters_df.withColumn(\"start\", to_timestamp(\"start\")) \\\n",
    "    .withColumn(\"stop\", to_timestamp(\"stop\"))\n",
    "\n",
    "# Convert columns to appropriate data types\n",
    "encounters_df = encounters_df.withColumn(\"base_encounter_cost\", col(\"base_encounter_cost\").cast(\"float\")) \\\n",
    "    .withColumn(\"total_claim_cost\", col(\"total_claim_cost\").cast(\"float\")) \\\n",
    "    .withColumn(\"payer_coverage\", col(\"payer_coverage\").cast(\"float\"))\n",
    "\n",
    "# Show the schema to verify changes\n",
    "encounters_df.printSchema()\n",
    "\n",
    "\n",
    "# # Save the cleaned DataFrame\n",
    "# encounters_df.write.mode(\"overwrite\").parquet(\"data/02_intermediate/cleaned_encounters.parquet\")\n"
   ]
  },
  {
   "cell_type": "code",
   "execution_count": 39,
   "id": "7d842ca2",
   "metadata": {},
   "outputs": [
    {
     "name": "stdout",
     "output_type": "stream",
     "text": [
      "+--------------------+-------------------+-------------------+--------------------+--------------------+--------------------+--------------------+---------------+---------+--------------------+-------------------+----------------+--------------+\n",
      "|                  id|              start|               stop|          patient_id|        organization|            provider|               payer|encounter_class|     code|         description|base_encounter_cost|total_claim_cost|payer_coverage|\n",
      "+--------------------+-------------------+-------------------+--------------------+--------------------+--------------------+--------------------+---------------+---------+--------------------+-------------------+----------------+--------------+\n",
      "|6539c675-dcf2-cac...|2014-02-10 16:30:08|2014-02-10 16:45:08|54F1059E-6250-394...|ef42ec52-a1c1-3fc...|35088bec-f756-35d...|8fa6c185-e44e-3e3...|       wellness|410620009|Well child visit ...|             133.36|          405.36|           0.0|\n",
      "|748a443c-9819-4f3...|2014-06-04 10:49:43|2014-06-04 11:04:43|92675303-CA5B-136...|02078b23-a943-317...|af22b73b-d38f-3d9...|b046940f-1664-304...|       wellness|410620009|Well child visit ...|             133.36|          269.36|           0.0|\n",
      "|678e03b1-21ac-fbf...|2015-06-10 10:49:43|2015-06-10 11:04:43|92675303-CA5B-136...|02078b23-a943-317...|af22b73b-d38f-3d9...|b046940f-1664-304...|       wellness|162673000|General examinati...|             133.36|          269.36|           0.0|\n",
      "|45987160-8815-858...|2015-04-10 08:57:04|2015-04-10 09:12:04|A0B63E97-B6FD-5FE...|44f0ad91-f33b-3fe...|a79c71d6-e0b4-345...|734afbd6-4794-363...|       wellness|162673000|General examinati...|             133.36|          677.36|           0.0|\n",
      "|c56e3b19-5a51-0fc...|2016-06-15 10:49:43|2016-06-15 11:04:43|92675303-CA5B-136...|02078b23-a943-317...|af22b73b-d38f-3d9...|b046940f-1664-304...|       wellness|162673000|General examinati...|             133.36|          269.36|           0.0|\n",
      "|579dffb0-7d10-27e...|2015-02-16 16:30:08|2015-02-16 16:45:08|54F1059E-6250-394...|ef42ec52-a1c1-3fc...|35088bec-f756-35d...|8fa6c185-e44e-3e3...|       wellness|410620009|Well child visit ...|             133.36|          405.36|           0.0|\n",
      "|c0179a09-df37-228...|2019-06-19 10:49:43|2019-06-19 11:04:43|92675303-CA5B-136...|02078b23-a943-317...|af22b73b-d38f-3d9...|b046940f-1664-304...|       wellness|162673000|General examinati...|             133.36|          677.36|           0.0|\n",
      "|84b3ef84-4b9f-680...|2016-02-22 16:30:08|2016-02-22 16:45:08|54F1059E-6250-394...|ef42ec52-a1c1-3fc...|35088bec-f756-35d...|8fa6c185-e44e-3e3...|       wellness|410620009|Well child visit ...|             133.36|          269.36|           0.0|\n",
      "|8ccb3490-dca3-bbc...|2014-07-22 23:07:34|2014-07-22 23:22:34|ABC59F62-DC5A-509...|38cea581-23b0-313...|f44c8567-b4d5-357...|e03e23c9-4df1-3eb...|       wellness|162673000|General examinati...|             133.36|          269.36|           0.0|\n",
      "|6fd995e6-67a4-441...|2017-07-25 23:07:34|2017-07-25 23:22:34|ABC59F62-DC5A-509...|38cea581-23b0-313...|f44c8567-b4d5-357...|e03e23c9-4df1-3eb...|       wellness|162673000|General examinati...|             133.36|          677.36|           0.0|\n",
      "|dee0d65a-891f-681...|2022-06-22 10:49:43|2022-06-22 11:04:43|92675303-CA5B-136...|02078b23-a943-317...|af22b73b-d38f-3d9...|b046940f-1664-304...|       wellness|162673000|General examinati...|             133.36|          269.36|           0.0|\n",
      "|92b6e6d7-fc2b-0dd...|2017-02-27 16:30:08|2017-02-27 16:45:08|54F1059E-6250-394...|ef42ec52-a1c1-3fc...|35088bec-f756-35d...|0133f751-9229-3cf...|       wellness|410620009|Well child visit ...|             133.36|          269.36|           0.0|\n",
      "|b4a27fa3-1049-e07...|2018-04-13 08:57:04|2018-04-13 09:12:04|A0B63E97-B6FD-5FE...|44f0ad91-f33b-3fe...|a79c71d6-e0b4-345...|734afbd6-4794-363...|       wellness|162673000|General examinati...|             133.36|          269.36|           0.0|\n",
      "|346bd1b7-70d0-e50...|2020-07-28 23:07:34|2020-07-28 23:22:34|ABC59F62-DC5A-509...|38cea581-23b0-313...|f44c8567-b4d5-357...|e03e23c9-4df1-3eb...|       wellness|162673000|General examinati...|             133.36|          269.36|           0.0|\n",
      "|6a747607-7479-3d3...|2018-03-05 16:30:08|2018-03-05 16:45:08|54F1059E-6250-394...|ef42ec52-a1c1-3fc...|35088bec-f756-35d...|0133f751-9229-3cf...|       wellness|410620009|Well child visit ...|             133.36|          405.36|           0.0|\n",
      "|2cad1d1e-3dda-f0a...|2021-07-06 23:07:34|2021-07-06 23:22:34|ABC59F62-DC5A-509...|81274bdf-631b-38b...|2778b2b8-4c0e-328...|e03e23c9-4df1-3eb...|     outpatient| 33879002|Administration of...|             113.77|          249.77|           0.0|\n",
      "|1625847f-b8e7-d39...|2023-08-01 23:07:34|2023-08-01 23:22:34|ABC59F62-DC5A-509...|38cea581-23b0-313...|f44c8567-b4d5-357...|e03e23c9-4df1-3eb...|       wellness|162673000|General examinati...|             133.36|          269.36|           0.0|\n",
      "|374b43d1-29ce-606...|2021-04-16 08:57:04|2021-04-16 09:12:04|A0B63E97-B6FD-5FE...|44f0ad91-f33b-3fe...|a79c71d6-e0b4-345...|734afbd6-4794-363...|       wellness|162673000|General examinati...|             133.36|          269.36|           0.0|\n",
      "|98b99fb6-9caf-466...|2019-03-11 16:30:08|2019-03-11 16:45:08|54F1059E-6250-394...|ef42ec52-a1c1-3fc...|35088bec-f756-35d...|0133f751-9229-3cf...|       wellness|410620009|Well child visit ...|             133.36|          269.36|           0.0|\n",
      "|61d76110-a2b7-ebd...|2020-03-16 16:30:08|2020-03-16 16:45:08|54F1059E-6250-394...|ef42ec52-a1c1-3fc...|35088bec-f756-35d...|0133f751-9229-3cf...|       wellness|162673000|General examinati...|             133.36|          269.36|           0.0|\n",
      "+--------------------+-------------------+-------------------+--------------------+--------------------+--------------------+--------------------+---------------+---------+--------------------+-------------------+----------------+--------------+\n",
      "only showing top 20 rows\n",
      "\n"
     ]
    },
    {
     "name": "stderr",
     "output_type": "stream",
     "text": [
      "                                                                                \r"
     ]
    },
    {
     "name": "stdout",
     "output_type": "stream",
     "text": [
      "+-------+--------------------+--------------------+--------------------+--------------------+--------------------+---------------+--------------------+--------------------+-------------------+------------------+------------------+\n",
      "|summary|                  id|          patient_id|        organization|            provider|               payer|encounter_class|                code|         description|base_encounter_cost|  total_claim_cost|    payer_coverage|\n",
      "+-------+--------------------+--------------------+--------------------+--------------------+--------------------+---------------+--------------------+--------------------+-------------------+------------------+------------------+\n",
      "|  count|              104262|              104262|              104262|              104262|              104262|         104262|              104262|              104262|             104262|            104262|            104262|\n",
      "|   mean|                NULL|                NULL|                NULL|                NULL|                NULL|           NULL|2.4086926635997775E8|                NULL| 123.13488433356983|319.15935194386464|  49.6360777951792|\n",
      "| stddev|                NULL|                NULL|                NULL|                NULL|                NULL|           NULL|1.3659998456186715E8|                NULL| 21.180931243238582|210.40477774875328|142.91860297169615|\n",
      "|    min|00013fe8-1f7e-07f...|0005A479-D128-178...|002ff8b0-2279-37d...|001a41df-5c17-306...|0133f751-9229-3cf...|     ambulatory|            33879002|Administration of...|              68.26|             68.26|               0.0|\n",
      "|    max|ffff7f9e-292f-17d...|FFF9A1F7-F492-726...|ffb23830-f317-338...|fffe3a29-b6f3-3cd...|e03e23c9-4df1-3eb...|       wellness|           410620009|Well child visit ...|             133.36|           4345.41|           3073.44|\n",
      "+-------+--------------------+--------------------+--------------------+--------------------+--------------------+---------------+--------------------+--------------------+-------------------+------------------+------------------+\n",
      "\n",
      "+---+-----+----+----------+------------+--------+-----+---------------+----+-----------+-------------------+----------------+--------------+\n",
      "| id|start|stop|patient_id|organization|provider|payer|encounter_class|code|description|base_encounter_cost|total_claim_cost|payer_coverage|\n",
      "+---+-----+----+----------+------------+--------+-----+---------------+----+-----------+-------------------+----------------+--------------+\n",
      "|  0|    0|   0|         0|           0|       0|    0|              0|   0|          0|                  0|               0|             0|\n",
      "+---+-----+----+----------+------------+--------+-----+---------------+----+-----------+-------------------+----------------+--------------+\n",
      "\n",
      "[('id', 'string'), ('start', 'timestamp'), ('stop', 'timestamp'), ('patient_id', 'string'), ('organization', 'string'), ('provider', 'string'), ('payer', 'string'), ('encounter_class', 'string'), ('code', 'bigint'), ('description', 'string'), ('base_encounter_cost', 'float'), ('total_claim_cost', 'float'), ('payer_coverage', 'float')]\n",
      "root\n",
      " |-- id: string (nullable = true)\n",
      " |-- start: timestamp (nullable = true)\n",
      " |-- stop: timestamp (nullable = true)\n",
      " |-- patient_id: string (nullable = true)\n",
      " |-- organization: string (nullable = true)\n",
      " |-- provider: string (nullable = true)\n",
      " |-- payer: string (nullable = true)\n",
      " |-- encounter_class: string (nullable = true)\n",
      " |-- code: long (nullable = true)\n",
      " |-- description: string (nullable = true)\n",
      " |-- base_encounter_cost: float (nullable = true)\n",
      " |-- total_claim_cost: float (nullable = true)\n",
      " |-- payer_coverage: float (nullable = true)\n",
      "\n"
     ]
    }
   ],
   "source": [
    "from pyspark.sql.functions import col, count, when, isnull, to_timestamp\n",
    "\n",
    "# Display the first few rows\n",
    "encounters_df.show()\n",
    "\n",
    "# Display basic statistics to identify outliers\n",
    "encounters_df.describe().show()\n",
    "\n",
    "# Check for any null values\n",
    "null_counts = encounters_df.select([count(when(isnull(c), c)).alias(c) for c in encounters_df.columns])\n",
    "null_counts.show()\n",
    "\n",
    "# Check the data types of each column\n",
    "print(encounters_df.dtypes)\n",
    "\n",
    "# Rename columns\n",
    "encounters_df = encounters_df.withColumnRenamed(\"Id\", \"id\") \\\n",
    "    .withColumnRenamed(\"START\", \"start\") \\\n",
    "    .withColumnRenamed(\"STOP\", \"stop\") \\\n",
    "    .withColumnRenamed(\"PATIENT\", \"patient_id\") \\\n",
    "    .withColumnRenamed(\"ORGANIZATION\", \"organization\") \\\n",
    "    .withColumnRenamed(\"PROVIDER\", \"provider\") \\\n",
    "    .withColumnRenamed(\"PAYER\", \"payer\") \\\n",
    "    .withColumnRenamed(\"ENCOUNTERCLASS\", \"encounter_class\") \\\n",
    "    .withColumnRenamed(\"CODE\", \"code\") \\\n",
    "    .withColumnRenamed(\"DESCRIPTION\", \"description\") \\\n",
    "    .withColumnRenamed(\"BASE_ENCOUNTER_COST\", \"base_encounter_cost\") \\\n",
    "    .withColumnRenamed(\"TOTAL_CLAIM_COST\", \"total_claim_cost\") \\\n",
    "    .withColumnRenamed(\"PAYER_COVERAGE\", \"payer_coverage\") \\\n",
    "    .withColumnRenamed(\"REASONCODE\", \"reason_code\") \\\n",
    "    .withColumnRenamed(\"REASONDESCRIPTION\", \"reason_description\")\n",
    "\n",
    "# Convert date columns\n",
    "encounters_df = encounters_df.withColumn(\"start\", to_timestamp(\"start\")) \\\n",
    "    .withColumn(\"stop\", to_timestamp(\"stop\"))\n",
    "\n",
    "# Convert columns to appropriate data types\n",
    "encounters_df = encounters_df.withColumn(\"base_encounter_cost\", col(\"base_encounter_cost\").cast(\"float\")) \\\n",
    "    .withColumn(\"total_claim_cost\", col(\"total_claim_cost\").cast(\"float\")) \\\n",
    "    .withColumn(\"payer_coverage\", col(\"payer_coverage\").cast(\"float\"))\n",
    "\n",
    "# Show the schema to verify changes\n",
    "encounters_df.printSchema()\n",
    "\n",
    "\n",
    "# # Save the cleaned DataFrame\n",
    "# encounters_df.write.mode(\"overwrite\").parquet(\"data/02_intermediate/cleaned_encounters.parquet\")\n"
   ]
  },
  {
   "cell_type": "code",
   "execution_count": 43,
   "id": "997aba94-a562-49c6-b76d-a92389cd3db5",
   "metadata": {},
   "outputs": [
    {
     "data": {
      "text/html": [
       "<pre style=\"white-space:pre;overflow-x:auto;line-height:normal;font-family:Menlo,'DejaVu Sans Mono',consolas,'Courier New',monospace\"><span style=\"color: #800000; text-decoration-color: #800000\">╭─────────────────────────────── </span><span style=\"color: #800000; text-decoration-color: #800000; font-weight: bold\">Traceback </span><span style=\"color: #bf7f7f; text-decoration-color: #bf7f7f; font-weight: bold\">(most recent call last)</span><span style=\"color: #800000; text-decoration-color: #800000\"> ────────────────────────────────╮</span>\n",
       "<span style=\"color: #800000; text-decoration-color: #800000\">│</span> in <span style=\"color: #00ff00; text-decoration-color: #00ff00\">&lt;module&gt;</span>:<span style=\"color: #0000ff; text-decoration-color: #0000ff\">2</span>                                                                                    <span style=\"color: #800000; text-decoration-color: #800000\">│</span>\n",
       "<span style=\"color: #800000; text-decoration-color: #800000\">│</span>                                                                                                  <span style=\"color: #800000; text-decoration-color: #800000\">│</span>\n",
       "<span style=\"color: #800000; text-decoration-color: #800000\">│</span>   <span style=\"color: #7f7f7f; text-decoration-color: #7f7f7f\">1 # Show the first few rows to verify renaming and data type conversion</span>                        <span style=\"color: #800000; text-decoration-color: #800000\">│</span>\n",
       "<span style=\"color: #800000; text-decoration-color: #800000\">│</span> <span style=\"color: #800000; text-decoration-color: #800000\">❱ </span>2 encounters_df.info()                                                                         <span style=\"color: #800000; text-decoration-color: #800000\">│</span>\n",
       "<span style=\"color: #800000; text-decoration-color: #800000\">│</span>   <span style=\"color: #7f7f7f; text-decoration-color: #7f7f7f\">3 </span>                                                                                             <span style=\"color: #800000; text-decoration-color: #800000\">│</span>\n",
       "<span style=\"color: #800000; text-decoration-color: #800000\">│</span>                                                                                                  <span style=\"color: #800000; text-decoration-color: #800000\">│</span>\n",
       "<span style=\"color: #800000; text-decoration-color: #800000\">│</span> <span style=\"color: #bfbf7f; text-decoration-color: #bfbf7f\">/opt/anaconda3/envs/kedro-environment/lib/python3.10/site-packages/pyspark/sql/</span><span style=\"color: #808000; text-decoration-color: #808000; font-weight: bold\">dataframe.py</span>:<span style=\"color: #0000ff; text-decoration-color: #0000ff\">3127</span> <span style=\"color: #800000; text-decoration-color: #800000\">│</span>\n",
       "<span style=\"color: #800000; text-decoration-color: #800000\">│</span> in <span style=\"color: #00ff00; text-decoration-color: #00ff00\">__getattr__</span>                                                                                   <span style=\"color: #800000; text-decoration-color: #800000\">│</span>\n",
       "<span style=\"color: #800000; text-decoration-color: #800000\">│</span>                                                                                                  <span style=\"color: #800000; text-decoration-color: #800000\">│</span>\n",
       "<span style=\"color: #800000; text-decoration-color: #800000\">│</span>   <span style=\"color: #7f7f7f; text-decoration-color: #7f7f7f\">3124 </span><span style=\"color: #bfbf7f; text-decoration-color: #bfbf7f\">│   │   </span><span style=\"color: #808000; text-decoration-color: #808000\">+---+</span>                                                                             <span style=\"color: #800000; text-decoration-color: #800000\">│</span>\n",
       "<span style=\"color: #800000; text-decoration-color: #800000\">│</span>   <span style=\"color: #7f7f7f; text-decoration-color: #7f7f7f\">3125 </span><span style=\"color: #bfbf7f; text-decoration-color: #bfbf7f\">│   │   </span><span style=\"color: #808000; text-decoration-color: #808000\">\"\"\"</span>                                                                               <span style=\"color: #800000; text-decoration-color: #800000\">│</span>\n",
       "<span style=\"color: #800000; text-decoration-color: #800000\">│</span>   <span style=\"color: #7f7f7f; text-decoration-color: #7f7f7f\">3126 </span><span style=\"color: #7f7f7f; text-decoration-color: #7f7f7f\">│   │   </span><span style=\"color: #0000ff; text-decoration-color: #0000ff\">if</span> name <span style=\"color: #ff00ff; text-decoration-color: #ff00ff\">not</span> <span style=\"color: #ff00ff; text-decoration-color: #ff00ff\">in</span> <span style=\"color: #00ffff; text-decoration-color: #00ffff\">self</span>.columns:                                                      <span style=\"color: #800000; text-decoration-color: #800000\">│</span>\n",
       "<span style=\"color: #800000; text-decoration-color: #800000\">│</span> <span style=\"color: #800000; text-decoration-color: #800000\">❱ </span>3127 <span style=\"color: #7f7f7f; text-decoration-color: #7f7f7f\">│   │   │   </span><span style=\"color: #0000ff; text-decoration-color: #0000ff\">raise</span> <span style=\"color: #00ffff; text-decoration-color: #00ffff\">AttributeError</span>(                                                         <span style=\"color: #800000; text-decoration-color: #800000\">│</span>\n",
       "<span style=\"color: #800000; text-decoration-color: #800000\">│</span>   <span style=\"color: #7f7f7f; text-decoration-color: #7f7f7f\">3128 </span><span style=\"color: #7f7f7f; text-decoration-color: #7f7f7f\">│   │   │   │   </span><span style=\"color: #808000; text-decoration-color: #808000\">\"'%s' object has no attribute '%s'\"</span> % (<span style=\"color: #00ffff; text-decoration-color: #00ffff\">self</span>.<span style=\"color: #ff0000; text-decoration-color: #ff0000\">__class__</span>.<span style=\"color: #ff0000; text-decoration-color: #ff0000\">__name__</span>, name)     <span style=\"color: #800000; text-decoration-color: #800000\">│</span>\n",
       "<span style=\"color: #800000; text-decoration-color: #800000\">│</span>   <span style=\"color: #7f7f7f; text-decoration-color: #7f7f7f\">3129 </span><span style=\"color: #7f7f7f; text-decoration-color: #7f7f7f\">│   │   │   </span>)                                                                             <span style=\"color: #800000; text-decoration-color: #800000\">│</span>\n",
       "<span style=\"color: #800000; text-decoration-color: #800000\">│</span>   <span style=\"color: #7f7f7f; text-decoration-color: #7f7f7f\">3130 </span><span style=\"color: #7f7f7f; text-decoration-color: #7f7f7f\">│   │   </span>jc = <span style=\"color: #00ffff; text-decoration-color: #00ffff\">self</span>._jdf.apply(name)                                                        <span style=\"color: #800000; text-decoration-color: #800000\">│</span>\n",
       "<span style=\"color: #800000; text-decoration-color: #800000\">╰──────────────────────────────────────────────────────────────────────────────────────────────────╯</span>\n",
       "<span style=\"color: #ff0000; text-decoration-color: #ff0000; font-weight: bold\">AttributeError: </span><span style=\"color: #008000; text-decoration-color: #008000\">'DataFrame'</span> object has no attribute <span style=\"color: #008000; text-decoration-color: #008000\">'info'</span>\n",
       "</pre>\n"
      ],
      "text/plain": [
       "\u001b[31m╭─\u001b[0m\u001b[31m──────────────────────────────\u001b[0m\u001b[31m \u001b[0m\u001b[1;31mTraceback \u001b[0m\u001b[1;2;31m(most recent call last)\u001b[0m\u001b[31m \u001b[0m\u001b[31m───────────────────────────────\u001b[0m\u001b[31m─╮\u001b[0m\n",
       "\u001b[31m│\u001b[0m in \u001b[92m<module>\u001b[0m:\u001b[94m2\u001b[0m                                                                                    \u001b[31m│\u001b[0m\n",
       "\u001b[31m│\u001b[0m                                                                                                  \u001b[31m│\u001b[0m\n",
       "\u001b[31m│\u001b[0m   \u001b[2m1 \u001b[0m\u001b[2m# Show the first few rows to verify renaming and data type conversion\u001b[0m                        \u001b[31m│\u001b[0m\n",
       "\u001b[31m│\u001b[0m \u001b[31m❱ \u001b[0m2 encounters_df.info()                                                                         \u001b[31m│\u001b[0m\n",
       "\u001b[31m│\u001b[0m   \u001b[2m3 \u001b[0m                                                                                             \u001b[31m│\u001b[0m\n",
       "\u001b[31m│\u001b[0m                                                                                                  \u001b[31m│\u001b[0m\n",
       "\u001b[31m│\u001b[0m \u001b[2;33m/opt/anaconda3/envs/kedro-environment/lib/python3.10/site-packages/pyspark/sql/\u001b[0m\u001b[1;33mdataframe.py\u001b[0m:\u001b[94m3127\u001b[0m \u001b[31m│\u001b[0m\n",
       "\u001b[31m│\u001b[0m in \u001b[92m__getattr__\u001b[0m                                                                                   \u001b[31m│\u001b[0m\n",
       "\u001b[31m│\u001b[0m                                                                                                  \u001b[31m│\u001b[0m\n",
       "\u001b[31m│\u001b[0m   \u001b[2m3124 \u001b[0m\u001b[2;33m│   │   \u001b[0m\u001b[33m+---+\u001b[0m                                                                             \u001b[31m│\u001b[0m\n",
       "\u001b[31m│\u001b[0m   \u001b[2m3125 \u001b[0m\u001b[2;33m│   │   \u001b[0m\u001b[33m\"\"\"\u001b[0m                                                                               \u001b[31m│\u001b[0m\n",
       "\u001b[31m│\u001b[0m   \u001b[2m3126 \u001b[0m\u001b[2m│   │   \u001b[0m\u001b[94mif\u001b[0m name \u001b[95mnot\u001b[0m \u001b[95min\u001b[0m \u001b[96mself\u001b[0m.columns:                                                      \u001b[31m│\u001b[0m\n",
       "\u001b[31m│\u001b[0m \u001b[31m❱ \u001b[0m3127 \u001b[2m│   │   │   \u001b[0m\u001b[94mraise\u001b[0m \u001b[96mAttributeError\u001b[0m(                                                         \u001b[31m│\u001b[0m\n",
       "\u001b[31m│\u001b[0m   \u001b[2m3128 \u001b[0m\u001b[2m│   │   │   │   \u001b[0m\u001b[33m\"\u001b[0m\u001b[33m'\u001b[0m\u001b[33m%s\u001b[0m\u001b[33m'\u001b[0m\u001b[33m object has no attribute \u001b[0m\u001b[33m'\u001b[0m\u001b[33m%s\u001b[0m\u001b[33m'\u001b[0m\u001b[33m\"\u001b[0m % (\u001b[96mself\u001b[0m.\u001b[91m__class__\u001b[0m.\u001b[91m__name__\u001b[0m, name)     \u001b[31m│\u001b[0m\n",
       "\u001b[31m│\u001b[0m   \u001b[2m3129 \u001b[0m\u001b[2m│   │   │   \u001b[0m)                                                                             \u001b[31m│\u001b[0m\n",
       "\u001b[31m│\u001b[0m   \u001b[2m3130 \u001b[0m\u001b[2m│   │   \u001b[0mjc = \u001b[96mself\u001b[0m._jdf.apply(name)                                                        \u001b[31m│\u001b[0m\n",
       "\u001b[31m╰──────────────────────────────────────────────────────────────────────────────────────────────────╯\u001b[0m\n",
       "\u001b[1;91mAttributeError: \u001b[0m\u001b[32m'DataFrame'\u001b[0m object has no attribute \u001b[32m'info'\u001b[0m\n"
      ]
     },
     "metadata": {},
     "output_type": "display_data"
    }
   ],
   "source": [
    "# Show the first few rows to verify renaming and data type conversion\n",
    "encounters_df.info()\n"
   ]
  },
  {
   "cell_type": "code",
   "execution_count": 25,
   "id": "c715ff42-5146-4d6f-b614-3147869d8e53",
   "metadata": {},
   "outputs": [
    {
     "data": {
      "text/html": [
       "<pre style=\"white-space:pre;overflow-x:auto;line-height:normal;font-family:Menlo,'DejaVu Sans Mono',consolas,'Courier New',monospace\"><span style=\"color: #7fbfbf; text-decoration-color: #7fbfbf\">[07/19/24 00:04:04] </span><span style=\"color: #000080; text-decoration-color: #000080\">INFO    </span> Loading data from <span style=\"color: #ff8700; text-decoration-color: #ff8700\">cleaned_symptoms</span> <span style=\"font-weight: bold\">(</span>CSVDataset<span style=\"font-weight: bold\">)</span><span style=\"color: #808000; text-decoration-color: #808000\">...</span>                 <a href=\"file:///opt/anaconda3/envs/kedro-environment/lib/python3.10/site-packages/kedro/io/data_catalog.py\" target=\"_blank\"><span style=\"color: #7f7f7f; text-decoration-color: #7f7f7f\">data_catalog.py</span></a><span style=\"color: #7f7f7f; text-decoration-color: #7f7f7f\">:</span><a href=\"file:///opt/anaconda3/envs/kedro-environment/lib/python3.10/site-packages/kedro/io/data_catalog.py#508\" target=\"_blank\"><span style=\"color: #7f7f7f; text-decoration-color: #7f7f7f\">508</span></a>\n",
       "</pre>\n"
      ],
      "text/plain": [
       "\u001b[2;36m[07/19/24 00:04:04]\u001b[0m\u001b[2;36m \u001b[0m\u001b[34mINFO    \u001b[0m Loading data from \u001b[38;5;208mcleaned_symptoms\u001b[0m \u001b[1m(\u001b[0mCSVDataset\u001b[1m)\u001b[0m\u001b[33m...\u001b[0m                 \u001b]8;id=319192;file:///opt/anaconda3/envs/kedro-environment/lib/python3.10/site-packages/kedro/io/data_catalog.py\u001b\\\u001b[2mdata_catalog.py\u001b[0m\u001b]8;;\u001b\\\u001b[2m:\u001b[0m\u001b]8;id=868193;file:///opt/anaconda3/envs/kedro-environment/lib/python3.10/site-packages/kedro/io/data_catalog.py#508\u001b\\\u001b[2m508\u001b[0m\u001b]8;;\u001b\\\n"
      ]
     },
     "metadata": {},
     "output_type": "display_data"
    },
    {
     "name": "stdout",
     "output_type": "stream",
     "text": [
      "                             patient_id   race    ethnicity  age_begin  \\\n",
      "0  28d7b56c-6056-d0a2-2991-39d6e917216c  white     hispanic         26   \n",
      "1  6c434506-fb4b-3e3f-c19d-553dec3b6c17  black     hispanic         58   \n",
      "2  44a8ca45-6c6e-38bb-fac0-ddbf7a7ee3a4  white  nonhispanic         50   \n",
      "3  780ec78c-22a0-fcdb-17c6-ae9b2fcace9c  white     hispanic         39   \n",
      "4  cf5956bb-34f2-841b-2505-57b99991c377  white  nonhispanic         29   \n",
      "\n",
      "   age_end            pathology  num_symptoms  \\\n",
      "0      NaN  Lupus erythematosus             4   \n",
      "1      NaN  Lupus erythematosus             4   \n",
      "2      NaN  Lupus erythematosus             4   \n",
      "3      NaN  Lupus erythematosus             4   \n",
      "4      NaN  Lupus erythematosus             3   \n",
      "\n",
      "                                    symptoms  \n",
      "0   Rash:34;Joint Pain:39;Fatigue:9;Fever:12  \n",
      "1  Rash:19;Joint Pain:44;Fatigue:48;Fever:15  \n",
      "2    Rash:2;Joint Pain:32;Fatigue:12;Fever:6  \n",
      "3  Rash:30;Joint Pain:30;Fatigue:41;Fever:19  \n",
      "4   Rash:28;Joint Pain:26;Fatigue:33;Fever:5  \n",
      "                             patient_id   race    ethnicity  age_begin  \\\n",
      "0  28d7b56c-6056-d0a2-2991-39d6e917216c  white     hispanic         26   \n",
      "1  6c434506-fb4b-3e3f-c19d-553dec3b6c17  black     hispanic         58   \n",
      "2  44a8ca45-6c6e-38bb-fac0-ddbf7a7ee3a4  white  nonhispanic         50   \n",
      "3  780ec78c-22a0-fcdb-17c6-ae9b2fcace9c  white     hispanic         39   \n",
      "4  cf5956bb-34f2-841b-2505-57b99991c377  white  nonhispanic         29   \n",
      "\n",
      "   age_end            pathology  num_symptoms  Rash_symptoms  \\\n",
      "0      NaN  Lupus erythematosus             4             34   \n",
      "1      NaN  Lupus erythematosus             4             19   \n",
      "2      NaN  Lupus erythematosus             4              2   \n",
      "3      NaN  Lupus erythematosus             4             30   \n",
      "4      NaN  Lupus erythematosus             3             28   \n",
      "\n",
      "   joint_pain_symptoms  fatigue_symptoms  fever_symptoms  \n",
      "0                   39                 9              12  \n",
      "1                   44                48              15  \n",
      "2                   32                12               6  \n",
      "3                   30                41              19  \n",
      "4                   26                33               5  \n"
     ]
    }
   ],
   "source": [
    "cleaned_symptoms = catalog.load(\"cleaned_symptoms\")\n",
    "\n",
    "print(cleaned_symptoms.head())\n",
    "\n",
    "# Function to split the SYMPTOMS column into four separate columns\n",
    "def extract_symptoms(symptoms_str):\n",
    "    symptoms = symptoms_str.split(';')\n",
    "    symptoms_dict = {}\n",
    "    for symptom in symptoms:\n",
    "        symptom_name, symptom_value = symptom.split(':')\n",
    "        symptoms_dict[symptom_name + \"_symptoms\"] = int(symptom_value)\n",
    "    return symptoms_dict\n",
    "\n",
    "# Apply the function to extract symptoms\n",
    "symptoms_extracted = cleaned_symptoms['symptoms'].apply(extract_symptoms)\n",
    "symptoms_df = pd.json_normalize(symptoms_extracted).fillna(0)\n",
    "symptoms_df.rename(columns={\n",
    "        'Joint Pain_symptoms': 'joint_pain_symptoms',\n",
    "        'Fatigue_symptoms': 'fatigue_symptoms',\n",
    "        'Fever_symptoms':'fever_symptoms'\n",
    "    }, inplace=True)\n",
    "\n",
    "# Join the extracted symptoms with the original DataFrame (excluding the original SYMPTOMS column)\n",
    "cleaned_symptoms = cleaned_symptoms.join(symptoms_df)\n",
    "cleaned_symptoms = cleaned_symptoms.drop(columns=['symptoms'])\n",
    "\n",
    "\n",
    "\n",
    "# # Save the transformed DataFrame to the specified output location\n",
    "# cleaned_symptoms.to_csv(\"data/03_primary/primary_symptoms.csv\", index=False)\n",
    "\n",
    "# Display the first few rows of the transformed DataFrame\n",
    "print(cleaned_symptoms.head())"
   ]
  },
  {
   "cell_type": "code",
   "execution_count": 4,
   "id": "dd9b90ac-2a47-4e47-a789-b6f936761b98",
   "metadata": {},
   "outputs": [],
   "source": [
    "# Duplicate records"
   ]
  },
  {
   "cell_type": "code",
   "execution_count": 9,
   "id": "6ac9178c-b1f1-4cd2-aa9f-cddefb50cdbc",
   "metadata": {},
   "outputs": [
    {
     "name": "stdout",
     "output_type": "stream",
     "text": [
      "Number of duplicate records: 0\n",
      "                      START                  STOP  \\\n",
      "0      2020-04-22T02:47:09Z                   NaN   \n",
      "1      2020-04-22T02:47:09Z  2020-05-17T02:47:09Z   \n",
      "2      2021-08-01T02:47:09Z  2021-08-15T02:47:09Z   \n",
      "3      2021-08-01T02:47:09Z  2021-08-15T02:47:09Z   \n",
      "4      2023-05-18T02:47:09Z  2023-06-14T02:47:09Z   \n",
      "...                     ...                   ...   \n",
      "22232  2019-12-28T14:26:30Z  2020-01-17T14:26:30Z   \n",
      "22233  2021-09-22T14:26:30Z  2021-10-14T14:26:30Z   \n",
      "22234  2021-09-22T14:26:30Z  2021-10-14T14:26:30Z   \n",
      "22235  2023-04-13T13:10:12Z  2023-05-10T13:10:12Z   \n",
      "22236  2023-04-13T13:10:12Z  2023-05-10T13:10:12Z   \n",
      "\n",
      "                                    PATIENT  \\\n",
      "0      28d7b56c-6056-d0a2-2991-39d6e917216c   \n",
      "1      28d7b56c-6056-d0a2-2991-39d6e917216c   \n",
      "2      28d7b56c-6056-d0a2-2991-39d6e917216c   \n",
      "3      28d7b56c-6056-d0a2-2991-39d6e917216c   \n",
      "4      28d7b56c-6056-d0a2-2991-39d6e917216c   \n",
      "...                                     ...   \n",
      "22232  8d116ace-7fb6-7d5f-b86b-94547cbd796d   \n",
      "22233  8d116ace-7fb6-7d5f-b86b-94547cbd796d   \n",
      "22234  8d116ace-7fb6-7d5f-b86b-94547cbd796d   \n",
      "22235  8d116ace-7fb6-7d5f-b86b-94547cbd796d   \n",
      "22236  8d116ace-7fb6-7d5f-b86b-94547cbd796d   \n",
      "\n",
      "                                      PAYER  \\\n",
      "0      0133f751-9229-3cfd-815f-b6d4979bdd6a   \n",
      "1      0133f751-9229-3cfd-815f-b6d4979bdd6a   \n",
      "2      0133f751-9229-3cfd-815f-b6d4979bdd6a   \n",
      "3      0133f751-9229-3cfd-815f-b6d4979bdd6a   \n",
      "4      0133f751-9229-3cfd-815f-b6d4979bdd6a   \n",
      "...                                     ...   \n",
      "22232  8fa6c185-e44e-3e34-8bd8-39be8694f4ce   \n",
      "22233  734afbd6-4794-363b-9bc0-6a3981533ed5   \n",
      "22234  734afbd6-4794-363b-9bc0-6a3981533ed5   \n",
      "22235  734afbd6-4794-363b-9bc0-6a3981533ed5   \n",
      "22236  734afbd6-4794-363b-9bc0-6a3981533ed5   \n",
      "\n",
      "                                  ENCOUNTER    CODE  \\\n",
      "0      402DFAEB-1888-F562-4651-F75203EB1E28  849574   \n",
      "1      402DFAEB-1888-F562-4651-F75203EB1E28  312615   \n",
      "2      FBC2F3B3-AB93-707E-AD9E-337990345F32  241834   \n",
      "3      FBC2F3B3-AB93-707E-AD9E-337990345F32  312615   \n",
      "4      E3989F64-4D5B-32E0-9EDC-7874A02F45E8  241834   \n",
      "...                                     ...     ...   \n",
      "22232  49E9369B-EF5E-22CB-5F7C-B5E3035841D2  312615   \n",
      "22233  DA11A1E4-491D-50AC-2704-C80862EF10D9  241834   \n",
      "22234  DA11A1E4-491D-50AC-2704-C80862EF10D9  312615   \n",
      "22235  48BD83C4-5F36-4BD4-A8AC-1E0A5D1AFC2D  241834   \n",
      "22236  48BD83C4-5F36-4BD4-A8AC-1E0A5D1AFC2D  312615   \n",
      "\n",
      "                                      DESCRIPTION  BASE_COST  PAYER_COVERAGE  \\\n",
      "0              Naproxen sodium 220 MG Oral Tablet     274.28             0.0   \n",
      "1                    predniSONE 20 MG Oral Tablet      16.04             0.0   \n",
      "2      cycloSPORINE  modified 100 MG Oral Capsule     473.61             0.0   \n",
      "3                    predniSONE 20 MG Oral Tablet       8.21             0.0   \n",
      "4      cycloSPORINE  modified 100 MG Oral Capsule     408.04             0.0   \n",
      "...                                           ...        ...             ...   \n",
      "22232                predniSONE 20 MG Oral Tablet      12.24             0.0   \n",
      "22233  cyclosporine  modified 100 mg oral capsule     265.17             0.0   \n",
      "22234                predniSONE 20 MG Oral Tablet      13.37             0.0   \n",
      "22235  cycloSPORINE  modified 100 MG Oral Capsule     233.49             0.0   \n",
      "22236                predniSONE 20 MG Oral Tablet      12.78             0.0   \n",
      "\n",
      "       DISPENSES  TOTALCOST   REASONCODE    REASONDESCRIPTION  \n",
      "0             45   12342.60  200936003.0  Lupus erythematosus  \n",
      "1              1      16.04  200936003.0  Lupus erythematosus  \n",
      "2              1     473.61  200936003.0  Lupus erythematosus  \n",
      "3              1       8.21  200936003.0  Lupus erythematosus  \n",
      "4              1     408.04  200936003.0  Lupus erythematosus  \n",
      "...          ...        ...          ...                  ...  \n",
      "22232          1      12.24  200936003.0  Lupus erythematosus  \n",
      "22233          1     265.17  200936003.0  Lupus erythematosus  \n",
      "22234          1      13.37  200936003.0  Lupus erythematosus  \n",
      "22235          1     233.49  200936003.0  Lupus erythematosus  \n",
      "22236          1      12.78  200936003.0  Lupus erythematosus  \n",
      "\n",
      "[22237 rows x 13 columns]\n"
     ]
    }
   ],
   "source": [
    "# Assuming medications_df is your DataFrame\n",
    "\n",
    "# Count the number of duplicate records\n",
    "duplicate_count = medications_df.duplicated().sum()\n",
    "\n",
    "# Show the number of duplicate records\n",
    "print(f\"Number of duplicate records: {duplicate_count}\")\n",
    "\n",
    "# Remove duplicate records from the DataFrame\n",
    "medications_df = medications_df.drop_duplicates()\n",
    "\n",
    "# Verify the DataFrame after removing duplicates\n",
    "print(medications_df)\n"
   ]
  },
  {
   "cell_type": "code",
   "execution_count": null,
   "id": "39a5737f-3b5a-463e-9c34-847814b2c335",
   "metadata": {},
   "outputs": [],
   "source": [
    "# Load datasets\n",
    "patients_df = catalog.load(\"patients\")\n",
    "\n",
    "print(\"patients data loaded..\")\n",
    "\n",
    "# 1. Display Basic Information\n",
    "def basic_info(df):\n",
    "    print(\"Dataset Shape:\", df.shape)\n",
    "    print(\"\\nColumn Names:\", df.columns)\n",
    "    print(\"\\nData Types:\\n\", df.dtypes)\n",
    "    print(\"\\nMissing Values:\\n\", df.isnull().sum())\n",
    "    print(\"\\nDuplicate Records:\", df.duplicated().sum())\n",
    "\n",
    "basic_info(patients_df)\n",
    "\n",
    "# 2. Summary Statistics\n",
    "def summary_statistics(df):\n",
    "    print(\"\\nSummary Statistics:\\n\", df.describe(include='all'))\n",
    "\n",
    "summary_statistics(patients_df)\n",
    "\n",
    "# 3. Visualizations\n",
    "\n",
    "# 3.1 Missing Values Heatmap\n",
    "def plot_missing_values(df):\n",
    "    plt.figure(figsize=(12, 6))\n",
    "    sns.heatmap(df.isnull(), cbar=False, cmap='viridis')\n",
    "    plt.title('Missing Values Heatmap')\n",
    "    plt.show()\n",
    "\n",
    "plot_missing_values(patients_df)\n",
    "\n",
    "# 3.2 Distribution of Numerical Columns\n",
    "def plot_numerical_distributions(df):\n",
    "    numerical_columns = df.select_dtypes(include=[np.number]).columns.tolist()\n",
    "    \n",
    "    plt.figure(figsize=(16, 12))\n",
    "    for i, col in enumerate(numerical_columns, 1):\n",
    "        plt.subplot(4, 3, i)\n",
    "        sns.histplot(df[col].dropna(), kde=True)\n",
    "        plt.title(f'Distribution of {col}')\n",
    "    plt.tight_layout()\n",
    "    plt.show()\n",
    "\n",
    "plot_numerical_distributions(patients_df)\n",
    "\n",
    "# 3.3 Count of Categorical Columns\n",
    "def plot_categorical_counts(df):\n",
    "    categorical_columns = df.select_dtypes(include=['object']).columns.tolist()\n",
    "    \n",
    "    plt.figure(figsize=(16, 20))\n",
    "    for i, col in enumerate(categorical_columns, 1):\n",
    "        plt.subplot(7, 4, i)\n",
    "        sns.countplot(y=df[col], order=df[col].value_counts().index)\n",
    "        plt.title(f'Count of {col}')\n",
    "    plt.tight_layout()\n",
    "    plt.show()\n",
    "\n",
    "plot_categorical_counts(patients_df)\n",
    "\n",
    "# 3.4 Correlation Heatmap\n",
    "def plot_correlation_heatmap(df):\n",
    "    plt.figure(figsize=(12, 8))\n",
    "    correlation_matrix = df.select_dtypes(include=[np.number]).corr()\n",
    "    sns.heatmap(correlation_matrix, annot=True, cmap='coolwarm', fmt='.2f', linewidths=.5)\n",
    "    plt.title('Correlation Heatmap')\n",
    "    plt.show()\n",
    "\n",
    "plot_correlation_heatmap(patients_df)\n",
    "\n",
    "# 4. Summary of Issues\n",
    "def summarize_issues(df):\n",
    "    print(\"\\nSummary of Data Quality Issues:\")\n",
    "    \n",
    "    # Check for missing values\n",
    "    missing_values = df.isnull().sum()\n",
    "    print(\"\\nMissing Values:\")\n",
    "    print(missing_values[missing_values > 0])\n",
    "    \n",
    "    # Check for duplicate records\n",
    "    duplicate_count = df.duplicated().sum()\n",
    "    print(\"\\nDuplicate Records:\", duplicate_count)\n",
    "    \n",
    "    # Check for invalid data\n",
    "    print(\"\\nInvalid Data Checks (Example):\")\n",
    "    # Example: Check if all SSNs start with '999' (could be invalid or placeholder)\n",
    "    invalid_ssns = df['ssn'].str.startswith('999').sum()\n",
    "    print(\"SSNs starting with '999':\", invalid_ssns)\n",
    "    \n",
    "    # Check for outliers (e.g., latitudes and longitudes)\n",
    "    print(\"\\nOutlier Checks:\")\n",
    "    numerical_columns = df.select_dtypes(include=[np.number]).columns.tolist()\n",
    "    for col in numerical_columns:\n",
    "        if col not in ['latitude', 'longitude']:  # Skipping lat/long here for simplicity\n",
    "            q1 = df[col].quantile(0.25)\n",
    "            q3 = df[col].quantile(0.75)\n",
    "            iqr = q3 - q1\n",
    "            outliers = ((df[col] < (q1 - 1.5 * iqr)) | (df[col] > (q3 + 1.5 * iqr))).sum()\n",
    "            print(f\"Outliers in {col}:\", outliers)\n",
    "\n",
    "summarize_issues(patients_df)"
   ]
  },
  {
   "cell_type": "code",
   "execution_count": 3,
   "id": "3c583a22-5670-4ff7-b6ef-22de9e3a1093",
   "metadata": {},
   "outputs": [
    {
     "data": {
      "text/html": [
       "<pre style=\"white-space:pre;overflow-x:auto;line-height:normal;font-family:Menlo,'DejaVu Sans Mono',consolas,'Courier New',monospace\"><span style=\"color: #7fbfbf; text-decoration-color: #7fbfbf\">[07/21/24 21:00:32] </span><span style=\"color: #000080; text-decoration-color: #000080\">INFO    </span> Loading data from <span style=\"color: #ff8700; text-decoration-color: #ff8700\">healthcare_master</span> <span style=\"font-weight: bold\">(</span>SparkDataset<span style=\"font-weight: bold\">)</span><span style=\"color: #808000; text-decoration-color: #808000\">...</span>              <a href=\"file:///opt/anaconda3/envs/kedro-environment/lib/python3.10/site-packages/kedro/io/data_catalog.py\" target=\"_blank\"><span style=\"color: #7f7f7f; text-decoration-color: #7f7f7f\">data_catalog.py</span></a><span style=\"color: #7f7f7f; text-decoration-color: #7f7f7f\">:</span><a href=\"file:///opt/anaconda3/envs/kedro-environment/lib/python3.10/site-packages/kedro/io/data_catalog.py#508\" target=\"_blank\"><span style=\"color: #7f7f7f; text-decoration-color: #7f7f7f\">508</span></a>\n",
       "</pre>\n"
      ],
      "text/plain": [
       "\u001b[2;36m[07/21/24 21:00:32]\u001b[0m\u001b[2;36m \u001b[0m\u001b[34mINFO    \u001b[0m Loading data from \u001b[38;5;208mhealthcare_master\u001b[0m \u001b[1m(\u001b[0mSparkDataset\u001b[1m)\u001b[0m\u001b[33m...\u001b[0m              \u001b]8;id=597712;file:///opt/anaconda3/envs/kedro-environment/lib/python3.10/site-packages/kedro/io/data_catalog.py\u001b\\\u001b[2mdata_catalog.py\u001b[0m\u001b]8;;\u001b\\\u001b[2m:\u001b[0m\u001b]8;id=354168;file:///opt/anaconda3/envs/kedro-environment/lib/python3.10/site-packages/kedro/io/data_catalog.py#508\u001b\\\u001b[2m508\u001b[0m\u001b]8;;\u001b\\\n"
      ]
     },
     "metadata": {},
     "output_type": "display_data"
    },
    {
     "name": "stderr",
     "output_type": "stream",
     "text": [
      "                                                                                \r"
     ]
    }
   ],
   "source": [
    "healthcare_master_df = catalog.load(\"healthcare_master\")"
   ]
  },
  {
   "cell_type": "code",
   "execution_count": 24,
   "id": "18b26ea0-5452-4835-993f-a7cb053d2cdd",
   "metadata": {},
   "outputs": [
    {
     "data": {
      "text/html": [
       "<pre style=\"white-space:pre;overflow-x:auto;line-height:normal;font-family:Menlo,'DejaVu Sans Mono',consolas,'Courier New',monospace\"><span style=\"color: #7fbfbf; text-decoration-color: #7fbfbf\">[07/22/24 02:19:37] </span><span style=\"color: #000080; text-decoration-color: #000080\">INFO    </span> Loading data from <span style=\"color: #ff8700; text-decoration-color: #ff8700\">healthcare_master</span> <span style=\"font-weight: bold\">(</span>SparkDataset<span style=\"font-weight: bold\">)</span><span style=\"color: #808000; text-decoration-color: #808000\">...</span>              <a href=\"file:///opt/anaconda3/envs/kedro-environment/lib/python3.8/site-packages/kedro/io/data_catalog.py\" target=\"_blank\"><span style=\"color: #7f7f7f; text-decoration-color: #7f7f7f\">data_catalog.py</span></a><span style=\"color: #7f7f7f; text-decoration-color: #7f7f7f\">:</span><a href=\"file:///opt/anaconda3/envs/kedro-environment/lib/python3.8/site-packages/kedro/io/data_catalog.py#508\" target=\"_blank\"><span style=\"color: #7f7f7f; text-decoration-color: #7f7f7f\">508</span></a>\n",
       "</pre>\n"
      ],
      "text/plain": [
       "\u001b[2;36m[07/22/24 02:19:37]\u001b[0m\u001b[2;36m \u001b[0m\u001b[34mINFO    \u001b[0m Loading data from \u001b[38;5;208mhealthcare_master\u001b[0m \u001b[1m(\u001b[0mSparkDataset\u001b[1m)\u001b[0m\u001b[33m...\u001b[0m              \u001b]8;id=571371;file:///opt/anaconda3/envs/kedro-environment/lib/python3.8/site-packages/kedro/io/data_catalog.py\u001b\\\u001b[2mdata_catalog.py\u001b[0m\u001b]8;;\u001b\\\u001b[2m:\u001b[0m\u001b]8;id=12957;file:///opt/anaconda3/envs/kedro-environment/lib/python3.8/site-packages/kedro/io/data_catalog.py#508\u001b\\\u001b[2m508\u001b[0m\u001b]8;;\u001b\\\n"
      ]
     },
     "metadata": {},
     "output_type": "display_data"
    },
    {
     "name": "stdout",
     "output_type": "stream",
     "text": [
      "root\n",
      " |-- patient_id: string (nullable = true)\n",
      " |-- birth_date: date (nullable = true)\n",
      " |-- social_security_number: string (nullable = true)\n",
      " |-- driversLicense: string (nullable = true)\n",
      " |-- passport: string (nullable = true)\n",
      " |-- prefix: string (nullable = true)\n",
      " |-- first_name: string (nullable = true)\n",
      " |-- last_name: string (nullable = true)\n",
      " |-- suffix: string (nullable = true)\n",
      " |-- maiden_name: string (nullable = true)\n",
      " |-- marital_status: string (nullable = true)\n",
      " |-- race: string (nullable = true)\n",
      " |-- ethnicity: string (nullable = true)\n",
      " |-- birthPlace: string (nullable = true)\n",
      " |-- address: string (nullable = true)\n",
      " |-- city: string (nullable = true)\n",
      " |-- state: string (nullable = true)\n",
      " |-- county: string (nullable = true)\n",
      " |-- Fips: integer (nullable = true)\n",
      " |-- zip_code: integer (nullable = true)\n",
      " |-- latitude: double (nullable = true)\n",
      " |-- longitude: double (nullable = true)\n",
      " |-- healthcare_expenses: double (nullable = true)\n",
      " |-- healthcare_coverage: double (nullable = true)\n",
      " |-- income: integer (nullable = true)\n",
      " |-- age: double (nullable = true)\n",
      " |-- GENDER: string (nullable = true)\n",
      " |-- pathology: string (nullable = true)\n",
      " |-- num_symptoms: integer (nullable = true)\n",
      " |-- Rash_symptoms: integer (nullable = true)\n",
      " |-- joint_pain_symptoms: integer (nullable = true)\n",
      " |-- fatigue_symptoms: integer (nullable = true)\n",
      " |-- fever_symptoms: integer (nullable = true)\n",
      " |-- recorded_date: string (nullable = true)\n",
      " |-- resolved_date: string (nullable = true)\n",
      " |-- encounter_id_fk: string (nullable = true)\n",
      " |-- source_code: string (nullable = true)\n",
      " |-- source_description: string (nullable = true)\n",
      " |-- prescribing_date: timestamp (nullable = true)\n",
      " |-- dispensing_date: timestamp (nullable = true)\n",
      " |-- payer_id: string (nullable = true)\n",
      " |-- encounter_id_fkm: string (nullable = true)\n",
      " |-- medication_code: integer (nullable = true)\n",
      " |-- medication_description: string (nullable = true)\n",
      " |-- base_cost: double (nullable = true)\n",
      " |-- payer_coverage: double (nullable = true)\n",
      " |-- dispenses: integer (nullable = true)\n",
      " |-- total_cost: double (nullable = true)\n",
      " |-- reason_code: decimal(9,0) (nullable = true)\n",
      " |-- reason_description: string (nullable = true)\n",
      " |-- encounter_id: string (nullable = true)\n",
      " |-- encounter_start_date: string (nullable = true)\n",
      " |-- encounter_end_date: string (nullable = true)\n",
      " |-- organization: string (nullable = true)\n",
      " |-- provider: string (nullable = true)\n",
      " |-- payer: string (nullable = true)\n",
      " |-- encounter_type: string (nullable = true)\n",
      " |-- code: string (nullable = true)\n",
      " |-- description: string (nullable = true)\n",
      " |-- paid_amount: string (nullable = true)\n",
      " |-- allowed_amount: string (nullable = true)\n",
      " |-- charge_amount: string (nullable = true)\n",
      " |-- admit_source_code: string (nullable = true)\n",
      " |-- admit_source_description: string (nullable = true)\n",
      "\n"
     ]
    }
   ],
   "source": [
    "healthcare_master_df = catalog.load(\"healthcare_master\")\n",
    "healthcare_master_df.printSchema()"
   ]
  },
  {
   "cell_type": "code",
   "execution_count": 23,
   "id": "ecadfa2e-7b6d-4d43-8809-2bd4cdf6dc42",
   "metadata": {},
   "outputs": [
    {
     "data": {
      "text/html": [
       "<pre style=\"white-space:pre;overflow-x:auto;line-height:normal;font-family:Menlo,'DejaVu Sans Mono',consolas,'Courier New',monospace\"><span style=\"color: #7fbfbf; text-decoration-color: #7fbfbf\">[07/22/24 02:18:21] </span><span style=\"color: #800000; text-decoration-color: #800000\">WARNING </span> <span style=\"color: #800080; text-decoration-color: #800080\">/opt/anaconda3/envs/kedro-environment/lib/python3.8/site-packages/pysp</span> <a href=\"file:///opt/anaconda3/envs/kedro-environment/lib/python3.8/warnings.py\" target=\"_blank\"><span style=\"color: #7f7f7f; text-decoration-color: #7f7f7f\">warnings.py</span></a><span style=\"color: #7f7f7f; text-decoration-color: #7f7f7f\">:</span><a href=\"file:///opt/anaconda3/envs/kedro-environment/lib/python3.8/warnings.py#109\" target=\"_blank\"><span style=\"color: #7f7f7f; text-decoration-color: #7f7f7f\">109</span></a>\n",
       "<span style=\"color: #7fbfbf; text-decoration-color: #7fbfbf\">                    </span>         <span style=\"color: #800080; text-decoration-color: #800080\">ark/sql/pandas/</span><span style=\"color: #ff00ff; text-decoration-color: #ff00ff\">utils.py</span>:<span style=\"color: #008080; text-decoration-color: #008080; font-weight: bold\">37</span>: DeprecationWarning: distutils Version      <span style=\"color: #7f7f7f; text-decoration-color: #7f7f7f\">               </span>\n",
       "<span style=\"color: #7fbfbf; text-decoration-color: #7fbfbf\">                    </span>         classes are deprecated. Use packaging.version instead.                 <span style=\"color: #7f7f7f; text-decoration-color: #7f7f7f\">               </span>\n",
       "<span style=\"color: #7fbfbf; text-decoration-color: #7fbfbf\">                    </span>           if <span style=\"color: #800080; text-decoration-color: #800080; font-weight: bold\">LooseVersion</span><span style=\"font-weight: bold\">(</span>pandas.__version__<span style=\"font-weight: bold\">)</span> &lt;                                <span style=\"color: #7f7f7f; text-decoration-color: #7f7f7f\">               </span>\n",
       "<span style=\"color: #7fbfbf; text-decoration-color: #7fbfbf\">                    </span>         <span style=\"color: #800080; text-decoration-color: #800080; font-weight: bold\">LooseVersion</span><span style=\"font-weight: bold\">(</span>minimum_pandas_version<span style=\"font-weight: bold\">)</span>:                                  <span style=\"color: #7f7f7f; text-decoration-color: #7f7f7f\">               </span>\n",
       "<span style=\"color: #7fbfbf; text-decoration-color: #7fbfbf\">                    </span>                                                                                <span style=\"color: #7f7f7f; text-decoration-color: #7f7f7f\">               </span>\n",
       "</pre>\n"
      ],
      "text/plain": [
       "\u001b[2;36m[07/22/24 02:18:21]\u001b[0m\u001b[2;36m \u001b[0m\u001b[31mWARNING \u001b[0m \u001b[35m/opt/anaconda3/envs/kedro-environment/lib/python3.8/site-packages/pysp\u001b[0m \u001b]8;id=749693;file:///opt/anaconda3/envs/kedro-environment/lib/python3.8/warnings.py\u001b\\\u001b[2mwarnings.py\u001b[0m\u001b]8;;\u001b\\\u001b[2m:\u001b[0m\u001b]8;id=501277;file:///opt/anaconda3/envs/kedro-environment/lib/python3.8/warnings.py#109\u001b\\\u001b[2m109\u001b[0m\u001b]8;;\u001b\\\n",
       "\u001b[2;36m                    \u001b[0m         \u001b[35mark/sql/pandas/\u001b[0m\u001b[95mutils.py\u001b[0m:\u001b[1;36m37\u001b[0m: DeprecationWarning: distutils Version      \u001b[2m               \u001b[0m\n",
       "\u001b[2;36m                    \u001b[0m         classes are deprecated. Use packaging.version instead.                 \u001b[2m               \u001b[0m\n",
       "\u001b[2;36m                    \u001b[0m           if \u001b[1;35mLooseVersion\u001b[0m\u001b[1m(\u001b[0mpandas.__version__\u001b[1m)\u001b[0m <                                \u001b[2m               \u001b[0m\n",
       "\u001b[2;36m                    \u001b[0m         \u001b[1;35mLooseVersion\u001b[0m\u001b[1m(\u001b[0mminimum_pandas_version\u001b[1m)\u001b[0m:                                  \u001b[2m               \u001b[0m\n",
       "\u001b[2;36m                    \u001b[0m                                                                                \u001b[2m               \u001b[0m\n"
      ]
     },
     "metadata": {},
     "output_type": "display_data"
    },
    {
     "data": {
      "text/html": [
       "<pre style=\"white-space:pre;overflow-x:auto;line-height:normal;font-family:Menlo,'DejaVu Sans Mono',consolas,'Courier New',monospace\"><span style=\"color: #7fbfbf; text-decoration-color: #7fbfbf\">                    </span><span style=\"color: #800000; text-decoration-color: #800000\">WARNING </span> <span style=\"color: #800080; text-decoration-color: #800080\">/opt/anaconda3/envs/kedro-environment/lib/python3.8/site-packages/pysp</span> <a href=\"file:///opt/anaconda3/envs/kedro-environment/lib/python3.8/warnings.py\" target=\"_blank\"><span style=\"color: #7f7f7f; text-decoration-color: #7f7f7f\">warnings.py</span></a><span style=\"color: #7f7f7f; text-decoration-color: #7f7f7f\">:</span><a href=\"file:///opt/anaconda3/envs/kedro-environment/lib/python3.8/warnings.py#109\" target=\"_blank\"><span style=\"color: #7f7f7f; text-decoration-color: #7f7f7f\">109</span></a>\n",
       "<span style=\"color: #7fbfbf; text-decoration-color: #7fbfbf\">                    </span>         <span style=\"color: #800080; text-decoration-color: #800080\">ark/sql/pandas/</span><span style=\"color: #ff00ff; text-decoration-color: #ff00ff\">utils.py</span>:<span style=\"color: #008080; text-decoration-color: #008080; font-weight: bold\">64</span>: DeprecationWarning: distutils Version      <span style=\"color: #7f7f7f; text-decoration-color: #7f7f7f\">               </span>\n",
       "<span style=\"color: #7fbfbf; text-decoration-color: #7fbfbf\">                    </span>         classes are deprecated. Use packaging.version instead.                 <span style=\"color: #7f7f7f; text-decoration-color: #7f7f7f\">               </span>\n",
       "<span style=\"color: #7fbfbf; text-decoration-color: #7fbfbf\">                    </span>           if <span style=\"color: #800080; text-decoration-color: #800080; font-weight: bold\">LooseVersion</span><span style=\"font-weight: bold\">(</span>pyarrow.__version__<span style=\"font-weight: bold\">)</span> &lt;                               <span style=\"color: #7f7f7f; text-decoration-color: #7f7f7f\">               </span>\n",
       "<span style=\"color: #7fbfbf; text-decoration-color: #7fbfbf\">                    </span>         <span style=\"color: #800080; text-decoration-color: #800080; font-weight: bold\">LooseVersion</span><span style=\"font-weight: bold\">(</span>minimum_pyarrow_version<span style=\"font-weight: bold\">)</span>:                                 <span style=\"color: #7f7f7f; text-decoration-color: #7f7f7f\">               </span>\n",
       "<span style=\"color: #7fbfbf; text-decoration-color: #7fbfbf\">                    </span>                                                                                <span style=\"color: #7f7f7f; text-decoration-color: #7f7f7f\">               </span>\n",
       "</pre>\n"
      ],
      "text/plain": [
       "\u001b[2;36m                   \u001b[0m\u001b[2;36m \u001b[0m\u001b[31mWARNING \u001b[0m \u001b[35m/opt/anaconda3/envs/kedro-environment/lib/python3.8/site-packages/pysp\u001b[0m \u001b]8;id=244328;file:///opt/anaconda3/envs/kedro-environment/lib/python3.8/warnings.py\u001b\\\u001b[2mwarnings.py\u001b[0m\u001b]8;;\u001b\\\u001b[2m:\u001b[0m\u001b]8;id=452455;file:///opt/anaconda3/envs/kedro-environment/lib/python3.8/warnings.py#109\u001b\\\u001b[2m109\u001b[0m\u001b]8;;\u001b\\\n",
       "\u001b[2;36m                    \u001b[0m         \u001b[35mark/sql/pandas/\u001b[0m\u001b[95mutils.py\u001b[0m:\u001b[1;36m64\u001b[0m: DeprecationWarning: distutils Version      \u001b[2m               \u001b[0m\n",
       "\u001b[2;36m                    \u001b[0m         classes are deprecated. Use packaging.version instead.                 \u001b[2m               \u001b[0m\n",
       "\u001b[2;36m                    \u001b[0m           if \u001b[1;35mLooseVersion\u001b[0m\u001b[1m(\u001b[0mpyarrow.__version__\u001b[1m)\u001b[0m <                               \u001b[2m               \u001b[0m\n",
       "\u001b[2;36m                    \u001b[0m         \u001b[1;35mLooseVersion\u001b[0m\u001b[1m(\u001b[0mminimum_pyarrow_version\u001b[1m)\u001b[0m:                                 \u001b[2m               \u001b[0m\n",
       "\u001b[2;36m                    \u001b[0m                                                                                \u001b[2m               \u001b[0m\n"
      ]
     },
     "metadata": {},
     "output_type": "display_data"
    },
    {
     "data": {
      "text/html": [
       "<pre style=\"white-space:pre;overflow-x:auto;line-height:normal;font-family:Menlo,'DejaVu Sans Mono',consolas,'Courier New',monospace\"><span style=\"color: #7fbfbf; text-decoration-color: #7fbfbf\">                    </span><span style=\"color: #800000; text-decoration-color: #800000\">WARNING </span> <span style=\"color: #800080; text-decoration-color: #800080\">/opt/anaconda3/envs/kedro-environment/lib/python3.8/site-packages/pysp</span> <a href=\"file:///opt/anaconda3/envs/kedro-environment/lib/python3.8/warnings.py\" target=\"_blank\"><span style=\"color: #7f7f7f; text-decoration-color: #7f7f7f\">warnings.py</span></a><span style=\"color: #7f7f7f; text-decoration-color: #7f7f7f\">:</span><a href=\"file:///opt/anaconda3/envs/kedro-environment/lib/python3.8/warnings.py#109\" target=\"_blank\"><span style=\"color: #7f7f7f; text-decoration-color: #7f7f7f\">109</span></a>\n",
       "<span style=\"color: #7fbfbf; text-decoration-color: #7fbfbf\">                    </span>         <span style=\"color: #800080; text-decoration-color: #800080\">ark/sql/pandas/</span><span style=\"color: #ff00ff; text-decoration-color: #ff00ff\">utils.py</span>:<span style=\"color: #008080; text-decoration-color: #008080; font-weight: bold\">37</span>: DeprecationWarning: distutils Version      <span style=\"color: #7f7f7f; text-decoration-color: #7f7f7f\">               </span>\n",
       "<span style=\"color: #7fbfbf; text-decoration-color: #7fbfbf\">                    </span>         classes are deprecated. Use packaging.version instead.                 <span style=\"color: #7f7f7f; text-decoration-color: #7f7f7f\">               </span>\n",
       "<span style=\"color: #7fbfbf; text-decoration-color: #7fbfbf\">                    </span>           if <span style=\"color: #800080; text-decoration-color: #800080; font-weight: bold\">LooseVersion</span><span style=\"font-weight: bold\">(</span>pandas.__version__<span style=\"font-weight: bold\">)</span> &lt;                                <span style=\"color: #7f7f7f; text-decoration-color: #7f7f7f\">               </span>\n",
       "<span style=\"color: #7fbfbf; text-decoration-color: #7fbfbf\">                    </span>         <span style=\"color: #800080; text-decoration-color: #800080; font-weight: bold\">LooseVersion</span><span style=\"font-weight: bold\">(</span>minimum_pandas_version<span style=\"font-weight: bold\">)</span>:                                  <span style=\"color: #7f7f7f; text-decoration-color: #7f7f7f\">               </span>\n",
       "<span style=\"color: #7fbfbf; text-decoration-color: #7fbfbf\">                    </span>                                                                                <span style=\"color: #7f7f7f; text-decoration-color: #7f7f7f\">               </span>\n",
       "</pre>\n"
      ],
      "text/plain": [
       "\u001b[2;36m                   \u001b[0m\u001b[2;36m \u001b[0m\u001b[31mWARNING \u001b[0m \u001b[35m/opt/anaconda3/envs/kedro-environment/lib/python3.8/site-packages/pysp\u001b[0m \u001b]8;id=11274;file:///opt/anaconda3/envs/kedro-environment/lib/python3.8/warnings.py\u001b\\\u001b[2mwarnings.py\u001b[0m\u001b]8;;\u001b\\\u001b[2m:\u001b[0m\u001b]8;id=319245;file:///opt/anaconda3/envs/kedro-environment/lib/python3.8/warnings.py#109\u001b\\\u001b[2m109\u001b[0m\u001b]8;;\u001b\\\n",
       "\u001b[2;36m                    \u001b[0m         \u001b[35mark/sql/pandas/\u001b[0m\u001b[95mutils.py\u001b[0m:\u001b[1;36m37\u001b[0m: DeprecationWarning: distutils Version      \u001b[2m               \u001b[0m\n",
       "\u001b[2;36m                    \u001b[0m         classes are deprecated. Use packaging.version instead.                 \u001b[2m               \u001b[0m\n",
       "\u001b[2;36m                    \u001b[0m           if \u001b[1;35mLooseVersion\u001b[0m\u001b[1m(\u001b[0mpandas.__version__\u001b[1m)\u001b[0m <                                \u001b[2m               \u001b[0m\n",
       "\u001b[2;36m                    \u001b[0m         \u001b[1;35mLooseVersion\u001b[0m\u001b[1m(\u001b[0mminimum_pandas_version\u001b[1m)\u001b[0m:                                  \u001b[2m               \u001b[0m\n",
       "\u001b[2;36m                    \u001b[0m                                                                                \u001b[2m               \u001b[0m\n"
      ]
     },
     "metadata": {},
     "output_type": "display_data"
    },
    {
     "name": "stdout",
     "output_type": "stream",
     "text": [
      "<class 'pandas.core.frame.DataFrame'>\n",
      "RangeIndex: 22880 entries, 0 to 22879\n",
      "Data columns (total 64 columns):\n",
      " #   Column                    Non-Null Count  Dtype         \n",
      "---  ------                    --------------  -----         \n",
      " 0   patient_id                22880 non-null  object        \n",
      " 1   birth_date                22524 non-null  datetime64[ns]\n",
      " 2   social_security_number    22880 non-null  object        \n",
      " 3   driversLicense            20631 non-null  object        \n",
      " 4   passport                  20014 non-null  object        \n",
      " 5   prefix                    20300 non-null  object        \n",
      " 6   first_name                22880 non-null  object        \n",
      " 7   last_name                 22880 non-null  object        \n",
      " 8   suffix                    192 non-null    object        \n",
      " 9   maiden_name               7507 non-null   object        \n",
      " 10  marital_status            18844 non-null  object        \n",
      " 11  race                      22880 non-null  object        \n",
      " 12  ethnicity                 22880 non-null  object        \n",
      " 13  birthPlace                22880 non-null  object        \n",
      " 14  address                   22880 non-null  object        \n",
      " 15  city                      22880 non-null  object        \n",
      " 16  state                     22880 non-null  object        \n",
      " 17  county                    22880 non-null  object        \n",
      " 18  Fips                      22880 non-null  object        \n",
      " 19  zip_code                  22880 non-null  object        \n",
      " 20  latitude                  22880 non-null  object        \n",
      " 21  longitude                 22880 non-null  object        \n",
      " 22  healthcare_expenses       22577 non-null  object        \n",
      " 23  healthcare_coverage       22880 non-null  object        \n",
      " 24  income                    22880 non-null  object        \n",
      " 25  age                       22524 non-null  object        \n",
      " 26  GENDER                    22880 non-null  object        \n",
      " 27  pathology                 5169 non-null   object        \n",
      " 28  num_symptoms              5169 non-null   object        \n",
      " 29  Rash_symptoms             5169 non-null   object        \n",
      " 30  joint_pain_symptoms       5169 non-null   object        \n",
      " 31  fatigue_symptoms          5169 non-null   object        \n",
      " 32  fever_symptoms            5169 non-null   object        \n",
      " 33  recorded_date             0 non-null      object        \n",
      " 34  resolved_date             0 non-null      object        \n",
      " 35  encounter_id_fk           0 non-null      object        \n",
      " 36  source_code               0 non-null      object        \n",
      " 37  source_description        0 non-null      object        \n",
      " 38  prescribing_date          15519 non-null  datetime64[ns]\n",
      " 39  dispensing_date           15519 non-null  datetime64[ns]\n",
      " 40  payer_id                  15519 non-null  object        \n",
      " 41  encounter_id_fkm          15519 non-null  object        \n",
      " 42  medication_code           15519 non-null  object        \n",
      " 43  medication_description    15519 non-null  object        \n",
      " 44  base_cost                 15519 non-null  object        \n",
      " 45  payer_coverage            15519 non-null  object        \n",
      " 46  dispenses                 15519 non-null  object        \n",
      " 47  total_cost                15519 non-null  object        \n",
      " 48  reason_code               15519 non-null  object        \n",
      " 49  reason_description        15519 non-null  object        \n",
      " 50  encounter_id              0 non-null      object        \n",
      " 51  encounter_start_date      0 non-null      object        \n",
      " 52  encounter_end_date        0 non-null      object        \n",
      " 53  organization              0 non-null      object        \n",
      " 54  provider                  0 non-null      object        \n",
      " 55  payer                     0 non-null      object        \n",
      " 56  encounter_type            0 non-null      object        \n",
      " 57  code                      0 non-null      object        \n",
      " 58  description               0 non-null      string        \n",
      " 59  paid_amount               0 non-null      float64       \n",
      " 60  allowed_amount            0 non-null      object        \n",
      " 61  charge_amount             0 non-null      object        \n",
      " 62  admit_source_code         0 non-null      object        \n",
      " 63  admit_source_description  0 non-null      object        \n",
      "dtypes: datetime64[ns](3), float64(1), object(59), string(1)\n",
      "memory usage: 11.2+ MB\n",
      "None\n"
     ]
    }
   ],
   "source": [
    "import pandas as pd\n",
    "from pyspark.sql.types import TimestampType, StringType, IntegerType, DoubleType, DecimalType, DateType\n",
    "\n",
    "# Function to convert data types\n",
    "def convert_data_types(spark_df, pandas_df):\n",
    "    # Get the schema of the Spark DataFrame\n",
    "    schema = spark_df.schema\n",
    "\n",
    "    # Create a mapping of column names to Spark data types\n",
    "    column_type_mapping = {\n",
    "        field.name: field.dataType for field in schema\n",
    "    }\n",
    "\n",
    "    # Define the mapping from Spark to Pandas data types\n",
    "    pandas_type_mapping = {\n",
    "        StringType(): 'string',  # Pandas does not have a 'string' type, but 'object' is the closest equivalent\n",
    "        IntegerType(): 'int64',\n",
    "        DoubleType(): 'float64',\n",
    "        DecimalType(): 'float64',  # DecimalType can be mapped to float\n",
    "        DateType(): 'datetime64[ns]',\n",
    "        TimestampType(): 'datetime64[ns]',\n",
    "    }\n",
    "\n",
    "    # Convert data types in Pandas DataFrame\n",
    "    for column, spark_type in column_type_mapping.items():\n",
    "        if column in pandas_df.columns:\n",
    "            pandas_type = pandas_type_mapping.get(type(spark_type), 'object')\n",
    "\n",
    "            # Handle conversion for date and timestamp types\n",
    "            if isinstance(spark_type, (DateType, TimestampType)):\n",
    "                pandas_df[column] = pd.to_datetime(pandas_df[column], errors='coerce')\n",
    "            else:\n",
    "                pandas_df[column] = pandas_df[column].astype(pandas_type, errors='ignore')\n",
    "\n",
    "    return pandas_df\n",
    "\n",
    "# Example Spark DataFrame\n",
    "# healthcare_master_df = spark.read... (your Spark DataFrame loading logic here)\n",
    "\n",
    "# Convert Spark DataFrame to Pandas DataFrame\n",
    "pandas_df = healthcare_master_df.toPandas()\n",
    "\n",
    "# Convert data types in the Pandas DataFrame\n",
    "pandas_df = convert_data_types(healthcare_master_df, pandas_df)\n",
    "pandas_df['description'] = pandas_df['description'].astype('string')\n",
    "\n",
    "pandas_df['birth_date'] = pandas_df['birth_date'].astype('datetime64[ns]')\n",
    "\n",
    "pandas_df['paid_amount'] = pandas_df['paid_amount'].astype('float64')\n",
    "# Verify the data types\n",
    "print(pandas_df.info())\n"
   ]
  },
  {
   "cell_type": "code",
   "execution_count": null,
   "id": "16af9de5-f3a2-4527-ad8f-8c2df90b0637",
   "metadata": {},
   "outputs": [],
   "source": [
    "printSchema()"
   ]
  }
 ],
 "metadata": {
  "kernelspec": {
   "display_name": "Kedro (healthcare_etl_v3)",
   "language": "python",
   "name": "kedro_healthcare_etl_v3"
  },
  "language_info": {
   "codemirror_mode": {
    "name": "ipython",
    "version": 3
   },
   "file_extension": ".py",
   "mimetype": "text/x-python",
   "name": "python",
   "nbconvert_exporter": "python",
   "pygments_lexer": "ipython3",
   "version": "3.8.19"
  }
 },
 "nbformat": 4,
 "nbformat_minor": 5
}
